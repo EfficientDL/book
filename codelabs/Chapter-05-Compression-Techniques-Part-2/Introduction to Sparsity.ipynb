{
 "cells": [
  {
   "cell_type": "code",
   "execution_count": 30,
   "metadata": {},
   "outputs": [],
   "source": [
    "%%capture\n",
    "import gzip\n",
    "import operator, random\n",
    "\n",
    "import numpy as np\n",
    "import tensorflow as tf\n",
    "\n",
    "from functools import reduce\n",
    "from matplotlib import pyplot as plt"
   ]
  },
  {
   "cell_type": "markdown",
   "metadata": {},
   "source": [
    "## Sparsity improves Model Compression\n",
    "We use a randomly generated sample for this demonstration. We evaluate and compare the compression ratios achieved without and with sparsification. The expected outcome is higher compression ratio for the sparse model."
   ]
  },
  {
   "cell_type": "code",
   "execution_count": 2,
   "metadata": {},
   "outputs": [
    {
     "name": "stdout",
     "output_type": "stream",
     "text": [
      "Original Size: 40000\n",
      "Original Compressed Size: 35928\n",
      "Sparsified Compressed Size: 23944\n"
     ]
    }
   ],
   "source": [
    "weights = np.random.random(size=(100, 100)).astype(np.float32)\n",
    "sparsity_rate = 0.4 # The percentage of weights that are zeroed out.\n",
    "\n",
    "# Sparsify the weights by setting a fraction of the weights to zero.\n",
    "def sparsify_smallest(w, sr):\n",
    "    w = w.copy()\n",
    "    w_1d = np.reshape(w, -1)\n",
    "    w_1d_sorted = np.sort(w_1d)\n",
    "    threshold = w_1d_sorted[int(w_1d_sorted.size * sr)]\n",
    "\n",
    "    # Set the weights to zero if they are less than the threshold.\n",
    "    w[w < threshold] = 0\n",
    "\n",
    "    return w\n",
    "\n",
    "def compress_and_save(w):\n",
    "    # Compress the weights matrix using gzip.\n",
    "    compressed_w = gzip.compress(w.tobytes())\n",
    "    return compressed_w\n",
    "\n",
    "sparse_weights = sparsify_smallest(weights, sparsity_rate)\n",
    "\n",
    "print('Original Size:', reduce(operator.mul, weights.shape)*weights.itemsize)\n",
    "\n",
    "weights_compressed = compress_and_save(weights)\n",
    "print('Original Compressed Size:', len(weights_compressed))\n",
    "\n",
    "weights_sparsified_compressed = compress_and_save(sparse_weights)\n",
    "print('Sparsified Compressed Size:', len(weights_sparsified_compressed))"
   ]
  }
 ],
 "metadata": {
  "interpreter": {
   "hash": "ef4ac4ea1ec422be6b4eb59e3fa0ded4ce016edaf83e8378f1dbc473945965d7"
  },
  "kernelspec": {
   "display_name": "Python 3.9.10 ('base')",
   "language": "python",
   "name": "python3"
  },
  "language_info": {
   "codemirror_mode": {
    "name": "ipython",
    "version": 3
   },
   "file_extension": ".py",
   "mimetype": "text/x-python",
   "name": "python",
   "nbconvert_exporter": "python",
   "pygments_lexer": "ipython3",
   "version": "3.9.10"
  },
  "orig_nbformat": 4
 },
 "nbformat": 4,
 "nbformat_minor": 2
}

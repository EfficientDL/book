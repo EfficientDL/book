{
  "cells": [
    {
      "cell_type": "markdown",
      "source": [
        "* This is a **WIP colab**.\n",
        "* TODO:\n",
        "  - Add a graph comparing sizes at different sparsity levels."
      ],
      "metadata": {
        "id": "m45H6bGLO_lH"
      }
    },
    {
      "cell_type": "markdown",
      "source": [
        "# Sparsity\n",
        "\n",
        "This colab gives an intuition behind how sparsity improves model compression."
      ],
      "metadata": {
        "id": "EYRuZVMOOzN3"
      }
    },
    {
      "cell_type": "code",
      "execution_count": 1,
      "metadata": {
        "id": "R1LBLpBjOU38"
      },
      "outputs": [],
      "source": [
        "%%capture\n",
        "import gzip\n",
        "import operator, random\n",
        "\n",
        "import numpy as np\n",
        "import tensorflow as tf\n",
        "\n",
        "from functools import reduce\n",
        "from matplotlib import pyplot as plt"
      ]
    },
    {
      "cell_type": "markdown",
      "metadata": {
        "id": "o1X9RmkwOU3_"
      },
      "source": [
        "## Sparsity improves Model Compression\n",
        "We use a randomly generated sample for this demonstration. We evaluate and compare the compression ratios achieved without and with sparsification. The expected outcome is higher compression ratio for the sparse model."
      ]
    },
    {
      "cell_type": "code",
      "execution_count": 36,
      "metadata": {
        "colab": {
          "base_uri": "https://localhost:8080/"
        },
        "id": "UcUwUQ2kOU4A",
        "outputId": "85669497-3064-4bf8-ed5c-b003a391d597"
      },
      "outputs": [
        {
          "output_type": "stream",
          "name": "stdout",
          "text": [
            "Original Size: 40000\n",
            "Original Compressed Size: 37103\n",
            "Sparsified Compressed Size: 24844\n"
          ]
        }
      ],
      "source": [
        "# Sparsify the weights by setting a fraction of the weights to zero.\n",
        "def sparsify_smallest(w, sparsity_rate):\n",
        "  w = w.copy()\n",
        "  w_1d = np.reshape(w, (-1))\n",
        "  \n",
        "  # Create a list of indices that are sorted by the absolute magnitude of the\n",
        "  # weights.\n",
        "  w_1d_sorted_indices = np.argsort(np.abs(w_1d))\n",
        "\n",
        "  # Compute the number of elements to zero.\n",
        "  num_elements_to_zero = int(w_1d.shape[0] * sparsity_rate)\n",
        "\n",
        "  # Set the respective indices to zero.\n",
        "  w_1d[w_1d_sorted_indices[:num_elements_to_zero]] = 0.0\n",
        "\n",
        "  w = np.reshape(w_1d, w.shape)\n",
        "  return w\n",
        "\n",
        "def compress_and_save(w):\n",
        "  # Compress the weights matrix using gzip.\n",
        "  compressed_w = gzip.compress(w.tobytes())\n",
        "  return compressed_w\n",
        "\n",
        "weights = np.random.normal(size=(100, 100)).astype(np.float32)\n",
        "sparsity_rate = 0.4 # The percentage of weights that are zeroed out.\n",
        "\n",
        "sparse_weights = sparsify_smallest(weights, sparsity_rate)\n",
        "\n",
        "print('Original Size:', reduce(operator.mul, weights.shape)*weights.itemsize)\n",
        "\n",
        "weights_compressed = compress_and_save(weights)\n",
        "print('Original Compressed Size:', len(weights_compressed))\n",
        "\n",
        "weights_sparsified_compressed = compress_and_save(sparse_weights)\n",
        "print('Sparsified Compressed Size:', len(weights_sparsified_compressed))"
      ]
    }
  ],
  "metadata": {
    "interpreter": {
      "hash": "ef4ac4ea1ec422be6b4eb59e3fa0ded4ce016edaf83e8378f1dbc473945965d7"
    },
    "kernelspec": {
      "display_name": "Python 3.9.10 ('base')",
      "language": "python",
      "name": "python3"
    },
    "language_info": {
      "codemirror_mode": {
        "name": "ipython",
        "version": 3
      },
      "file_extension": ".py",
      "mimetype": "text/x-python",
      "name": "python",
      "nbconvert_exporter": "python",
      "pygments_lexer": "ipython3",
      "version": "3.9.10"
    },
    "orig_nbformat": 4,
    "colab": {
      "name": "Introduction-to-Sparsity.ipynb",
      "provenance": []
    }
  },
  "nbformat": 4,
  "nbformat_minor": 0
}
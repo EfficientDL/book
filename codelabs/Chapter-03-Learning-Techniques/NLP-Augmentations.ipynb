{
  "nbformat": 4,
  "nbformat_minor": 0,
  "metadata": {
    "colab": {
      "name": "[EDL] Chapter 3: NLP Augmentations.ipynb",
      "provenance": [],
      "collapsed_sections": []
    },
    "kernelspec": {
      "name": "python3",
      "display_name": "Python 3"
    },
    "language_info": {
      "name": "python"
    }
  },
  "cells": [
    {
      "cell_type": "markdown",
      "metadata": {
        "id": "uNZGRPouvt_b"
      },
      "source": [
        "# Installation\n",
        "\n",
        "Install the necessary modules that are going to be used in the notebook."
      ]
    },
    {
      "cell_type": "code",
      "metadata": {
        "id": "sfM57R7Nvksx"
      },
      "source": [
        "%%capture\n",
        "# We will use nlpaug to augment the text samples.\n",
        "!pip install nlpaug"
      ],
      "execution_count": null,
      "outputs": []
    },
    {
      "cell_type": "code",
      "metadata": {
        "id": "icTkhIrmv42q"
      },
      "source": [
        "import tensorflow as tf\n",
        "import numpy as np\n",
        "import tensorflow_datasets as tfds\n",
        "\n",
        "from tensorflow.keras import layers, optimizers\n",
        "\n",
        "from pathlib import Path\n",
        "from time import time"
      ],
      "execution_count": null,
      "outputs": []
    },
    {
      "cell_type": "markdown",
      "metadata": {
        "id": "HPRhDq35wO0b"
      },
      "source": [
        "# Dataset creation and visualization\n",
        "\n",
        "We use the *imdb_reviews* to demonstrate the sample efficiency improvements for text datasets. Tensorflow makes it available through *tensorflow_datasets* package. Details about the dataset are available at: [IMDB Reviews Dataset](https://www.tensorflow.org/datasets/catalog/imdb_reviews)\n",
        "\n",
        "The imdb reviews dataset contains samples of labelled text. A label value 1 indicates a positive review while a value 0 implies a negative review. A few samples are shown below\n",
        "\n",
        "| Name     | Id       |\n",
        "| -------- | :------: |\n",
        "| This was an absolutely terrible movie. Don't... | 0 |\n",
        "| I have been known to fall asleep during...   | 0 |\n",
        "| Mann photographs the Alberta Rocky Mountains in a superb fashion... | 0        |\n",
        "| This is the kind of film for a snowy Sunday afternoon when... | 1 |\n",
        "\n",
        "In this section, we will create the training and validation sets. The dataset elements are formatted as a tuple *(text, class_label)*. We expose the following objects:\n",
        "* train500_ds (Training set with 500 samples)\n",
        "* train1000_ds (Training set with 1000 samples)\n",
        "* val_ds (Validation dataset)\n",
        "* ds_info (Dataset metadata object)"
      ]
    },
    {
      "cell_type": "code",
      "metadata": {
        "id": "JP2e0k5YxeO-"
      },
      "source": [
        "%%capture\n",
        "read_config = tfds.ReadConfig(try_autocache=False)\n",
        "\n",
        "(train500_ds, train1000_ds, val_ds), ds_info = tfds.load(\n",
        "  name='imdb_reviews', \n",
        "  split=['train[:500]', 'train[:1000]', 'train[60%:]'],\n",
        "  as_supervised=True,\n",
        "  with_info=True,\n",
        "  read_config=read_config\n",
        ")"
      ],
      "execution_count": null,
      "outputs": []
    },
    {
      "cell_type": "markdown",
      "metadata": {
        "id": "I6UaBo0t2ig5"
      },
      "source": [
        "# Model architecture\n",
        "\n",
        "We use a double stacked bidirectional LSTM model. The model is exposed through a **model** variable. After the creation, we save the initial weights. The initial weights are loaded prior to each run to ensure a fair comparison."
      ]
    },
    {
      "cell_type": "code",
      "metadata": {
        "id": "mbJ9JMx-2hTM"
      },
      "source": [
        "LEARNING_RATE = 0.001\n",
        "MAX_SEQ_LEN = 500 # The sentences are truncated to this word count.\n",
        "WORD2VEC_LEN = 300 # The size of the word vector\n",
        "CHKPT_DIR = Path('chkpt')\n",
        "CHKPT_TMPL = Path(CHKPT_DIR, 'epoch-{epoch:d}-val_accuracy-{val_accuracy:.4f}/weights')\n",
        "INITIAL_WEIGHTS = Path('initial_weights/weights')\n",
        "\n",
        "Path(CHKPT_DIR).mkdir(parents=True, exist_ok=True)"
      ],
      "execution_count": null,
      "outputs": []
    },
    {
      "cell_type": "code",
      "metadata": {
        "colab": {
          "base_uri": "https://localhost:8080/"
        },
        "id": "DhibSFq73BlF",
        "outputId": "742d1c42-64e5-42f0-a998-609756873d41"
      },
      "source": [
        "def create_model():\n",
        "  model = tf.keras.Sequential([\n",
        "    layers.Bidirectional(\n",
        "        layers.LSTM(64, return_sequences=True),\n",
        "        input_shape=(MAX_SEQ_LEN, WORD2VEC_LEN)\n",
        "    ),\n",
        "    layers.Dropout(0.5),\n",
        "    layers.Bidirectional(layers.LSTM(32, return_sequences=False)),\n",
        "\t  layers.Dropout(0.5),\n",
        "    layers.Dense(20, activation='relu'),\n",
        "    layers.Flatten(),\n",
        "    layers.Dense(1, activation='sigmoid'),\n",
        "  ])\n",
        "  adam = optimizers.Adam(learning_rate=LEARNING_RATE)\n",
        "\n",
        "  model.compile(optimizer=adam, loss='binary_crossentropy', metrics=['accuracy'])\n",
        "\n",
        "  return model\n",
        "\n",
        "model = create_model()\n",
        "model.summary()\n",
        "model.save_weights(INITIAL_WEIGHTS)"
      ],
      "execution_count": null,
      "outputs": [
        {
          "output_type": "stream",
          "name": "stdout",
          "text": [
            "Model: \"sequential_2\"\n",
            "_________________________________________________________________\n",
            " Layer (type)                Output Shape              Param #   \n",
            "=================================================================\n",
            " bidirectional_4 (Bidirectio  (None, 500, 128)         186880    \n",
            " nal)                                                            \n",
            "                                                                 \n",
            " dropout_4 (Dropout)         (None, 500, 128)          0         \n",
            "                                                                 \n",
            " bidirectional_5 (Bidirectio  (None, 64)               41216     \n",
            " nal)                                                            \n",
            "                                                                 \n",
            " dropout_5 (Dropout)         (None, 64)                0         \n",
            "                                                                 \n",
            " dense_4 (Dense)             (None, 20)                1300      \n",
            "                                                                 \n",
            " flatten_2 (Flatten)         (None, 20)                0         \n",
            "                                                                 \n",
            " dense_5 (Dense)             (None, 1)                 21        \n",
            "                                                                 \n",
            "=================================================================\n",
            "Total params: 229,417\n",
            "Trainable params: 229,417\n",
            "Non-trainable params: 0\n",
            "_________________________________________________________________\n"
          ]
        }
      ]
    },
    {
      "cell_type": "markdown",
      "metadata": {
        "id": "BmtEWUbk78S2"
      },
      "source": [
        "# Training functions"
      ]
    },
    {
      "cell_type": "code",
      "metadata": {
        "id": "9lWhMAZk7-eU"
      },
      "source": [
        "from tensorflow.keras.callbacks import ModelCheckpoint, EarlyStopping\n",
        "\n",
        "def train(model, tds, vds, epochs=100):\n",
        "  tds = tds.prefetch(buffer_size=tf.data.AUTOTUNE)\n",
        "  vds = vds.prefetch(buffer_size=tf.data.AUTOTUNE)\n",
        "  \n",
        "  cb_checkpoint = ModelCheckpoint(\n",
        "    str(CHKPT_TMPL),\n",
        "    monitor=\"val_accuracy\",\n",
        "    save_best_only=True,\n",
        "    save_weights_only=True\n",
        "  )\n",
        "  cb_earlystopping = EarlyStopping(\n",
        "    monitor='val_accuracy',\n",
        "    patience= 15,\n",
        "    restore_best_weights=True\n",
        "  )\n",
        "\n",
        "  callbacks = [cb_checkpoint, cb_earlystopping]\n",
        "  history = model.fit(tds, validation_data=vds, epochs=epochs, callbacks=callbacks)\n",
        "\n",
        "  return history"
      ],
      "execution_count": null,
      "outputs": []
    },
    {
      "cell_type": "markdown",
      "metadata": {
        "id": "lDPQ8a5e-1Bq"
      },
      "source": [
        "# Input Vectorization"
      ]
    },
    {
      "cell_type": "code",
      "metadata": {
        "id": "mE_C8k1F-3EU"
      },
      "source": [
        "%%capture\n",
        "!python -m spacy download en_core_web_md\n",
        "\n",
        "import en_core_web_md\n",
        "\n",
        "nlp = en_core_web_md.load()"
      ],
      "execution_count": null,
      "outputs": []
    },
    {
      "cell_type": "code",
      "metadata": {
        "id": "JT3kba-S_Sez"
      },
      "source": [
        "def vectorize_fn(text, label):\n",
        "  def pyfn(text):\n",
        "    text = np.char.decode(text.numpy().astype(np.bytes_), 'UTF-8').tolist()\n",
        "    # Initialize a representation vector BATCH SIZE x MAX_SEQ_LEN x WORD2VEC_LEN with zero values\n",
        "    vector = np.zeros(shape=(len(text), MAX_SEQ_LEN, WORD2VEC_LEN))\n",
        "\n",
        "    # Fill up zero vector with the actual word vectors from the language model\n",
        "    for tidx, doc in enumerate(nlp.pipe(text)):\n",
        "      for didx in range(min(MAX_SEQ_LEN, len(doc))):\n",
        "        vector[tidx][didx] = doc[didx].vector\n",
        "\n",
        "    return vector\n",
        "\n",
        "  vector = tf.py_function(pyfn, inp=[text], Tout=tf.float32)\n",
        "  vector.set_shape((None, MAX_SEQ_LEN, WORD2VEC_LEN))\n",
        "  return vector, label"
      ],
      "execution_count": null,
      "outputs": []
    },
    {
      "cell_type": "markdown",
      "metadata": {
        "id": "cdGnMA22IysQ"
      },
      "source": [
        "# NLP Augmentations"
      ]
    },
    {
      "cell_type": "code",
      "metadata": {
        "id": "AcTcNqazI33a"
      },
      "source": [
        "def nlpaug_fn(aug):\n",
        "  def pyfn(text):\n",
        "    text = text.numpy().decode(\"utf-8\")\n",
        "    text = aug.augment(text)\n",
        "    \n",
        "    return text\n",
        "\n",
        "  def augtext(text, label):\n",
        "    aug_text = tf.py_function(pyfn, inp=[text], Tout=tf.string)\n",
        "    aug_text.set_shape(text.shape)\n",
        "\n",
        "    return aug_text, label\n",
        "\n",
        "  return augtext"
      ],
      "execution_count": null,
      "outputs": []
    },
    {
      "cell_type": "markdown",
      "metadata": {
        "id": "xFH4MxyS_enj"
      },
      "source": [
        "# Experiments"
      ]
    },
    {
      "cell_type": "markdown",
      "metadata": {
        "id": "eKy4gbbE_jbt"
      },
      "source": [
        "## baseline (500 training samples)"
      ]
    },
    {
      "cell_type": "code",
      "metadata": {
        "execution": {
          "iopub.execute_input": "2021-11-09T14:44:12.179678Z",
          "iopub.status.busy": "2021-11-09T14:44:12.178735Z",
          "iopub.status.idle": "2021-11-09T15:00:07.912772Z",
          "shell.execute_reply": "2021-11-09T15:00:07.912234Z",
          "shell.execute_reply.started": "2021-11-09T09:29:21.527115Z"
        },
        "id": "a985c906",
        "papermill": {
          "duration": 955.822471,
          "end_time": "2021-11-09T15:00:07.912920",
          "exception": false,
          "start_time": "2021-11-09T14:44:12.090449",
          "status": "completed"
        },
        "tags": [],
        "outputId": "1eabf110-41b4-423f-e2ce-b700ba93882f"
      },
      "source": [
        "tds = train500_ds.shuffle(500, reshuffle_each_iteration=True)\n",
        "tds = tds.batch(16).map(vectorize_fn)\n",
        "vds = val_ds.batch(64).map(vectorize_fn)\n",
        "\n",
        "# Reset the model state before training\n",
        "model.load_weights(INITIAL_WEIGHTS)\n",
        "baseline500_hist = train(model, tds, vds, epochs=100)"
      ],
      "execution_count": null,
      "outputs": [
        {
          "name": "stdout",
          "output_type": "stream",
          "text": [
            "Downloading remote initial weights...\n",
            "Download complete!\n",
            "Loading initial_weights...\n",
            "Epoch 1/100\n"
          ]
        },
        {
          "name": "stderr",
          "output_type": "stream",
          "text": [
            "2021-11-09 14:44:20.431426: I tensorflow/stream_executor/cuda/cuda_dnn.cc:369] Loaded cuDNN version 8005\n"
          ]
        },
        {
          "name": "stdout",
          "output_type": "stream",
          "text": [
            "32/32 [==============================] - 366s 12s/step - loss: 0.6981 - accuracy: 0.4860 - val_loss: 0.6880 - val_accuracy: 0.5446\n",
            "Epoch 2/100\n",
            "32/32 [==============================] - 23s 739ms/step - loss: 0.6822 - accuracy: 0.5740 - val_loss: 0.6779 - val_accuracy: 0.5736\n",
            "Epoch 3/100\n",
            "32/32 [==============================] - 23s 716ms/step - loss: 0.6453 - accuracy: 0.6520 - val_loss: 0.6729 - val_accuracy: 0.5906\n",
            "Epoch 4/100\n",
            "32/32 [==============================] - 23s 711ms/step - loss: 0.6470 - accuracy: 0.6360 - val_loss: 0.6736 - val_accuracy: 0.5830\n",
            "Epoch 5/100\n",
            "32/32 [==============================] - 23s 717ms/step - loss: 0.5896 - accuracy: 0.6980 - val_loss: 0.6533 - val_accuracy: 0.6319\n",
            "Epoch 6/100\n",
            "32/32 [==============================] - 23s 713ms/step - loss: 0.5422 - accuracy: 0.7560 - val_loss: 0.6850 - val_accuracy: 0.6013\n",
            "Epoch 7/100\n",
            "32/32 [==============================] - 23s 717ms/step - loss: 0.5048 - accuracy: 0.7640 - val_loss: 0.6756 - val_accuracy: 0.6336\n",
            "Epoch 8/100\n",
            "32/32 [==============================] - 23s 711ms/step - loss: 0.4417 - accuracy: 0.8120 - val_loss: 0.7222 - val_accuracy: 0.6150\n",
            "Epoch 9/100\n",
            "32/32 [==============================] - 23s 720ms/step - loss: 0.4114 - accuracy: 0.8200 - val_loss: 0.7851 - val_accuracy: 0.6534\n",
            "Epoch 10/100\n",
            "32/32 [==============================] - 22s 706ms/step - loss: 0.3813 - accuracy: 0.8500 - val_loss: 0.7741 - val_accuracy: 0.6359\n",
            "Epoch 11/100\n",
            "32/32 [==============================] - 23s 732ms/step - loss: 0.2218 - accuracy: 0.9260 - val_loss: 0.9403 - val_accuracy: 0.6376\n",
            "Epoch 12/100\n",
            "32/32 [==============================] - 23s 726ms/step - loss: 0.1534 - accuracy: 0.9440 - val_loss: 1.1544 - val_accuracy: 0.6292\n",
            "Epoch 13/100\n",
            "32/32 [==============================] - 23s 721ms/step - loss: 0.1210 - accuracy: 0.9600 - val_loss: 1.2754 - val_accuracy: 0.6412\n",
            "Epoch 14/100\n",
            "32/32 [==============================] - 23s 715ms/step - loss: 0.1219 - accuracy: 0.9600 - val_loss: 1.1811 - val_accuracy: 0.6457\n",
            "Epoch 15/100\n",
            "32/32 [==============================] - 23s 728ms/step - loss: 0.0917 - accuracy: 0.9720 - val_loss: 1.2034 - val_accuracy: 0.6426\n",
            "Epoch 16/100\n",
            "32/32 [==============================] - 23s 719ms/step - loss: 0.0632 - accuracy: 0.9880 - val_loss: 1.3880 - val_accuracy: 0.6265\n",
            "Epoch 17/100\n",
            "32/32 [==============================] - 23s 721ms/step - loss: 0.0296 - accuracy: 0.9920 - val_loss: 1.5579 - val_accuracy: 0.6403\n",
            "Epoch 18/100\n",
            "32/32 [==============================] - 23s 723ms/step - loss: 0.0275 - accuracy: 0.9940 - val_loss: 1.7349 - val_accuracy: 0.6286\n",
            "Epoch 19/100\n",
            "32/32 [==============================] - 23s 701ms/step - loss: 0.0118 - accuracy: 0.9940 - val_loss: 1.8324 - val_accuracy: 0.6327\n",
            "Epoch 20/100\n",
            "32/32 [==============================] - 23s 711ms/step - loss: 0.0053 - accuracy: 1.0000 - val_loss: 1.9467 - val_accuracy: 0.6371\n",
            "Epoch 21/100\n",
            "32/32 [==============================] - 23s 711ms/step - loss: 0.0045 - accuracy: 1.0000 - val_loss: 1.9912 - val_accuracy: 0.6419\n",
            "Epoch 22/100\n",
            "32/32 [==============================] - 23s 713ms/step - loss: 0.0023 - accuracy: 1.0000 - val_loss: 2.0606 - val_accuracy: 0.6429\n",
            "Epoch 23/100\n",
            "32/32 [==============================] - 23s 713ms/step - loss: 0.0047 - accuracy: 0.9980 - val_loss: 2.0963 - val_accuracy: 0.6419\n",
            "Epoch 24/100\n",
            "32/32 [==============================] - 23s 705ms/step - loss: 0.0070 - accuracy: 0.9980 - val_loss: 2.1043 - val_accuracy: 0.6424\n"
          ]
        },
        {
          "data": {
            "image/png": "[encoded data removed]",
            "text/plain": [
              "<Figure size 432x288 with 1 Axes>"
            ]
          },
          "metadata": {
            "needs_background": "light"
          },
          "output_type": "display_data"
        }
      ]
    },
    {
      "cell_type": "markdown",
      "metadata": {
        "id": "KVeXu5PRIStF"
      },
      "source": [
        "## nlp augmentations (500 training samples)"
      ]
    },
    {
      "cell_type": "code",
      "metadata": {
        "id": "_2UYtzeXIaLH"
      },
      "source": [
        "%%capture\n",
        "from nltk import download as nltk_download\n",
        "from nlpaug.augmenter import sentence as nas\n",
        "from nlpaug.augmenter import word as naw\n",
        "from nlpaug.augmenter import char as nac\n",
        "from nlpaug import flow as naf\n",
        "\n",
        "[nltk_download(item) for item in ['punkt', 'wordnet']]\n",
        "\n",
        "aug_args = dict(aug_p=0.3, aug_max=40)\n",
        "\n",
        "chain = [\n",
        "    nas.random.RandomSentAug(**aug_args),\n",
        "    naw.RandomWordAug(action='delete', **aug_args),\n",
        "    naw.RandomWordAug(action='swap', **aug_args),\n",
        "    naw.RandomWordAug(action='crop', **aug_args),\n",
        "    naw.RandomWordAug(action='substitute', **aug_args),\n",
        "    nac.KeyboardAug()\n",
        "]\n",
        "flow = naf.Sometimes(chain, pipeline_p=0.3)"
      ],
      "execution_count": null,
      "outputs": []
    },
    {
      "cell_type": "code",
      "metadata": {
        "execution": {
          "iopub.execute_input": "2021-11-09T15:00:13.247430Z",
          "iopub.status.busy": "2021-11-09T15:00:13.246619Z",
          "iopub.status.idle": "2021-11-09T15:27:28.280575Z",
          "shell.execute_reply": "2021-11-09T15:27:28.281071Z",
          "shell.execute_reply.started": "2021-11-09T09:29:40.228092Z"
        },
        "id": "ec29e35b",
        "papermill": {
          "duration": 1635.332504,
          "end_time": "2021-11-09T15:27:28.281232",
          "exception": false,
          "start_time": "2021-11-09T15:00:12.948728",
          "status": "completed"
        },
        "tags": [],
        "outputId": "96cbee5d-a92a-4c9a-b094-72c525d7317e"
      },
      "source": [
        "tds = train500_ds.shuffle(500, reshuffle_each_iteration=True)\n",
        "tds = tds.map(nlpaug_fn(flow)).batch(16).map(vectorize_fn)\n",
        "vds = val_ds.batch(64).map(vectorize_fn)\n",
        "\n",
        "model.load_weights(INITIAL_WEIGHTS)\n",
        "nlpaug500_hist = train(model, tds, vds, epochs=100)"
      ],
      "execution_count": null,
      "outputs": [
        {
          "name": "stdout",
          "output_type": "stream",
          "text": [
            "Loading initial_weights...\n",
            "Epoch 1/100\n",
            "32/32 [==============================] - 25s 778ms/step - loss: 0.6983 - accuracy: 0.4940 - val_loss: 0.6925 - val_accuracy: 0.5201\n",
            "Epoch 2/100\n",
            "32/32 [==============================] - 24s 768ms/step - loss: 0.6927 - accuracy: 0.5180 - val_loss: 0.6993 - val_accuracy: 0.5017\n",
            "Epoch 3/100\n",
            "32/32 [==============================] - 25s 783ms/step - loss: 0.6893 - accuracy: 0.5540 - val_loss: 0.6897 - val_accuracy: 0.5265\n",
            "Epoch 4/100\n",
            "32/32 [==============================] - 24s 768ms/step - loss: 0.6847 - accuracy: 0.5680 - val_loss: 0.6847 - val_accuracy: 0.5483\n",
            "Epoch 5/100\n",
            "32/32 [==============================] - 25s 766ms/step - loss: 0.6729 - accuracy: 0.5760 - val_loss: 0.6806 - val_accuracy: 0.5637\n",
            "Epoch 6/100\n",
            "32/32 [==============================] - 25s 781ms/step - loss: 0.6444 - accuracy: 0.5980 - val_loss: 0.6664 - val_accuracy: 0.6128\n",
            "Epoch 7/100\n",
            "32/32 [==============================] - 24s 764ms/step - loss: 0.6460 - accuracy: 0.6260 - val_loss: 0.6495 - val_accuracy: 0.6266\n",
            "Epoch 8/100\n",
            "32/32 [==============================] - 25s 772ms/step - loss: 0.6273 - accuracy: 0.6500 - val_loss: 0.6847 - val_accuracy: 0.6096\n",
            "Epoch 9/100\n",
            "32/32 [==============================] - 25s 753ms/step - loss: 0.6001 - accuracy: 0.6900 - val_loss: 0.6486 - val_accuracy: 0.6429\n",
            "Epoch 10/100\n",
            "32/32 [==============================] - 25s 787ms/step - loss: 0.6074 - accuracy: 0.6680 - val_loss: 0.6359 - val_accuracy: 0.6643\n",
            "Epoch 11/100\n",
            "32/32 [==============================] - 25s 771ms/step - loss: 0.6034 - accuracy: 0.6740 - val_loss: 0.6597 - val_accuracy: 0.6283\n",
            "Epoch 12/100\n",
            "32/32 [==============================] - 25s 794ms/step - loss: 0.5617 - accuracy: 0.7240 - val_loss: 0.6182 - val_accuracy: 0.6731\n",
            "Epoch 13/100\n",
            "32/32 [==============================] - 25s 771ms/step - loss: 0.5400 - accuracy: 0.7420 - val_loss: 0.6378 - val_accuracy: 0.6708\n",
            "Epoch 14/100\n",
            "32/32 [==============================] - 25s 769ms/step - loss: 0.4934 - accuracy: 0.7700 - val_loss: 0.6574 - val_accuracy: 0.6521\n",
            "Epoch 15/100\n",
            "32/32 [==============================] - 26s 787ms/step - loss: 0.4906 - accuracy: 0.7760 - val_loss: 0.5990 - val_accuracy: 0.7113\n",
            "Epoch 16/100\n",
            "32/32 [==============================] - 25s 775ms/step - loss: 0.4768 - accuracy: 0.7900 - val_loss: 0.5988 - val_accuracy: 0.7122\n",
            "Epoch 17/100\n",
            "32/32 [==============================] - 25s 778ms/step - loss: 0.4719 - accuracy: 0.7920 - val_loss: 0.6836 - val_accuracy: 0.6169\n",
            "Epoch 18/100\n",
            "32/32 [==============================] - 25s 787ms/step - loss: 0.4704 - accuracy: 0.7900 - val_loss: 0.6377 - val_accuracy: 0.6969\n",
            "Epoch 19/100\n",
            "32/32 [==============================] - 25s 782ms/step - loss: 0.3922 - accuracy: 0.8380 - val_loss: 0.7117 - val_accuracy: 0.6635\n",
            "Epoch 20/100\n",
            "32/32 [==============================] - 25s 778ms/step - loss: 0.4052 - accuracy: 0.8220 - val_loss: 0.6547 - val_accuracy: 0.7129\n",
            "Epoch 21/100\n",
            "32/32 [==============================] - 25s 782ms/step - loss: 0.3850 - accuracy: 0.8420 - val_loss: 0.5627 - val_accuracy: 0.7548\n",
            "Epoch 22/100\n",
            "32/32 [==============================] - 26s 806ms/step - loss: 0.3624 - accuracy: 0.8540 - val_loss: 0.7348 - val_accuracy: 0.6433\n",
            "Epoch 23/100\n",
            "32/32 [==============================] - 25s 798ms/step - loss: 0.3931 - accuracy: 0.8300 - val_loss: 0.7269 - val_accuracy: 0.7028\n",
            "Epoch 24/100\n",
            "32/32 [==============================] - 25s 765ms/step - loss: 0.3521 - accuracy: 0.8760 - val_loss: 0.8609 - val_accuracy: 0.6314\n",
            "Epoch 25/100\n",
            "32/32 [==============================] - 25s 775ms/step - loss: 0.3290 - accuracy: 0.8720 - val_loss: 0.6520 - val_accuracy: 0.7501\n",
            "Epoch 26/100\n",
            "32/32 [==============================] - 25s 785ms/step - loss: 0.2343 - accuracy: 0.9200 - val_loss: 0.6644 - val_accuracy: 0.7386\n",
            "Epoch 27/100\n",
            "32/32 [==============================] - 25s 780ms/step - loss: 0.3009 - accuracy: 0.8820 - val_loss: 0.5864 - val_accuracy: 0.7511\n",
            "Epoch 28/100\n",
            "32/32 [==============================] - 25s 779ms/step - loss: 0.2894 - accuracy: 0.8860 - val_loss: 0.6734 - val_accuracy: 0.7316\n",
            "Epoch 29/100\n",
            "32/32 [==============================] - 26s 791ms/step - loss: 0.2800 - accuracy: 0.8740 - val_loss: 0.6288 - val_accuracy: 0.7583\n",
            "Epoch 30/100\n",
            "32/32 [==============================] - 25s 777ms/step - loss: 0.2118 - accuracy: 0.9180 - val_loss: 0.7162 - val_accuracy: 0.7359\n",
            "Epoch 31/100\n",
            "32/32 [==============================] - 25s 769ms/step - loss: 0.2422 - accuracy: 0.9080 - val_loss: 0.6634 - val_accuracy: 0.7510\n",
            "Epoch 32/100\n",
            "32/32 [==============================] - 25s 782ms/step - loss: 0.2255 - accuracy: 0.9280 - val_loss: 0.6906 - val_accuracy: 0.7270\n",
            "Epoch 33/100\n",
            "32/32 [==============================] - 25s 756ms/step - loss: 0.2065 - accuracy: 0.9280 - val_loss: 0.7391 - val_accuracy: 0.7719\n",
            "Epoch 34/100\n",
            "32/32 [==============================] - 25s 796ms/step - loss: 0.2284 - accuracy: 0.9240 - val_loss: 0.7597 - val_accuracy: 0.7148\n",
            "Epoch 35/100\n",
            "32/32 [==============================] - 26s 801ms/step - loss: 0.1684 - accuracy: 0.9380 - val_loss: 0.8240 - val_accuracy: 0.7481\n",
            "Epoch 36/100\n",
            "32/32 [==============================] - 26s 825ms/step - loss: 0.1909 - accuracy: 0.9380 - val_loss: 0.7986 - val_accuracy: 0.7423\n",
            "Epoch 37/100\n",
            "32/32 [==============================] - 25s 775ms/step - loss: 0.1755 - accuracy: 0.9360 - val_loss: 0.7575 - val_accuracy: 0.7551\n",
            "Epoch 38/100\n",
            "32/32 [==============================] - 26s 808ms/step - loss: 0.1404 - accuracy: 0.9480 - val_loss: 0.8582 - val_accuracy: 0.7513\n",
            "Epoch 39/100\n",
            "32/32 [==============================] - 24s 744ms/step - loss: 0.1806 - accuracy: 0.9360 - val_loss: 0.7685 - val_accuracy: 0.7348\n",
            "Epoch 40/100\n",
            "32/32 [==============================] - 25s 757ms/step - loss: 0.2048 - accuracy: 0.9300 - val_loss: 0.7393 - val_accuracy: 0.7377\n",
            "Epoch 41/100\n",
            "32/32 [==============================] - 25s 760ms/step - loss: 0.1355 - accuracy: 0.9540 - val_loss: 0.8799 - val_accuracy: 0.7428\n",
            "Epoch 42/100\n",
            "32/32 [==============================] - 25s 795ms/step - loss: 0.1503 - accuracy: 0.9460 - val_loss: 0.8482 - val_accuracy: 0.7440\n",
            "Epoch 43/100\n",
            "32/32 [==============================] - 25s 783ms/step - loss: 0.1969 - accuracy: 0.9340 - val_loss: 0.7325 - val_accuracy: 0.7487\n",
            "Epoch 44/100\n",
            "32/32 [==============================] - 25s 786ms/step - loss: 0.1670 - accuracy: 0.9340 - val_loss: 0.7583 - val_accuracy: 0.7325\n",
            "Epoch 45/100\n",
            "32/32 [==============================] - 25s 790ms/step - loss: 0.1961 - accuracy: 0.9320 - val_loss: 0.9095 - val_accuracy: 0.6810\n",
            "Epoch 46/100\n",
            "32/32 [==============================] - 25s 776ms/step - loss: 0.2034 - accuracy: 0.9200 - val_loss: 0.7626 - val_accuracy: 0.7385\n",
            "Epoch 47/100\n",
            "32/32 [==============================] - 26s 787ms/step - loss: 0.1165 - accuracy: 0.9660 - val_loss: 0.8536 - val_accuracy: 0.7422\n",
            "Epoch 48/100\n",
            "32/32 [==============================] - 25s 788ms/step - loss: 0.1479 - accuracy: 0.9500 - val_loss: 0.8756 - val_accuracy: 0.7330\n"
          ]
        },
        {
          "data": {
            "image/png": "[encoded data removed]",
            "text/plain": [
              "<Figure size 432x288 with 1 Axes>"
            ]
          },
          "metadata": {
            "needs_background": "light"
          },
          "output_type": "display_data"
        }
      ]
    },
    {
      "cell_type": "markdown",
      "metadata": {
        "id": "j2OnXfFcbPWn"
      },
      "source": [
        "## baseline (1000 training samples)"
      ]
    },
    {
      "cell_type": "code",
      "metadata": {
        "execution": {
          "iopub.execute_input": "2021-11-09T15:38:26.348703Z",
          "iopub.status.busy": "2021-11-09T15:38:26.347940Z",
          "iopub.status.idle": "2021-11-09T16:02:55.869872Z",
          "shell.execute_reply": "2021-11-09T16:02:55.870305Z",
          "shell.execute_reply.started": "2021-11-09T09:29:21.527115Z"
        },
        "id": "8078957b",
        "papermill": {
          "duration": 1469.617512,
          "end_time": "2021-11-09T16:02:55.870467",
          "exception": false,
          "start_time": "2021-11-09T15:38:26.252955",
          "status": "completed"
        },
        "tags": [],
        "outputId": "1eabf110-41b4-423f-e2ce-b700ba93882f"
      },
      "source": [
        "tds = train1000_ds.shuffle(500, reshuffle_each_iteration=True)\n",
        "tds = tds.batch(16).map(vectorize_fn)\n",
        "vds = val_ds.batch(64).map(vectorize_fn)\n",
        "\n",
        "model.load_weights(INITIAL_WEIGHTS)\n",
        "baseline1000_hist = train(model, tds, vds, epochs=100)"
      ],
      "execution_count": null,
      "outputs": [
        {
          "name": "stdout",
          "output_type": "stream",
          "text": [
            "Downloading remote initial weights...\n",
            "Download complete!\n",
            "Loading initial_weights...\n",
            "Epoch 1/100\n"
          ]
        },
        {
          "name": "stderr",
          "output_type": "stream",
          "text": [
            "2021-11-09 15:38:34.694059: I tensorflow/stream_executor/cuda/cuda_dnn.cc:369] Loaded cuDNN version 8005\n"
          ]
        },
        {
          "name": "stdout",
          "output_type": "stream",
          "text": [
            "63/63 [==============================] - 380s 6s/step - loss: 0.6932 - accuracy: 0.5150 - val_loss: 0.6847 - val_accuracy: 0.5435\n",
            "Epoch 2/100\n",
            "63/63 [==============================] - 40s 627ms/step - loss: 0.6638 - accuracy: 0.6170 - val_loss: 0.6631 - val_accuracy: 0.6120\n",
            "Epoch 3/100\n",
            "63/63 [==============================] - 39s 620ms/step - loss: 0.6266 - accuracy: 0.6620 - val_loss: 0.6106 - val_accuracy: 0.6756\n",
            "Epoch 4/100\n",
            "63/63 [==============================] - 39s 614ms/step - loss: 0.6229 - accuracy: 0.6960 - val_loss: 0.7036 - val_accuracy: 0.5438\n",
            "Epoch 5/100\n",
            "63/63 [==============================] - 39s 614ms/step - loss: 0.5984 - accuracy: 0.6880 - val_loss: 0.6217 - val_accuracy: 0.6577\n",
            "Epoch 6/100\n",
            "63/63 [==============================] - 41s 648ms/step - loss: 0.5240 - accuracy: 0.7460 - val_loss: 0.5831 - val_accuracy: 0.7122\n",
            "Epoch 7/100\n",
            "63/63 [==============================] - 40s 636ms/step - loss: 0.4839 - accuracy: 0.7790 - val_loss: 0.5862 - val_accuracy: 0.7191\n",
            "Epoch 8/100\n",
            "63/63 [==============================] - 40s 629ms/step - loss: 0.4220 - accuracy: 0.8210 - val_loss: 0.5654 - val_accuracy: 0.7237\n",
            "Epoch 9/100\n",
            "63/63 [==============================] - 40s 637ms/step - loss: 0.3592 - accuracy: 0.8500 - val_loss: 0.6189 - val_accuracy: 0.7377\n",
            "Epoch 10/100\n",
            "63/63 [==============================] - 41s 647ms/step - loss: 0.2915 - accuracy: 0.8860 - val_loss: 0.9621 - val_accuracy: 0.6517\n",
            "Epoch 11/100\n",
            "63/63 [==============================] - 40s 629ms/step - loss: 0.2917 - accuracy: 0.8900 - val_loss: 0.6959 - val_accuracy: 0.7339\n",
            "Epoch 12/100\n",
            "63/63 [==============================] - 40s 631ms/step - loss: 0.1917 - accuracy: 0.9350 - val_loss: 0.7626 - val_accuracy: 0.7076\n",
            "Epoch 13/100\n",
            "63/63 [==============================] - 40s 632ms/step - loss: 0.1434 - accuracy: 0.9550 - val_loss: 0.9277 - val_accuracy: 0.7477\n",
            "Epoch 14/100\n",
            "63/63 [==============================] - 39s 626ms/step - loss: 0.1532 - accuracy: 0.9450 - val_loss: 0.9565 - val_accuracy: 0.7337\n",
            "Epoch 15/100\n",
            "63/63 [==============================] - 39s 614ms/step - loss: 0.1101 - accuracy: 0.9610 - val_loss: 1.0312 - val_accuracy: 0.7261\n",
            "Epoch 16/100\n",
            "63/63 [==============================] - 39s 618ms/step - loss: 0.1383 - accuracy: 0.9520 - val_loss: 0.9472 - val_accuracy: 0.7239\n",
            "Epoch 17/100\n",
            "63/63 [==============================] - 39s 615ms/step - loss: 0.0848 - accuracy: 0.9730 - val_loss: 1.0677 - val_accuracy: 0.7363\n",
            "Epoch 18/100\n",
            "63/63 [==============================] - 39s 625ms/step - loss: 0.0949 - accuracy: 0.9730 - val_loss: 1.0125 - val_accuracy: 0.7372\n",
            "Epoch 19/100\n",
            "63/63 [==============================] - 39s 626ms/step - loss: 0.0427 - accuracy: 0.9890 - val_loss: 1.2795 - val_accuracy: 0.7380\n",
            "Epoch 20/100\n",
            "63/63 [==============================] - 39s 626ms/step - loss: 0.0500 - accuracy: 0.9840 - val_loss: 1.2182 - val_accuracy: 0.7230\n",
            "Epoch 21/100\n",
            "63/63 [==============================] - 39s 626ms/step - loss: 0.0383 - accuracy: 0.9920 - val_loss: 1.3703 - val_accuracy: 0.7179\n",
            "Epoch 22/100\n",
            "63/63 [==============================] - 40s 627ms/step - loss: 0.0718 - accuracy: 0.9800 - val_loss: 1.1205 - val_accuracy: 0.7209\n",
            "Epoch 23/100\n",
            "63/63 [==============================] - 40s 622ms/step - loss: 0.0277 - accuracy: 0.9920 - val_loss: 1.5305 - val_accuracy: 0.7083\n",
            "Epoch 24/100\n",
            "63/63 [==============================] - 40s 628ms/step - loss: 0.0466 - accuracy: 0.9850 - val_loss: 1.2635 - val_accuracy: 0.7342\n",
            "Epoch 25/100\n",
            "63/63 [==============================] - 39s 618ms/step - loss: 0.0127 - accuracy: 0.9990 - val_loss: 1.4357 - val_accuracy: 0.7276\n",
            "Epoch 26/100\n",
            "63/63 [==============================] - 39s 621ms/step - loss: 0.0099 - accuracy: 0.9990 - val_loss: 1.5482 - val_accuracy: 0.7294\n",
            "Epoch 27/100\n",
            "63/63 [==============================] - 39s 625ms/step - loss: 0.0076 - accuracy: 0.9980 - val_loss: 1.6582 - val_accuracy: 0.7257\n",
            "Epoch 28/100\n",
            "63/63 [==============================] - 39s 623ms/step - loss: 0.0680 - accuracy: 0.9800 - val_loss: 1.5581 - val_accuracy: 0.6633\n"
          ]
        },
        {
          "data": {
            "image/png": "[encoded data removed]",
            "text/plain": [
              "<Figure size 432x288 with 1 Axes>"
            ]
          },
          "metadata": {
            "needs_background": "light"
          },
          "output_type": "display_data"
        }
      ]
    }
  ]
}
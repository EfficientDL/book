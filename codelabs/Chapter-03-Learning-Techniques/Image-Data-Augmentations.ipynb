{
  "nbformat": 4,
  "nbformat_minor": 0,
  "metadata": {
    "colab": {
      "name": "[EDL] Chapter 3: Image Data Augmentations.ipynb",
      "provenance": [],
      "collapsed_sections": []
    },
    "kernelspec": {
      "name": "python3",
      "display_name": "Python 3"
    },
    "language_info": {
      "name": "python"
    },
    "accelerator": "GPU"
  },
  "cells": [
    {
      "cell_type": "markdown",
      "metadata": {
        "id": "e7ZUaE5aPR67"
      },
      "source": [
        "# Installation\n",
        "Import the libs used in this notebook"
      ]
    },
    {
      "cell_type": "code",
      "metadata": {
        "id": "4fjjE4CZPMJC"
      },
      "source": [
        "import tensorflow as tf\n",
        "import numpy as np\n",
        "import matplotlib.pyplot as plt\n",
        "import tensorflow_datasets as tfds\n",
        "\n",
        "from tensorflow.keras import applications as apps\n",
        "from tensorflow.keras import layers, optimizers, metrics\n",
        "from tensorflow.keras.callbacks import ModelCheckpoint"
      ],
      "execution_count": 2,
      "outputs": []
    },
    {
      "cell_type": "markdown",
      "metadata": {
        "id": "VqgGRfb_PT_H"
      },
      "source": [
        "# Dataset and metrics visualization\n",
        "\n",
        "APIs:\n",
        "* plot_dataset(ds, count, title): The default value of count is 4. The default value of title is 'dataset'.\n",
        "* plot_acc(history): The history object is returned by the training function.\n",
        "* plot_loss(history): The history object is returned by the training function.\n"
      ]
    },
    {
      "cell_type": "markdown",
      "metadata": {
        "id": "OAcBZo-JPq_X"
      },
      "source": [
        "## Dataset"
      ]
    },
    {
      "cell_type": "code",
      "metadata": {
        "id": "xjss_g-wPsgC"
      },
      "source": [
        "def title_color(label):\n",
        "  color = 'black'\n",
        "\n",
        "  if isinstance(label, np.ndarray):\n",
        "    color = 'green' if label[0] == label[1] else 'red'\n",
        "\n",
        "  return color\n",
        "\n",
        "def plot_dataset(ds, count=4, title='dataset'):\n",
        "  size = 4\n",
        "  cols = 4\n",
        "  rows = int((count+cols-1) / cols)\n",
        "\n",
        "  ds_itr = ds.as_numpy_iterator()\n",
        "  fig = plt.figure(figsize=(size*cols, size*rows))\n",
        "  items = map(lambda id: (id,) + ds_itr.next(), range(count))\n",
        "\n",
        "  for id, image, label in items:\n",
        "    colid = id % cols\n",
        "    rowid = id / cols\n",
        "\n",
        "    ax = fig.add_subplot(rows, cols, id+1)\n",
        "\n",
        "    ax.set_title(label, color=title_color(label))\n",
        "    ax.imshow(image)\n",
        "    ax.axis(\"off\")\n",
        "  \n",
        "  fig.suptitle(title)\n",
        "  plt.show()"
      ],
      "execution_count": 3,
      "outputs": []
    },
    {
      "cell_type": "markdown",
      "metadata": {
        "id": "w1QxYoQyPtjJ"
      },
      "source": [
        "## Metrics"
      ]
    },
    {
      "cell_type": "code",
      "metadata": {
        "id": "HFjZOfuHPvGR"
      },
      "source": [
        "def plot_acc(history):\n",
        "  val = history.history.get('val_accuracy')\n",
        "  legend = ['train', 'val'] if val else ['train']\n",
        "\n",
        "  plt.plot(history.history['accuracy'])\n",
        "  if val: plt.plot(history.history['val_accuracy'])\n",
        "\n",
        "  plt.title('model accuracy')\n",
        "  plt.ylabel('accuracy')\n",
        "  plt.xlabel('epoch')\n",
        "  plt.legend(legend, loc='upper left')\n",
        "  plt.show()\n",
        "\n",
        "def plot_loss(history, val=False):\n",
        "  val = history.history.get('val_loss')\n",
        "  legend = ['train', 'val'] if val else ['train']\n",
        "\n",
        "  plt.plot(history.history['loss'])\n",
        "  if val: plt.plot(history.history['val_loss'])\n",
        "\n",
        "  plt.title('model loss')\n",
        "  plt.ylabel('loss')\n",
        "  plt.xlabel('epoch')\n",
        "  plt.legend(legend, loc='upper left')\n",
        "  plt.show()"
      ],
      "execution_count": 4,
      "outputs": []
    },
    {
      "cell_type": "markdown",
      "metadata": {
        "id": "VdNlZcaJPzt3"
      },
      "source": [
        "# Dataset creation\n",
        "\n",
        "We use the *oxford_flowers102* to demonstrate the sample efficiency improvements. The dataset has integer class labels for the flower images. To identify the flowers by name, use the following links:\n",
        " * [Name=>Label](https://gist.github.com/JosephKJ/94c7728ed1a8e0cd87fe6a029769cde1)\n",
        " * [Label=>Visual](https://www.robots.ox.ac.uk/~vgg/data/flowers/102/categories.html) \n",
        "\n",
        "In this section, we create a **tf.data.Dataset** tensorflow object. We also create a small sample dataset for testing purposes. The dataset elements are formatted as a tuple *(image, class_label)*. We expose the following objects:\n",
        "* train_prep_ds (Training dataset)\n",
        "* val_prep_ds (Validation dataset)"
      ]
    },
    {
      "cell_type": "code",
      "metadata": {
        "id": "U26r1Tz2QjEI"
      },
      "source": [
        "%%capture\n",
        "(train_ds, val_ds), ds_info = tfds.load(\n",
        "    'oxford_flowers102',\n",
        "    with_info=True,\n",
        "    split=['train', 'validation'],\n",
        "    as_supervised=False,\n",
        "    read_config=tfds.ReadConfig(try_autocache=False)\n",
        ")"
      ],
      "execution_count": 5,
      "outputs": []
    },
    {
      "cell_type": "code",
      "metadata": {
        "id": "hWbuDsxJP4tb"
      },
      "source": [
        "# Dataset image size\n",
        "IMG_SIZE = 264\n",
        "\n",
        "def dsitem_to_tuple(item):\n",
        "  return (item['image'], item['label'])\n",
        "\n",
        "def resize_image(image, label):\n",
        "  image = tf.image.resize(image, [IMG_SIZE, IMG_SIZE])\n",
        "  image = tf.cast(image, tf.uint8)\n",
        "  return image, label"
      ],
      "execution_count": 6,
      "outputs": []
    },
    {
      "cell_type": "code",
      "metadata": {
        "id": "2LVI-gYtScwc"
      },
      "source": [
        "train_ds = train_ds.map(dsitem_to_tuple).map(resize_image).cache()\n",
        "val_ds = val_ds.map(dsitem_to_tuple).map(resize_image).cache()"
      ],
      "execution_count": 7,
      "outputs": []
    },
    {
      "cell_type": "code",
      "metadata": {
        "colab": {
          "base_uri": "https://localhost:8080/"
        },
        "id": "1VWlm7FWSyxg",
        "outputId": "e5c4648c-f746-4d4f-db6d-6b14a57929a1"
      },
      "source": [
        "print(train_ds.as_numpy_iterator().next()[0].shape)\n",
        "print(val_ds.as_numpy_iterator().next()[0].shape)"
      ],
      "execution_count": 8,
      "outputs": [
        {
          "output_type": "stream",
          "name": "stdout",
          "text": [
            "(264, 264, 3)\n",
            "(264, 264, 3)\n"
          ]
        }
      ]
    },
    {
      "cell_type": "markdown",
      "metadata": {
        "id": "ZPGpV5R9WeA_"
      },
      "source": [
        "# Model architecture\n",
        "\n",
        "We use a ResNet50 model pre-trained on the ImageNet dataset. The oxford_flowers102 is a small dataset with 1020 training images and 1020 validation images. Such a small sample is insufficient to train a model from scratch. However, with the pre-trained weights, this dataset is more than enough to achieve decent predictions. The model is exposed through a **model** variable. "
      ]
    },
    {
      "cell_type": "code",
      "metadata": {
        "colab": {
          "base_uri": "https://localhost:8080/"
        },
        "id": "XNNPXNL0Wl4V",
        "outputId": "0d4254ee-d292-492d-cfb8-a55e1b4fc5df"
      },
      "source": [
        "DROPOUT_RATE = 0.2\n",
        "LEARNING_RATE = 0.0002\n",
        "NUM_CLASSES = 102\n",
        "\n",
        "def create_model():\n",
        "  # Initalize the core model\n",
        "  core_args = dict(input_shape=(IMG_SIZE, IMG_SIZE, 3), include_top=False)\n",
        "  core = apps.resnet50.ResNet50(**core_args)\n",
        "  core.trainable = False\n",
        "\n",
        "  # Setup the top\n",
        "  model = tf.keras.Sequential([\n",
        "    layers.Input([IMG_SIZE, IMG_SIZE, 3], dtype = tf.uint8),\n",
        "    layers.Lambda(lambda x: tf.cast(x, tf.float32)),\n",
        "    layers.Lambda(lambda x: apps.resnet.preprocess_input(x)),\n",
        "    core,\n",
        "    layers.Flatten(),\n",
        "    layers.Dropout(DROPOUT_RATE),\n",
        "    layers.Dense(NUM_CLASSES, activation='softmax')\n",
        "  ])\n",
        "\n",
        "  adam = optimizers.Adam(learning_rate=LEARNING_RATE)\n",
        "\n",
        "  model.compile(optimizer=adam, loss='sparse_categorical_crossentropy', metrics=['accuracy'])\n",
        "  return model\n",
        "\n",
        "model = create_model()\n",
        "model.summary()"
      ],
      "execution_count": 9,
      "outputs": [
        {
          "output_type": "stream",
          "name": "stdout",
          "text": [
            "Downloading data from https://storage.googleapis.com/tensorflow/keras-applications/resnet/resnet50_weights_tf_dim_ordering_tf_kernels_notop.h5\n",
            "94773248/94765736 [==============================] - 1s 0us/step\n",
            "94781440/94765736 [==============================] - 1s 0us/step\n",
            "Model: \"sequential\"\n",
            "_________________________________________________________________\n",
            " Layer (type)                Output Shape              Param #   \n",
            "=================================================================\n",
            " lambda (Lambda)             (None, 264, 264, 3)       0         \n",
            "                                                                 \n",
            " lambda_1 (Lambda)           (None, 264, 264, 3)       0         \n",
            "                                                                 \n",
            " resnet50 (Functional)       (None, 9, 9, 2048)        23587712  \n",
            "                                                                 \n",
            " flatten (Flatten)           (None, 165888)            0         \n",
            "                                                                 \n",
            " dropout (Dropout)           (None, 165888)            0         \n",
            "                                                                 \n",
            " dense (Dense)               (None, 102)               16920678  \n",
            "                                                                 \n",
            "=================================================================\n",
            "Total params: 40,508,390\n",
            "Trainable params: 16,920,678\n",
            "Non-trainable params: 23,587,712\n",
            "_________________________________________________________________\n"
          ]
        }
      ]
    },
    {
      "cell_type": "markdown",
      "metadata": {
        "id": "hjZ0-umMZh3K"
      },
      "source": [
        "# Training Setup"
      ]
    },
    {
      "cell_type": "code",
      "metadata": {
        "id": "IQ2MTFvdZl0G"
      },
      "source": [
        "def train(model, tds, vds, batch_size=24, epochs=100):\n",
        "  tds = tds.shuffle(1000, reshuffle_each_iteration=True)\n",
        "  batch_tds = tds.batch(batch_size).prefetch(tf.data.AUTOTUNE)\n",
        "  batch_vds = vds.batch(256).prefetch(tf.data.AUTOTUNE)\n",
        "\n",
        "  # Save the best weights during training\n",
        "  tmpl = 'weights-epoch-{epoch:d}-val_accuracy-{val_accuracy:.4f}.h5'\n",
        "  checkpoints = ModelCheckpoint(tmpl, save_best_only=True, monitor=\"val_accuracy\")\n",
        "\n",
        "  history = model.fit(\n",
        "    batch_tds,\n",
        "    validation_data=batch_vds,\n",
        "    epochs=epochs,\n",
        "    callbacks=[checkpoints]\n",
        "  )\n",
        "\n",
        "  return history"
      ],
      "execution_count": 10,
      "outputs": []
    },
    {
      "cell_type": "markdown",
      "metadata": {
        "id": "LYRK3icEdQMz"
      },
      "source": [
        "# Experiments"
      ]
    },
    {
      "cell_type": "markdown",
      "metadata": {
        "id": "TsxxK0FBdTdY"
      },
      "source": [
        "## baseline"
      ]
    },
    {
      "cell_type": "code",
      "metadata": {
        "colab": {
          "base_uri": "https://localhost:8080/",
          "height": 1000
        },
        "id": "eDZliBWY35dS",
        "outputId": "74a20fc5-5325-472d-9a44-d714d781b675"
      },
      "source": [
        "baseline_hist = train(model, train_ds, val_ds, batch_size=24, epochs=100)\n",
        "\n",
        "plot_acc(baseline_hist)\n",
        "plot_loss(baseline_hist)"
      ],
      "execution_count": 11,
      "outputs": [
        {
          "output_type": "stream",
          "name": "stdout",
          "text": [
            "Epoch 1/100\n",
            "43/43 [==============================] - 39s 536ms/step - loss: 4.6282 - accuracy: 0.3980 - val_loss: 1.8141 - val_accuracy: 0.6814\n",
            "Epoch 2/100\n",
            "43/43 [==============================] - 10s 232ms/step - loss: 0.0571 - accuracy: 0.9804 - val_loss: 2.0710 - val_accuracy: 0.6863\n",
            "Epoch 3/100\n",
            "43/43 [==============================] - 9s 214ms/step - loss: 9.6717e-05 - accuracy: 1.0000 - val_loss: 1.9961 - val_accuracy: 0.6853\n",
            "Epoch 4/100\n",
            "43/43 [==============================] - 10s 236ms/step - loss: 3.0470e-05 - accuracy: 1.0000 - val_loss: 1.9878 - val_accuracy: 0.6882\n",
            "Epoch 5/100\n",
            "43/43 [==============================] - 10s 238ms/step - loss: 1.1971e-05 - accuracy: 1.0000 - val_loss: 1.9838 - val_accuracy: 0.6892\n",
            "Epoch 6/100\n",
            "43/43 [==============================] - 9s 220ms/step - loss: 1.0515e-05 - accuracy: 1.0000 - val_loss: 1.9794 - val_accuracy: 0.6892\n",
            "Epoch 7/100\n",
            "43/43 [==============================] - 10s 240ms/step - loss: 5.9275e-06 - accuracy: 1.0000 - val_loss: 1.9755 - val_accuracy: 0.6902\n",
            "Epoch 8/100\n",
            "43/43 [==============================] - 10s 242ms/step - loss: 6.7323e-06 - accuracy: 1.0000 - val_loss: 1.9717 - val_accuracy: 0.6912\n",
            "Epoch 9/100\n",
            "43/43 [==============================] - 9s 222ms/step - loss: 6.3798e-06 - accuracy: 1.0000 - val_loss: 1.9683 - val_accuracy: 0.6912\n",
            "Epoch 10/100\n",
            "43/43 [==============================] - 10s 244ms/step - loss: 3.4665e-06 - accuracy: 1.0000 - val_loss: 1.9663 - val_accuracy: 0.6931\n",
            "Epoch 11/100\n",
            "43/43 [==============================] - 10s 223ms/step - loss: 3.4269e-06 - accuracy: 1.0000 - val_loss: 1.9642 - val_accuracy: 0.6931\n",
            "Epoch 12/100\n",
            "43/43 [==============================] - 10s 245ms/step - loss: 4.4995e-06 - accuracy: 1.0000 - val_loss: 1.9611 - val_accuracy: 0.6941\n",
            "Epoch 13/100\n",
            "43/43 [==============================] - 10s 224ms/step - loss: 2.6858e-06 - accuracy: 1.0000 - val_loss: 1.9590 - val_accuracy: 0.6941\n",
            "Epoch 14/100\n",
            "43/43 [==============================] - 10s 246ms/step - loss: 4.8629e-06 - accuracy: 1.0000 - val_loss: 1.9570 - val_accuracy: 0.6951\n",
            "Epoch 15/100\n",
            "43/43 [==============================] - 11s 251ms/step - loss: 3.6225e-06 - accuracy: 1.0000 - val_loss: 1.9543 - val_accuracy: 0.6961\n",
            "Epoch 16/100\n",
            "43/43 [==============================] - 11s 257ms/step - loss: 2.4325e-06 - accuracy: 1.0000 - val_loss: 1.9510 - val_accuracy: 0.6971\n",
            "Epoch 17/100\n",
            "43/43 [==============================] - 10s 233ms/step - loss: 3.0458e-06 - accuracy: 1.0000 - val_loss: 1.9485 - val_accuracy: 0.6971\n",
            "Epoch 18/100\n",
            "43/43 [==============================] - 10s 233ms/step - loss: 1.7126e-06 - accuracy: 1.0000 - val_loss: 1.9464 - val_accuracy: 0.6971\n",
            "Epoch 19/100\n",
            "43/43 [==============================] - 10s 234ms/step - loss: 1.4554e-06 - accuracy: 1.0000 - val_loss: 1.9451 - val_accuracy: 0.6971\n",
            "Epoch 20/100\n",
            "43/43 [==============================] - 10s 234ms/step - loss: 9.5669e-07 - accuracy: 1.0000 - val_loss: 1.9440 - val_accuracy: 0.6971\n",
            "Epoch 21/100\n",
            "43/43 [==============================] - 10s 243ms/step - loss: 1.9248e-06 - accuracy: 1.0000 - val_loss: 1.9422 - val_accuracy: 0.6971\n",
            "Epoch 22/100\n",
            "43/43 [==============================] - 10s 233ms/step - loss: 1.8849e-06 - accuracy: 1.0000 - val_loss: 1.9405 - val_accuracy: 0.6971\n",
            "Epoch 23/100\n",
            "43/43 [==============================] - 11s 255ms/step - loss: 1.2241e-06 - accuracy: 1.0000 - val_loss: 1.9384 - val_accuracy: 0.6980\n",
            "Epoch 24/100\n",
            "43/43 [==============================] - 10s 233ms/step - loss: 1.0046e-06 - accuracy: 1.0000 - val_loss: 1.9371 - val_accuracy: 0.6980\n",
            "Epoch 25/100\n",
            "43/43 [==============================] - 10s 235ms/step - loss: 1.4756e-06 - accuracy: 1.0000 - val_loss: 1.9358 - val_accuracy: 0.6980\n",
            "Epoch 26/100\n",
            "43/43 [==============================] - 10s 237ms/step - loss: 1.1333e-06 - accuracy: 1.0000 - val_loss: 1.9349 - val_accuracy: 0.6980\n",
            "Epoch 27/100\n",
            "43/43 [==============================] - 10s 240ms/step - loss: 1.3430e-06 - accuracy: 1.0000 - val_loss: 1.9334 - val_accuracy: 0.6980\n",
            "Epoch 28/100\n",
            "43/43 [==============================] - 11s 260ms/step - loss: 8.8050e-07 - accuracy: 1.0000 - val_loss: 1.9324 - val_accuracy: 0.6990\n",
            "Epoch 29/100\n",
            "43/43 [==============================] - 10s 242ms/step - loss: 9.3438e-07 - accuracy: 1.0000 - val_loss: 1.9315 - val_accuracy: 0.6990\n",
            "Epoch 30/100\n",
            "43/43 [==============================] - 10s 237ms/step - loss: 1.4023e-06 - accuracy: 1.0000 - val_loss: 1.9293 - val_accuracy: 0.6990\n",
            "Epoch 31/100\n",
            "43/43 [==============================] - 10s 240ms/step - loss: 8.4766e-07 - accuracy: 1.0000 - val_loss: 1.9280 - val_accuracy: 0.6990\n",
            "Epoch 32/100\n",
            "43/43 [==============================] - 10s 242ms/step - loss: 1.0537e-06 - accuracy: 1.0000 - val_loss: 1.9268 - val_accuracy: 0.6990\n",
            "Epoch 33/100\n",
            "43/43 [==============================] - 10s 239ms/step - loss: 1.1080e-06 - accuracy: 1.0000 - val_loss: 1.9253 - val_accuracy: 0.6990\n",
            "Epoch 34/100\n",
            "43/43 [==============================] - 10s 242ms/step - loss: 1.0519e-06 - accuracy: 1.0000 - val_loss: 1.9242 - val_accuracy: 0.6990\n",
            "Epoch 35/100\n",
            "43/43 [==============================] - 10s 239ms/step - loss: 8.1633e-07 - accuracy: 1.0000 - val_loss: 1.9233 - val_accuracy: 0.6990\n",
            "Epoch 36/100\n",
            "43/43 [==============================] - 10s 241ms/step - loss: 1.0253e-06 - accuracy: 1.0000 - val_loss: 1.9219 - val_accuracy: 0.6990\n",
            "Epoch 37/100\n",
            "43/43 [==============================] - 10s 238ms/step - loss: 7.0414e-07 - accuracy: 1.0000 - val_loss: 1.9206 - val_accuracy: 0.6990\n",
            "Epoch 38/100\n",
            "43/43 [==============================] - 11s 259ms/step - loss: 1.1071e-06 - accuracy: 1.0000 - val_loss: 1.9190 - val_accuracy: 0.7000\n",
            "Epoch 39/100\n",
            "43/43 [==============================] - 10s 241ms/step - loss: 7.3067e-07 - accuracy: 1.0000 - val_loss: 1.9179 - val_accuracy: 0.7000\n",
            "Epoch 40/100\n",
            "43/43 [==============================] - 10s 238ms/step - loss: 1.2541e-06 - accuracy: 1.0000 - val_loss: 1.9161 - val_accuracy: 0.7000\n",
            "Epoch 41/100\n",
            "43/43 [==============================] - 11s 260ms/step - loss: 8.5840e-07 - accuracy: 1.0000 - val_loss: 1.9152 - val_accuracy: 0.7010\n",
            "Epoch 42/100\n",
            "43/43 [==============================] - 10s 243ms/step - loss: 8.5954e-07 - accuracy: 1.0000 - val_loss: 1.9140 - val_accuracy: 0.7010\n",
            "Epoch 43/100\n",
            "43/43 [==============================] - 10s 238ms/step - loss: 7.2844e-07 - accuracy: 1.0000 - val_loss: 1.9132 - val_accuracy: 0.7010\n",
            "Epoch 44/100\n",
            "43/43 [==============================] - 10s 241ms/step - loss: 7.3967e-07 - accuracy: 1.0000 - val_loss: 1.9121 - val_accuracy: 0.7010\n",
            "Epoch 45/100\n",
            "43/43 [==============================] - 10s 239ms/step - loss: 7.5660e-07 - accuracy: 1.0000 - val_loss: 1.9107 - val_accuracy: 0.7010\n",
            "Epoch 46/100\n",
            "43/43 [==============================] - 11s 266ms/step - loss: 5.6764e-07 - accuracy: 1.0000 - val_loss: 1.9099 - val_accuracy: 0.7020\n",
            "Epoch 47/100\n",
            "43/43 [==============================] - 10s 242ms/step - loss: 4.1407e-07 - accuracy: 1.0000 - val_loss: 1.9089 - val_accuracy: 0.7020\n",
            "Epoch 48/100\n",
            "43/43 [==============================] - 10s 245ms/step - loss: 7.4420e-07 - accuracy: 1.0000 - val_loss: 1.9081 - val_accuracy: 0.7020\n",
            "Epoch 49/100\n",
            "43/43 [==============================] - 10s 239ms/step - loss: 4.9764e-07 - accuracy: 1.0000 - val_loss: 1.9071 - val_accuracy: 0.7020\n",
            "Epoch 50/100\n",
            "43/43 [==============================] - 10s 242ms/step - loss: 5.8517e-07 - accuracy: 1.0000 - val_loss: 1.9058 - val_accuracy: 0.7020\n",
            "Epoch 51/100\n",
            "43/43 [==============================] - 10s 241ms/step - loss: 5.2335e-07 - accuracy: 1.0000 - val_loss: 1.9048 - val_accuracy: 0.7020\n",
            "Epoch 52/100\n",
            "43/43 [==============================] - 10s 243ms/step - loss: 5.1750e-07 - accuracy: 1.0000 - val_loss: 1.9038 - val_accuracy: 0.7020\n",
            "Epoch 53/100\n",
            "43/43 [==============================] - 10s 238ms/step - loss: 3.9292e-07 - accuracy: 1.0000 - val_loss: 1.9031 - val_accuracy: 0.7020\n",
            "Epoch 54/100\n",
            "43/43 [==============================] - 10s 240ms/step - loss: 5.1364e-07 - accuracy: 1.0000 - val_loss: 1.9021 - val_accuracy: 0.7020\n",
            "Epoch 55/100\n",
            "43/43 [==============================] - 11s 261ms/step - loss: 3.5529e-07 - accuracy: 1.0000 - val_loss: 1.9013 - val_accuracy: 0.7029\n",
            "Epoch 56/100\n",
            "43/43 [==============================] - 10s 237ms/step - loss: 5.2860e-07 - accuracy: 1.0000 - val_loss: 1.9003 - val_accuracy: 0.7029\n",
            "Epoch 57/100\n",
            "43/43 [==============================] - 10s 240ms/step - loss: 5.7956e-07 - accuracy: 1.0000 - val_loss: 1.8993 - val_accuracy: 0.7029\n",
            "Epoch 58/100\n",
            "43/43 [==============================] - 10s 241ms/step - loss: 3.4173e-07 - accuracy: 1.0000 - val_loss: 1.8984 - val_accuracy: 0.7029\n",
            "Epoch 59/100\n",
            "43/43 [==============================] - 10s 243ms/step - loss: 4.5042e-07 - accuracy: 1.0000 - val_loss: 1.8975 - val_accuracy: 0.7029\n",
            "Epoch 60/100\n",
            "43/43 [==============================] - 10s 238ms/step - loss: 3.8509e-07 - accuracy: 1.0000 - val_loss: 1.8967 - val_accuracy: 0.7029\n",
            "Epoch 61/100\n",
            "43/43 [==============================] - 10s 240ms/step - loss: 4.2658e-07 - accuracy: 1.0000 - val_loss: 1.8961 - val_accuracy: 0.7029\n",
            "Epoch 62/100\n",
            "43/43 [==============================] - 10s 236ms/step - loss: 3.7317e-07 - accuracy: 1.0000 - val_loss: 1.8953 - val_accuracy: 0.7029\n",
            "Epoch 63/100\n",
            "43/43 [==============================] - 11s 259ms/step - loss: 5.1878e-07 - accuracy: 1.0000 - val_loss: 1.8940 - val_accuracy: 0.7039\n",
            "Epoch 64/100\n",
            "43/43 [==============================] - 10s 237ms/step - loss: 5.0687e-07 - accuracy: 1.0000 - val_loss: 1.8931 - val_accuracy: 0.7039\n",
            "Epoch 65/100\n",
            "43/43 [==============================] - 10s 239ms/step - loss: 3.2128e-07 - accuracy: 1.0000 - val_loss: 1.8923 - val_accuracy: 0.7039\n",
            "Epoch 66/100\n",
            "43/43 [==============================] - 10s 241ms/step - loss: 2.9837e-07 - accuracy: 1.0000 - val_loss: 1.8913 - val_accuracy: 0.7039\n",
            "Epoch 67/100\n",
            "43/43 [==============================] - 10s 238ms/step - loss: 5.0429e-07 - accuracy: 1.0000 - val_loss: 1.8900 - val_accuracy: 0.7039\n",
            "Epoch 68/100\n",
            "43/43 [==============================] - 10s 239ms/step - loss: 2.4707e-07 - accuracy: 1.0000 - val_loss: 1.8893 - val_accuracy: 0.7039\n",
            "Epoch 69/100\n",
            "43/43 [==============================] - 10s 241ms/step - loss: 3.2397e-07 - accuracy: 1.0000 - val_loss: 1.8884 - val_accuracy: 0.7039\n",
            "Epoch 70/100\n",
            "43/43 [==============================] - 10s 237ms/step - loss: 3.4828e-07 - accuracy: 1.0000 - val_loss: 1.8877 - val_accuracy: 0.7039\n",
            "Epoch 71/100\n",
            "43/43 [==============================] - 10s 238ms/step - loss: 2.4636e-07 - accuracy: 1.0000 - val_loss: 1.8872 - val_accuracy: 0.7039\n",
            "Epoch 72/100\n",
            "43/43 [==============================] - 10s 240ms/step - loss: 2.2989e-07 - accuracy: 1.0000 - val_loss: 1.8865 - val_accuracy: 0.7039\n",
            "Epoch 73/100\n",
            "43/43 [==============================] - 10s 237ms/step - loss: 3.4208e-07 - accuracy: 1.0000 - val_loss: 1.8856 - val_accuracy: 0.7039\n",
            "Epoch 74/100\n",
            "43/43 [==============================] - 10s 240ms/step - loss: 4.1594e-07 - accuracy: 1.0000 - val_loss: 1.8846 - val_accuracy: 0.7039\n",
            "Epoch 75/100\n",
            "43/43 [==============================] - 11s 265ms/step - loss: 3.3799e-07 - accuracy: 1.0000 - val_loss: 1.8837 - val_accuracy: 0.7049\n",
            "Epoch 76/100\n",
            "43/43 [==============================] - 11s 262ms/step - loss: 2.3795e-07 - accuracy: 1.0000 - val_loss: 1.8830 - val_accuracy: 0.7059\n",
            "Epoch 77/100\n",
            "43/43 [==============================] - 10s 243ms/step - loss: 2.4531e-07 - accuracy: 1.0000 - val_loss: 1.8823 - val_accuracy: 0.7059\n",
            "Epoch 78/100\n",
            "43/43 [==============================] - 10s 238ms/step - loss: 4.4457e-07 - accuracy: 1.0000 - val_loss: 1.8810 - val_accuracy: 0.7049\n",
            "Epoch 79/100\n",
            "43/43 [==============================] - 10s 239ms/step - loss: 2.4940e-07 - accuracy: 1.0000 - val_loss: 1.8800 - val_accuracy: 0.7059\n",
            "Epoch 80/100\n",
            "43/43 [==============================] - 10s 242ms/step - loss: 3.0585e-07 - accuracy: 1.0000 - val_loss: 1.8791 - val_accuracy: 0.7059\n",
            "Epoch 81/100\n",
            "43/43 [==============================] - 10s 238ms/step - loss: 2.3900e-07 - accuracy: 1.0000 - val_loss: 1.8783 - val_accuracy: 0.7059\n",
            "Epoch 82/100\n",
            "43/43 [==============================] - 10s 240ms/step - loss: 2.2720e-07 - accuracy: 1.0000 - val_loss: 1.8776 - val_accuracy: 0.7059\n",
            "Epoch 83/100\n",
            "43/43 [==============================] - 10s 241ms/step - loss: 1.8770e-07 - accuracy: 1.0000 - val_loss: 1.8768 - val_accuracy: 0.7059\n",
            "Epoch 84/100\n",
            "43/43 [==============================] - 10s 238ms/step - loss: 2.8961e-07 - accuracy: 1.0000 - val_loss: 1.8758 - val_accuracy: 0.7059\n",
            "Epoch 85/100\n",
            "43/43 [==============================] - 10s 240ms/step - loss: 2.3409e-07 - accuracy: 1.0000 - val_loss: 1.8750 - val_accuracy: 0.7059\n",
            "Epoch 86/100\n",
            "43/43 [==============================] - 10s 244ms/step - loss: 2.1937e-07 - accuracy: 1.0000 - val_loss: 1.8742 - val_accuracy: 0.7059\n",
            "Epoch 87/100\n",
            "43/43 [==============================] - 10s 238ms/step - loss: 2.2638e-07 - accuracy: 1.0000 - val_loss: 1.8732 - val_accuracy: 0.7059\n",
            "Epoch 88/100\n",
            "43/43 [==============================] - 11s 259ms/step - loss: 1.7671e-07 - accuracy: 1.0000 - val_loss: 1.8727 - val_accuracy: 0.7069\n",
            "Epoch 89/100\n",
            "43/43 [==============================] - 10s 241ms/step - loss: 2.6997e-07 - accuracy: 1.0000 - val_loss: 1.8719 - val_accuracy: 0.7069\n",
            "Epoch 90/100\n",
            "43/43 [==============================] - 10s 239ms/step - loss: 2.6203e-07 - accuracy: 1.0000 - val_loss: 1.8709 - val_accuracy: 0.7059\n",
            "Epoch 91/100\n",
            "43/43 [==============================] - 10s 240ms/step - loss: 1.8711e-07 - accuracy: 1.0000 - val_loss: 1.8703 - val_accuracy: 0.7069\n",
            "Epoch 92/100\n",
            "43/43 [==============================] - 10s 237ms/step - loss: 2.2556e-07 - accuracy: 1.0000 - val_loss: 1.8695 - val_accuracy: 0.7069\n",
            "Epoch 93/100\n",
            "43/43 [==============================] - 10s 238ms/step - loss: 1.7870e-07 - accuracy: 1.0000 - val_loss: 1.8688 - val_accuracy: 0.7069\n",
            "Epoch 94/100\n",
            "43/43 [==============================] - 10s 240ms/step - loss: 1.9389e-07 - accuracy: 1.0000 - val_loss: 1.8682 - val_accuracy: 0.7069\n",
            "Epoch 95/100\n",
            "43/43 [==============================] - 10s 242ms/step - loss: 1.9295e-07 - accuracy: 1.0000 - val_loss: 1.8674 - val_accuracy: 0.7069\n",
            "Epoch 96/100\n",
            "43/43 [==============================] - 10s 239ms/step - loss: 2.1738e-07 - accuracy: 1.0000 - val_loss: 1.8664 - val_accuracy: 0.7059\n",
            "Epoch 97/100\n",
            "43/43 [==============================] - 10s 240ms/step - loss: 1.7274e-07 - accuracy: 1.0000 - val_loss: 1.8656 - val_accuracy: 0.7069\n",
            "Epoch 98/100\n",
            "43/43 [==============================] - 10s 238ms/step - loss: 1.3884e-07 - accuracy: 1.0000 - val_loss: 1.8649 - val_accuracy: 0.7069\n",
            "Epoch 99/100\n",
            "43/43 [==============================] - 10s 240ms/step - loss: 1.6900e-07 - accuracy: 1.0000 - val_loss: 1.8640 - val_accuracy: 0.7069\n",
            "Epoch 100/100\n",
            "43/43 [==============================] - 10s 241ms/step - loss: 1.3592e-07 - accuracy: 1.0000 - val_loss: 1.8633 - val_accuracy: 0.7069\n"
          ]
        },
        {
          "output_type": "display_data",
          "data": {
            "text/plain": [
              "<Figure size 432x288 with 1 Axes>"
            ],
            "image/png": "[encoded data removed]"
          },
          "metadata": {
            "needs_background": "light"
          }
        },
        {
          "output_type": "display_data",
          "data": {
            "text/plain": [
              "<Figure size 432x288 with 1 Axes>"
            ],
            "image/png": "[encoded data removed]"
          },
          "metadata": {
            "needs_background": "light"
          }
        }
      ]
    },
    {
      "cell_type": "markdown",
      "metadata": {
        "id": "6vB4k6p9iGvE"
      },
      "source": [
        "## basicaug-hflip-rotate-0.1"
      ]
    },
    {
      "cell_type": "code",
      "metadata": {
        "id": "FHFUJnm6iZqj"
      },
      "source": [
        "augs = tf.keras.Sequential([\n",
        "  layers.RandomFlip(\"horizontal\"),\n",
        "  layers.RandomRotation(0.1),\n",
        "])\n",
        "\n",
        "def augfn(image, label):\n",
        "  image = tf.expand_dims(image, 0) # Introduce a batch dimension\n",
        "  image = augs(image, training=True) # Apply augmentation\n",
        "  image = tf.squeeze(image, axis=0) # Squeeze the batch\n",
        "  return image, label\n",
        "\n",
        "train_aug_ds = train_ds.map(augfn)"
      ],
      "execution_count": 12,
      "outputs": []
    },
    {
      "cell_type": "code",
      "metadata": {
        "colab": {
          "base_uri": "https://localhost:8080/",
          "height": 1000
        },
        "id": "dgPGQdKATJhe",
        "outputId": "7e4f0f77-1638-49dc-dc2b-a81d2af722e2"
      },
      "source": [
        "augs_hist = train(model, train_aug_ds, val_ds, batch_size=24, epochs=100)\n",
        "\n",
        "plot_acc(augs_hist)\n",
        "plot_loss(augs_hist)"
      ],
      "execution_count": 13,
      "outputs": [
        {
          "output_type": "stream",
          "name": "stdout",
          "text": [
            "Epoch 1/100\n",
            "43/43 [==============================] - 20s 260ms/step - loss: 7.1851 - accuracy: 0.5853 - val_loss: 13.1245 - val_accuracy: 0.4696\n",
            "Epoch 2/100\n",
            "43/43 [==============================] - 18s 257ms/step - loss: 3.9289 - accuracy: 0.7902 - val_loss: 8.5414 - val_accuracy: 0.6343\n",
            "Epoch 3/100\n",
            "43/43 [==============================] - 18s 259ms/step - loss: 1.8109 - accuracy: 0.8941 - val_loss: 6.6577 - val_accuracy: 0.6941\n",
            "Epoch 4/100\n",
            "43/43 [==============================] - 18s 258ms/step - loss: 0.5623 - accuracy: 0.9480 - val_loss: 6.8024 - val_accuracy: 0.6971\n",
            "Epoch 5/100\n",
            "43/43 [==============================] - 18s 257ms/step - loss: 0.2988 - accuracy: 0.9696 - val_loss: 4.9204 - val_accuracy: 0.7480\n",
            "Epoch 6/100\n",
            "43/43 [==============================] - 18s 237ms/step - loss: 0.4698 - accuracy: 0.9608 - val_loss: 5.0624 - val_accuracy: 0.7451\n",
            "Epoch 7/100\n",
            "43/43 [==============================] - 19s 255ms/step - loss: 0.2046 - accuracy: 0.9814 - val_loss: 4.8670 - val_accuracy: 0.7520\n",
            "Epoch 8/100\n",
            "43/43 [==============================] - 18s 255ms/step - loss: 0.2038 - accuracy: 0.9833 - val_loss: 4.4367 - val_accuracy: 0.7735\n",
            "Epoch 9/100\n",
            "43/43 [==============================] - 18s 257ms/step - loss: 0.0969 - accuracy: 0.9873 - val_loss: 4.1599 - val_accuracy: 0.7765\n",
            "Epoch 10/100\n",
            "43/43 [==============================] - 17s 235ms/step - loss: 0.0486 - accuracy: 0.9892 - val_loss: 4.3620 - val_accuracy: 0.7578\n",
            "Epoch 11/100\n",
            "43/43 [==============================] - 17s 234ms/step - loss: 0.1315 - accuracy: 0.9873 - val_loss: 3.9935 - val_accuracy: 0.7686\n",
            "Epoch 12/100\n",
            "43/43 [==============================] - 18s 253ms/step - loss: 0.1012 - accuracy: 0.9882 - val_loss: 3.8506 - val_accuracy: 0.7824\n",
            "Epoch 13/100\n",
            "43/43 [==============================] - 17s 234ms/step - loss: 0.0793 - accuracy: 0.9912 - val_loss: 3.7784 - val_accuracy: 0.7824\n",
            "Epoch 14/100\n",
            "43/43 [==============================] - 17s 234ms/step - loss: 0.0852 - accuracy: 0.9892 - val_loss: 5.2930 - val_accuracy: 0.7461\n",
            "Epoch 15/100\n",
            "43/43 [==============================] - 17s 233ms/step - loss: 0.1074 - accuracy: 0.9873 - val_loss: 4.6076 - val_accuracy: 0.7441\n",
            "Epoch 16/100\n",
            "43/43 [==============================] - 17s 234ms/step - loss: 0.0600 - accuracy: 0.9882 - val_loss: 4.4302 - val_accuracy: 0.7637\n",
            "Epoch 17/100\n",
            "43/43 [==============================] - 17s 233ms/step - loss: 0.0382 - accuracy: 0.9961 - val_loss: 4.3291 - val_accuracy: 0.7657\n",
            "Epoch 18/100\n",
            "43/43 [==============================] - 17s 233ms/step - loss: 0.0109 - accuracy: 0.9961 - val_loss: 4.1061 - val_accuracy: 0.7794\n",
            "Epoch 19/100\n",
            "43/43 [==============================] - 17s 234ms/step - loss: 0.0518 - accuracy: 0.9941 - val_loss: 4.4841 - val_accuracy: 0.7618\n",
            "Epoch 20/100\n",
            "43/43 [==============================] - 17s 234ms/step - loss: 0.0106 - accuracy: 0.9961 - val_loss: 4.6421 - val_accuracy: 0.7578\n",
            "Epoch 21/100\n",
            "43/43 [==============================] - 17s 233ms/step - loss: 0.0513 - accuracy: 0.9941 - val_loss: 4.2749 - val_accuracy: 0.7706\n",
            "Epoch 22/100\n",
            "43/43 [==============================] - 17s 234ms/step - loss: 0.0133 - accuracy: 0.9961 - val_loss: 4.3685 - val_accuracy: 0.7647\n",
            "Epoch 23/100\n",
            "43/43 [==============================] - 17s 233ms/step - loss: 0.0892 - accuracy: 0.9931 - val_loss: 4.6105 - val_accuracy: 0.7578\n",
            "Epoch 24/100\n",
            "43/43 [==============================] - 17s 236ms/step - loss: 0.0176 - accuracy: 0.9971 - val_loss: 4.3392 - val_accuracy: 0.7657\n",
            "Epoch 25/100\n",
            "43/43 [==============================] - 17s 234ms/step - loss: 0.0064 - accuracy: 0.9980 - val_loss: 4.2369 - val_accuracy: 0.7686\n",
            "Epoch 26/100\n",
            "43/43 [==============================] - 17s 234ms/step - loss: 0.0083 - accuracy: 0.9980 - val_loss: 3.9052 - val_accuracy: 0.7794\n",
            "Epoch 27/100\n",
            "43/43 [==============================] - 18s 256ms/step - loss: 3.7586e-04 - accuracy: 1.0000 - val_loss: 3.8321 - val_accuracy: 0.7843\n",
            "Epoch 28/100\n",
            "43/43 [==============================] - 17s 234ms/step - loss: 0.0162 - accuracy: 0.9961 - val_loss: 4.0753 - val_accuracy: 0.7804\n",
            "Epoch 29/100\n",
            "43/43 [==============================] - 17s 235ms/step - loss: 5.1302e-04 - accuracy: 1.0000 - val_loss: 4.1390 - val_accuracy: 0.7824\n",
            "Epoch 30/100\n",
            "43/43 [==============================] - 18s 255ms/step - loss: 0.0444 - accuracy: 0.9961 - val_loss: 4.0269 - val_accuracy: 0.7892\n",
            "Epoch 31/100\n",
            "43/43 [==============================] - 18s 254ms/step - loss: 0.0172 - accuracy: 0.9980 - val_loss: 3.9751 - val_accuracy: 0.7931\n",
            "Epoch 32/100\n",
            "43/43 [==============================] - 17s 235ms/step - loss: 0.0127 - accuracy: 0.9971 - val_loss: 3.8630 - val_accuracy: 0.7902\n",
            "Epoch 33/100\n",
            "43/43 [==============================] - 17s 233ms/step - loss: 0.0340 - accuracy: 0.9961 - val_loss: 4.3989 - val_accuracy: 0.7814\n",
            "Epoch 34/100\n",
            "43/43 [==============================] - 17s 235ms/step - loss: 0.0020 - accuracy: 0.9980 - val_loss: 4.4068 - val_accuracy: 0.7863\n",
            "Epoch 35/100\n",
            "43/43 [==============================] - 18s 255ms/step - loss: 0.0264 - accuracy: 0.9951 - val_loss: 3.7279 - val_accuracy: 0.8029\n",
            "Epoch 36/100\n",
            "43/43 [==============================] - 17s 234ms/step - loss: 0.0107 - accuracy: 0.9971 - val_loss: 4.5512 - val_accuracy: 0.7755\n",
            "Epoch 37/100\n",
            "43/43 [==============================] - 17s 236ms/step - loss: 0.0126 - accuracy: 0.9971 - val_loss: 3.8639 - val_accuracy: 0.7971\n",
            "Epoch 38/100\n",
            "43/43 [==============================] - 17s 236ms/step - loss: 0.0142 - accuracy: 0.9971 - val_loss: 3.8554 - val_accuracy: 0.8020\n",
            "Epoch 39/100\n",
            "43/43 [==============================] - 17s 235ms/step - loss: 0.0528 - accuracy: 0.9951 - val_loss: 4.6100 - val_accuracy: 0.7853\n",
            "Epoch 40/100\n",
            "43/43 [==============================] - 17s 234ms/step - loss: 0.0992 - accuracy: 0.9931 - val_loss: 4.0848 - val_accuracy: 0.7980\n",
            "Epoch 41/100\n",
            "43/43 [==============================] - 17s 235ms/step - loss: 0.0635 - accuracy: 0.9980 - val_loss: 3.7259 - val_accuracy: 0.8029\n",
            "Epoch 42/100\n",
            "43/43 [==============================] - 18s 256ms/step - loss: 0.0108 - accuracy: 0.9980 - val_loss: 3.4920 - val_accuracy: 0.8147\n",
            "Epoch 43/100\n",
            "43/43 [==============================] - 18s 255ms/step - loss: 1.6502e-07 - accuracy: 1.0000 - val_loss: 3.4376 - val_accuracy: 0.8186\n",
            "Epoch 44/100\n",
            "43/43 [==============================] - 17s 233ms/step - loss: 0.0069 - accuracy: 0.9980 - val_loss: 3.6184 - val_accuracy: 0.8049\n",
            "Epoch 45/100\n",
            "43/43 [==============================] - 17s 233ms/step - loss: 0.0116 - accuracy: 0.9971 - val_loss: 3.6526 - val_accuracy: 0.8088\n",
            "Epoch 46/100\n",
            "43/43 [==============================] - 17s 231ms/step - loss: 0.0015 - accuracy: 0.9990 - val_loss: 3.7919 - val_accuracy: 0.8078\n",
            "Epoch 47/100\n",
            "43/43 [==============================] - 17s 231ms/step - loss: 0.0259 - accuracy: 0.9961 - val_loss: 4.0887 - val_accuracy: 0.8049\n",
            "Epoch 48/100\n",
            "43/43 [==============================] - 17s 230ms/step - loss: 0.0224 - accuracy: 0.9951 - val_loss: 3.8921 - val_accuracy: 0.8020\n",
            "Epoch 49/100\n",
            "43/43 [==============================] - 17s 230ms/step - loss: 0.0209 - accuracy: 0.9961 - val_loss: 3.8800 - val_accuracy: 0.8167\n",
            "Epoch 50/100\n",
            "43/43 [==============================] - 17s 230ms/step - loss: 0.0605 - accuracy: 0.9951 - val_loss: 4.3701 - val_accuracy: 0.7863\n",
            "Epoch 51/100\n",
            "43/43 [==============================] - 17s 228ms/step - loss: 0.1427 - accuracy: 0.9931 - val_loss: 4.0671 - val_accuracy: 0.8039\n",
            "Epoch 52/100\n",
            "43/43 [==============================] - 17s 228ms/step - loss: 0.0364 - accuracy: 0.9961 - val_loss: 3.6472 - val_accuracy: 0.8176\n",
            "Epoch 53/100\n",
            "43/43 [==============================] - 17s 248ms/step - loss: 0.0260 - accuracy: 0.9971 - val_loss: 3.4176 - val_accuracy: 0.8255\n",
            "Epoch 54/100\n",
            "43/43 [==============================] - 17s 229ms/step - loss: 8.2096e-04 - accuracy: 1.0000 - val_loss: 3.4150 - val_accuracy: 0.8255\n",
            "Epoch 55/100\n",
            "43/43 [==============================] - 17s 228ms/step - loss: 0.0331 - accuracy: 0.9941 - val_loss: 3.6461 - val_accuracy: 0.8157\n",
            "Epoch 56/100\n",
            "43/43 [==============================] - 17s 228ms/step - loss: 0.0640 - accuracy: 0.9941 - val_loss: 4.0467 - val_accuracy: 0.8157\n",
            "Epoch 57/100\n",
            "43/43 [==============================] - 17s 228ms/step - loss: 0.0275 - accuracy: 0.9961 - val_loss: 4.2779 - val_accuracy: 0.7990\n",
            "Epoch 58/100\n",
            "43/43 [==============================] - 17s 230ms/step - loss: 0.0171 - accuracy: 0.9980 - val_loss: 3.9155 - val_accuracy: 0.8147\n",
            "Epoch 59/100\n",
            "43/43 [==============================] - 17s 229ms/step - loss: 0.0028 - accuracy: 0.9971 - val_loss: 3.9860 - val_accuracy: 0.8118\n",
            "Epoch 60/100\n",
            "43/43 [==============================] - 17s 228ms/step - loss: 0.0116 - accuracy: 0.9980 - val_loss: 3.9336 - val_accuracy: 0.8069\n",
            "Epoch 61/100\n",
            "43/43 [==============================] - 17s 228ms/step - loss: 0.0154 - accuracy: 0.9971 - val_loss: 4.2018 - val_accuracy: 0.7951\n",
            "Epoch 62/100\n",
            "43/43 [==============================] - 17s 228ms/step - loss: 0.0042 - accuracy: 0.9980 - val_loss: 3.8950 - val_accuracy: 0.8137\n",
            "Epoch 63/100\n",
            "43/43 [==============================] - 17s 229ms/step - loss: 0.0086 - accuracy: 0.9971 - val_loss: 4.1408 - val_accuracy: 0.8039\n",
            "Epoch 64/100\n",
            "43/43 [==============================] - 17s 228ms/step - loss: 0.0236 - accuracy: 0.9961 - val_loss: 4.6179 - val_accuracy: 0.7814\n",
            "Epoch 65/100\n",
            "43/43 [==============================] - 17s 227ms/step - loss: 0.0416 - accuracy: 0.9941 - val_loss: 4.0508 - val_accuracy: 0.8000\n",
            "Epoch 66/100\n",
            "43/43 [==============================] - 17s 228ms/step - loss: 0.0234 - accuracy: 0.9990 - val_loss: 3.9604 - val_accuracy: 0.8059\n",
            "Epoch 67/100\n",
            "43/43 [==============================] - 17s 228ms/step - loss: 0.0016 - accuracy: 0.9990 - val_loss: 3.9476 - val_accuracy: 0.7990\n",
            "Epoch 68/100\n",
            "43/43 [==============================] - 17s 228ms/step - loss: 0.0236 - accuracy: 0.9980 - val_loss: 4.2009 - val_accuracy: 0.7902\n",
            "Epoch 69/100\n",
            "43/43 [==============================] - 17s 228ms/step - loss: 0.0095 - accuracy: 0.9990 - val_loss: 3.9957 - val_accuracy: 0.8039\n",
            "Epoch 70/100\n",
            "43/43 [==============================] - 17s 228ms/step - loss: 0.0056 - accuracy: 0.9990 - val_loss: 3.8363 - val_accuracy: 0.8088\n",
            "Epoch 71/100\n",
            "43/43 [==============================] - 17s 228ms/step - loss: 3.2791e-07 - accuracy: 1.0000 - val_loss: 3.8369 - val_accuracy: 0.8098\n",
            "Epoch 72/100\n",
            "43/43 [==============================] - 17s 230ms/step - loss: 0.0021 - accuracy: 0.9990 - val_loss: 3.7111 - val_accuracy: 0.8078\n",
            "Epoch 73/100\n",
            "43/43 [==============================] - 17s 229ms/step - loss: 8.5881e-07 - accuracy: 1.0000 - val_loss: 3.7273 - val_accuracy: 0.8069\n",
            "Epoch 74/100\n",
            "43/43 [==============================] - 17s 229ms/step - loss: 4.6949e-06 - accuracy: 1.0000 - val_loss: 3.7113 - val_accuracy: 0.8078\n",
            "Epoch 75/100\n",
            "43/43 [==============================] - 17s 229ms/step - loss: 0.0146 - accuracy: 0.9990 - val_loss: 4.4938 - val_accuracy: 0.7824\n",
            "Epoch 76/100\n",
            "43/43 [==============================] - 17s 228ms/step - loss: 0.0713 - accuracy: 0.9941 - val_loss: 3.9460 - val_accuracy: 0.8039\n",
            "Epoch 77/100\n",
            "43/43 [==============================] - 17s 229ms/step - loss: 0.0134 - accuracy: 0.9980 - val_loss: 4.4089 - val_accuracy: 0.7882\n",
            "Epoch 78/100\n",
            "43/43 [==============================] - 17s 229ms/step - loss: 0.0276 - accuracy: 0.9971 - val_loss: 3.8785 - val_accuracy: 0.8137\n",
            "Epoch 79/100\n",
            "43/43 [==============================] - 17s 228ms/step - loss: 0.0060 - accuracy: 0.9980 - val_loss: 3.8795 - val_accuracy: 0.8088\n",
            "Epoch 80/100\n",
            "43/43 [==============================] - 17s 228ms/step - loss: 3.9522e-04 - accuracy: 1.0000 - val_loss: 3.7783 - val_accuracy: 0.8137\n",
            "Epoch 81/100\n",
            "43/43 [==============================] - 17s 228ms/step - loss: 0.0040 - accuracy: 0.9990 - val_loss: 3.8312 - val_accuracy: 0.8069\n",
            "Epoch 82/100\n",
            "43/43 [==============================] - 17s 228ms/step - loss: 4.9979e-05 - accuracy: 1.0000 - val_loss: 3.7200 - val_accuracy: 0.8069\n",
            "Epoch 83/100\n",
            "43/43 [==============================] - 17s 229ms/step - loss: 0.0239 - accuracy: 0.9990 - val_loss: 3.6446 - val_accuracy: 0.8147\n",
            "Epoch 84/100\n",
            "43/43 [==============================] - 17s 229ms/step - loss: 0.0106 - accuracy: 0.9990 - val_loss: 3.6304 - val_accuracy: 0.8137\n",
            "Epoch 85/100\n",
            "43/43 [==============================] - 17s 230ms/step - loss: 0.0036 - accuracy: 0.9980 - val_loss: 3.8271 - val_accuracy: 0.8118\n",
            "Epoch 86/100\n",
            "43/43 [==============================] - 17s 230ms/step - loss: 0.0802 - accuracy: 0.9951 - val_loss: 3.9908 - val_accuracy: 0.8039\n",
            "Epoch 87/100\n",
            "43/43 [==============================] - 17s 230ms/step - loss: 0.0402 - accuracy: 0.9951 - val_loss: 4.5870 - val_accuracy: 0.7794\n",
            "Epoch 88/100\n",
            "43/43 [==============================] - 17s 231ms/step - loss: 0.0433 - accuracy: 0.9941 - val_loss: 4.3873 - val_accuracy: 0.7931\n",
            "Epoch 89/100\n",
            "43/43 [==============================] - 17s 231ms/step - loss: 0.0728 - accuracy: 0.9951 - val_loss: 5.0013 - val_accuracy: 0.7794\n",
            "Epoch 90/100\n",
            "43/43 [==============================] - 17s 232ms/step - loss: 0.0287 - accuracy: 0.9961 - val_loss: 4.5155 - val_accuracy: 0.7912\n",
            "Epoch 91/100\n",
            "43/43 [==============================] - 17s 232ms/step - loss: 0.0141 - accuracy: 0.9961 - val_loss: 3.8684 - val_accuracy: 0.8147\n",
            "Epoch 92/100\n",
            "43/43 [==============================] - 17s 232ms/step - loss: 0.0034 - accuracy: 0.9990 - val_loss: 4.1747 - val_accuracy: 0.8020\n",
            "Epoch 93/100\n",
            "43/43 [==============================] - 17s 232ms/step - loss: 0.0015 - accuracy: 0.9990 - val_loss: 4.2754 - val_accuracy: 0.7961\n",
            "Epoch 94/100\n",
            "43/43 [==============================] - 17s 235ms/step - loss: 0.0016 - accuracy: 0.9990 - val_loss: 4.3064 - val_accuracy: 0.7951\n",
            "Epoch 95/100\n",
            "43/43 [==============================] - 17s 232ms/step - loss: 0.0011 - accuracy: 0.9990 - val_loss: 4.1083 - val_accuracy: 0.7971\n",
            "Epoch 96/100\n",
            "43/43 [==============================] - 17s 232ms/step - loss: 0.0079 - accuracy: 0.9980 - val_loss: 4.3470 - val_accuracy: 0.7931\n",
            "Epoch 97/100\n",
            "43/43 [==============================] - 17s 231ms/step - loss: 0.0256 - accuracy: 0.9980 - val_loss: 4.6635 - val_accuracy: 0.7863\n",
            "Epoch 98/100\n",
            "43/43 [==============================] - 17s 232ms/step - loss: 0.0259 - accuracy: 0.9980 - val_loss: 4.1821 - val_accuracy: 0.7882\n",
            "Epoch 99/100\n",
            "43/43 [==============================] - 17s 231ms/step - loss: 0.0174 - accuracy: 0.9980 - val_loss: 4.6609 - val_accuracy: 0.7824\n",
            "Epoch 100/100\n",
            "43/43 [==============================] - 17s 231ms/step - loss: 0.0580 - accuracy: 0.9951 - val_loss: 6.1537 - val_accuracy: 0.7569\n"
          ]
        },
        {
          "output_type": "display_data",
          "data": {
            "text/plain": [
              "<Figure size 432x288 with 1 Axes>"
            ],
            "image/png": "[encoded data removed]"
          },
          "metadata": {
            "needs_background": "light"
          }
        },
        {
          "output_type": "display_data",
          "data": {
            "text/plain": [
              "<Figure size 432x288 with 1 Axes>"
            ],
            "image/png": "[encoded data removed]"
          },
          "metadata": {
            "needs_background": "light"
          }
        }
      ]
    },
    {
      "cell_type": "code",
      "source": [
        "def plot(data, ax=None, style=None, label=None, linestyle=None, mark='max'):\n",
        "    def mark_fn():\n",
        "        markx = np.argmax(data) if mark == 'max' else np.argmin(data)\n",
        "        marky = max(data) if mark == 'max' else min(data)\n",
        "        ax.scatter(markx, marky, zorder=2)\n",
        "\n",
        "\n",
        "    ax = ax or plt.gca()\n",
        "    style = style or '-'\n",
        "    label = label or ''\n",
        "    ax.plot(data, label=label, linestyle=linestyle) if linestyle else ax.plot(data, style, label=label)\n",
        "\n",
        "    mark_fn() if mark else None\n",
        "\n",
        "baseline = [0.683300,0.674500,0.691200,0.692200,0.694100,0.693100,0.695100,0.694100,0.694100,0.694100,0.694100,0.694100,0.694100,0.694100,0.694100,0.694100,0.695100,0.695100,0.695100,0.695100,0.695100,0.695100,0.695100,0.695100,0.695100,0.695100,0.695100,0.695100,0.695100,0.696100,0.696100,0.696100,0.696100,0.696100,0.696100,0.696100,0.696100,0.696100,0.696100,0.696100,0.696100,0.696100,0.696100,0.696100,0.696100,0.696100,0.696100,0.696100,0.696100,0.697100,0.697100,0.696100,0.697100,0.698000,0.697100,0.697100,0.697100,0.697100,0.698000,0.698000,0.698000,0.698000,0.698000,0.698000,0.699000,0.699000,0.699000,0.699000,0.699000,0.699000,0.699000,0.699000,0.699000,0.699000,0.699000,0.699000,0.699000,0.699000,0.699000,0.699000,0.699000,0.699000,0.699000,0.699000,0.699000,0.699000,0.699000,0.699000,0.699000,0.699000,0.699000,0.699000,0.699000,0.699000,0.700000,0.700000,0.700000,0.700000,0.701000,0.701000,]\n",
        "augmented = [0.540200,0.692200,0.702000,0.732400,0.741200,0.717600,0.741200,0.751000,0.767600,0.759800,0.753900,0.762700,0.774500,0.788200,0.781400,0.768600,0.783300,0.791200,0.788200,0.782400,0.791200,0.780400,0.788200,0.787300,0.777500,0.784300,0.779400,0.790200,0.793100,0.802000,0.807800,0.799000,0.797100,0.799000,0.792200,0.783300,0.793100,0.809800,0.814700,0.804900,0.806900,0.822500,0.798000,0.808800,0.798000,0.792200,0.794100,0.783300,0.789200,0.800000,0.806900,0.802900,0.808800,0.808800,0.798000,0.802000,0.802900,0.802900,0.805900,0.803900,0.805900,0.804900,0.786300,0.780400,0.790200,0.803900,0.797100,0.802900,0.810800,0.811800,0.810800,0.815700,0.817600,0.817600,0.818600,0.817600,0.816700,0.808800,0.819600,0.818600,0.818600,0.820600,0.812700,0.784300,0.785300,0.800000,0.820600,0.801000,0.805900,0.808800,0.807800,0.787300,0.739200,0.749000,0.757800,0.753900,0.758800,0.778400,0.782400,0.752000,]\n",
        "\n",
        "plot(baseline, label='baseline', linestyle='dotted')\n",
        "plot(augmented, label='with data augmentation', style='--')\n",
        "\n",
        "axes = plt.gca()\n",
        "axes.set_xlabel('Epoch')\n",
        "axes.set_ylabel('Accuracy')\n",
        "axes.set_title('Comparison of Baseline and Data Augmentation Performance')\n",
        "\n",
        "\n",
        "axes.legend()\n",
        "plt.show()"
      ],
      "metadata": {
        "id": "3JGhCpCQnAw0",
        "colab": {
          "base_uri": "https://localhost:8080/",
          "height": 295
        },
        "outputId": "ded08e73-cdc7-4ba5-a9c7-20cc7dca5266"
      },
      "execution_count": 14,
      "outputs": [
        {
          "output_type": "display_data",
          "data": {
            "text/plain": [
              "<Figure size 432x288 with 1 Axes>"
            ],
            "image/png": "[encoded data removed]"
          },
          "metadata": {
            "needs_background": "light"
          }
        }
      ]
    }
  ]
}
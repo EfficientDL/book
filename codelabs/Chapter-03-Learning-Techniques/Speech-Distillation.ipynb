{
  "nbformat": 4,
  "nbformat_minor": 0,
  "metadata": {
    "colab": {
      "name": "[EDL]-Speech_Distillation.ipynb",
      "provenance": [],
      "collapsed_sections": [],
      "toc_visible": true
    },
    "kernelspec": {
      "display_name": "Python 3",
      "name": "python3"
    },
    "language_info": {
      "name": "python"
    }
  },
  "cells": [
    {
      "cell_type": "code",
      "metadata": {
        "id": "_A7PPjQO862u"
      },
      "source": [
        "import numpy as np\n",
        "import tensorflow_datasets as tfds\n",
        "import tensorflow as tf\n",
        "import tensorflow.keras as keras\n",
        "import tensorflow.keras.layers as layers\n",
        "\n",
        "from keras.utils import np_utils"
      ],
      "execution_count": null,
      "outputs": []
    },
    {
      "cell_type": "markdown",
      "metadata": {
        "id": "BQBII8Jae2he"
      },
      "source": [
        "# Creating the dataset."
      ]
    },
    {
      "cell_type": "code",
      "metadata": {
        "id": "hBRRuoFmh4bm",
        "outputId": "405410b6-6bbf-4b45-887b-3288119e7b6d"
      },
      "source": [
        "!pip install pydub"
      ],
      "execution_count": null,
      "outputs": [
        {
          "output_type": "stream",
          "name": "stdout",
          "text": [
            "/bin/sh: line 1: pip: command not found\n"
          ]
        }
      ]
    },
    {
      "cell_type": "code",
      "metadata": {
        "id": "jS9OUfC3CrAn"
      },
      "source": [
        "read_config = tfds.ReadConfig(try_autocache=False)\n",
        "data_ds = tfds.load(\n",
        "    name='speech_commands',\n",
        "    read_config=read_config\n",
        ")"
      ],
      "execution_count": null,
      "outputs": []
    },
    {
      "cell_type": "code",
      "metadata": {
        "id": "w354Fco4M8I2"
      },
      "source": [
        "def get_processed_ds(ds, num_examples, max_len=16000, num_classes=12):\n",
        "  \"\"\"Get the processed dataset.\"\"\"\n",
        "  i = 0\n",
        "  x = np.zeros([num_examples, max_len], dtype=np.float32)\n",
        "  y = np.zeros([num_examples, 1], dtype=np.uint8)\n",
        "\n",
        "  for i, example in enumerate(tfds.as_numpy(ds)):\n",
        "    audio_clip = example['audio']\n",
        "    label = example['label']\n",
        "\n",
        "    # Trim and pad the audio clips to the maximum length.\n",
        "    audio_clip = audio_clip[:max_len]\n",
        "    audio_clip = np.pad(audio_clip, (0, max_len - audio_clip.shape[0]))\n",
        "    audio_clip = np.reshape(audio_clip, (max_len)).astype(np.float32)\n",
        "    \n",
        "    x[i] = audio_clip\n",
        "    y[i] = label\n",
        "    \n",
        "    # i = i + 1\n",
        "    if i + 1 >= num_examples:\n",
        "      break\n",
        "\n",
        "  # STFT to extract the fourier transform on sliding windows of the input.\n",
        "  # Apply STFT on the audio data, but keep only the magnitude.\n",
        "  x = tf.abs(tf.signal.stft(x, frame_length=256, frame_step=128))\n",
        "\n",
        "  # Convert the labels to a one-hot vector.\n",
        "  y = np_utils.to_categorical(y, num_classes)\n",
        "  return x, y"
      ],
      "execution_count": null,
      "outputs": []
    },
    {
      "cell_type": "code",
      "metadata": {
        "id": "9ck4R9goYykl"
      },
      "source": [
        "x_train, y_train = get_processed_ds(data_ds['train'], 16000)\n",
        "x_test, y_test = get_processed_ds(data_ds['test'], 4890)"
      ],
      "execution_count": null,
      "outputs": []
    },
    {
      "cell_type": "code",
      "metadata": {
        "id": "Jff9BxI7e9l8",
        "outputId": "a96a7be2-eeaa-4852-ecf8-0df2c8c410b9"
      },
      "source": [
        "print(x_train.shape, y_train.shape)"
      ],
      "execution_count": null,
      "outputs": [
        {
          "output_type": "stream",
          "name": "stdout",
          "text": [
            "(16000, 124, 129) (16000, 12)\n"
          ]
        }
      ]
    },
    {
      "cell_type": "code",
      "metadata": {
        "id": "pf8ZMrdcfB0H",
        "outputId": "471cfd64-0147-4d66-be2d-3ce532afbc03"
      },
      "source": [
        "print(x_test.shape, y_test.shape)"
      ],
      "execution_count": null,
      "outputs": [
        {
          "output_type": "stream",
          "name": "stdout",
          "text": [
            "(4890, 124, 129) (4890, 12)\n"
          ]
        }
      ]
    },
    {
      "cell_type": "code",
      "metadata": {
        "id": "Ui_RKNiDcl31",
        "outputId": "24857325-b8ff-452e-9281-9cb8f405dcdc"
      },
      "source": [
        "input_shape = tuple(x_train.shape.as_list()[1:])\n",
        "print(input_shape)"
      ],
      "execution_count": null,
      "outputs": [
        {
          "output_type": "stream",
          "name": "stdout",
          "text": [
            "(124, 129)\n"
          ]
        }
      ]
    },
    {
      "cell_type": "markdown",
      "metadata": {
        "id": "nq01SB85gM5G"
      },
      "source": [
        "# Setting up the model training."
      ]
    },
    {
      "cell_type": "code",
      "metadata": {
        "id": "NC3bwcffayQf"
      },
      "source": [
        "import os\n",
        "\n",
        "# Now let us create a callback for saving the best checkpoint so far.\n",
        "# It tries to find the checkpoint with the maximum categorical accuracy.\n",
        "# We will provide this to the model.fit function.\n",
        "\n",
        "CHECKPOINTS_DIR='checkpoints'\n",
        "\n",
        "# Create a directory for the checkpoints.\n",
        "!mkdir -p $CHECKPOINTS_DIR\n",
        "\n",
        "def best_checkpoint_callback(model_name):\n",
        "  checkpoint_dir_path = os.path.join(CHECKPOINTS_DIR, model_name)\n",
        "  if not os.path.exists(checkpoint_dir_path):\n",
        "    os.mkdir(checkpoint_dir_path)\n",
        "  checkpoint_path = os.path.join(checkpoint_dir_path, model_name)\n",
        "  return tf.keras.callbacks.ModelCheckpoint(\n",
        "    filepath=checkpoint_path,\n",
        "    save_weights_only=True,\n",
        "    monitor='val_categorical_accuracy',\n",
        "    mode='max',\n",
        "    save_best_only=True)\n",
        "\n",
        "\n",
        "def load_best_checkpoint(model, model_name):\n",
        "  checkpoint_dir_path = os.path.join(CHECKPOINTS_DIR, model_name)\n",
        "  checkpoint_path = os.path.join(checkpoint_dir_path, model_name)\n",
        "  model.load_weights(checkpoint_path)\n",
        "  return model"
      ],
      "execution_count": null,
      "outputs": []
    },
    {
      "cell_type": "code",
      "metadata": {
        "id": "C3oBiGoAbvFf"
      },
      "source": [
        "def base_model(\n",
        "    num_classes=12,        # Number of classes in the model. \n",
        "    width_multiplier=1.0,  # Factor for scaling the network size.\n",
        "    params={},             # Additional hyper-params.\n",
        "):\n",
        "  # Use the width_multiplier for scaling the network, the larger the value,\n",
        "  # the larger the network. Keep a bound on the width though.\n",
        "  w = min(max(width_multiplier, 0.05), 3.0)\n",
        "\n",
        "  # inputs = keras.Input(shape=(16000,1))\n",
        "  inputs = keras.Input(shape=input_shape)\n",
        "  x = inputs\n",
        "\n",
        "  # Create a regularizer to be used.\n",
        "  reg = keras.regularizers.l2(params.get('l2_reg_weight', 2e-4))\n",
        "\n",
        "  # Find the dropout rate for helping with further regularization.\n",
        "  dropout_rate = params.get('dropout_rate', 1.0)\n",
        "\n",
        "  # We will keep the first 'block' of layers scale invariant.\n",
        "  x = layers.Conv1D(\n",
        "      32, (9), padding='same', activation='relu', kernel_regularizer=reg)(\n",
        "          x)\n",
        "  x = layers.BatchNormalization()(x)\n",
        "  x = layers.Conv1D(\n",
        "      32, (9), padding='same', activation='relu', kernel_regularizer=reg)(\n",
        "          x)\n",
        "  x = layers.BatchNormalization()(x)\n",
        "  x = layers.MaxPooling1D(pool_size=(4))(x)\n",
        "  x = layers.Dropout(dropout_rate)(x)\n",
        "\n",
        "  # A short hand for the round method.\n",
        "  r = lambda v: round(v)\n",
        "\n",
        "  # We will start to scale layers from here on.\n",
        "  x = layers.Conv1D(\n",
        "      # Note that the number of filters grows / shrinks with `w`.\n",
        "      r(64 * w), \n",
        "      (9), \n",
        "      padding='same',\n",
        "      activation='relu',\n",
        "      kernel_regularizer=reg)(x)\n",
        "  x = layers.BatchNormalization()(x)\n",
        "  x = layers.Conv1D(\n",
        "      r(64 * w), \n",
        "      (9),\n",
        "      padding='same',\n",
        "      activation='relu',\n",
        "      kernel_regularizer=reg)(x)\n",
        "  x = layers.BatchNormalization()(x)\n",
        "  x = layers.MaxPooling1D(pool_size=(4))(x)\n",
        "  x = layers.Dropout(dropout_rate)(x)\n",
        "\n",
        "  x = layers.Conv1D(\n",
        "      r(128 * w), \n",
        "      (9),\n",
        "      padding='same',\n",
        "      activation='relu',\n",
        "      kernel_regularizer=reg)(x)\n",
        "  x = layers.BatchNormalization()(x)\n",
        "  x = layers.Conv1D(\n",
        "      r(128 * w), \n",
        "      (9),\n",
        "      padding='same',\n",
        "      activation='relu',\n",
        "      kernel_regularizer=reg)(x)\n",
        "  x = layers.BatchNormalization()(x)\n",
        "  x = layers.MaxPooling1D(pool_size=(4))(x)\n",
        "  x = layers.Dropout(dropout_rate)(x)\n",
        "\n",
        "  x = layers.Flatten()(x)\n",
        "  x = layers.Dropout(dropout_rate)(x)\n",
        "  x = layers.Dense(r(512 * w), activation='relu', kernel_regularizer=reg)(x)\n",
        "  x = layers.Dropout(dropout_rate)(x)\n",
        "  x = layers.Dense(num_classes, kernel_regularizer=reg)(x)\n",
        "  logits = x\n",
        "  probabilities = layers.Activation('softmax')(logits)\n",
        "  outputs = probabilities\n",
        "\n",
        "  return keras.Model(inputs=inputs, outputs=outputs)"
      ],
      "execution_count": null,
      "outputs": []
    },
    {
      "cell_type": "code",
      "metadata": {
        "id": "AXU7QJxIcAve"
      },
      "source": [
        "def get_compiled_model(\n",
        "    width_multiplier,\n",
        "    num_classes=12,\n",
        "    params={}):\n",
        "  \"\"\"Helper method to create the compiled model.\"\"\"  \n",
        "  learning_rate = params.get('learning_rate', 1e-3)\n",
        "\n",
        "  model = base_model(\n",
        "      num_classes, width_multiplier=width_multiplier, params=params)\n",
        "\n",
        "  opt = keras.optimizers.Adam(learning_rate=learning_rate)\n",
        "  model.compile(loss='categorical_crossentropy', optimizer=opt, \n",
        "                metrics='categorical_accuracy')\n",
        "  return model"
      ],
      "execution_count": null,
      "outputs": []
    },
    {
      "cell_type": "code",
      "metadata": {
        "id": "MgC-JqxTcFf2"
      },
      "source": [
        "def get_model_name(width_multiplier, distillation=False):\n",
        "  \"\"\"A helper method to create a unique identifier for a model.\"\"\"\n",
        "  return 'wm_{}{}'.format(\n",
        "      str(width_multiplier).replace('.', ''),\n",
        "      ('_dist' if distillation else '')\n",
        "  )\n",
        "\n",
        "def train_model(width_multiplier, params={}, batch_size=128, epochs=100):\n",
        "  \"\"\"Train a solo model.\"\"\"\n",
        "  model_name = get_model_name(width_multiplier, distillation=False)\n",
        "\n",
        "  model = get_compiled_model(\n",
        "      width_multiplier=width_multiplier,\n",
        "      params=params)\n",
        "  model.summary()\n",
        "\n",
        "  model_history = model.fit(\n",
        "      x_train, \n",
        "      y_train, \n",
        "      batch_size=batch_size, \n",
        "      epochs=epochs, \n",
        "      validation_data=(x_test, y_test),\n",
        "      callbacks=[best_checkpoint_callback(model_name)],\n",
        "      shuffle=True)\n",
        "\n",
        "  return model, model_history.history"
      ],
      "execution_count": null,
      "outputs": []
    },
    {
      "cell_type": "markdown",
      "metadata": {
        "id": "kjJ2rsUtgRqk"
      },
      "source": [
        "# Training models solo."
      ]
    },
    {
      "cell_type": "markdown",
      "metadata": {
        "id": "E8-O35EjgtgT"
      },
      "source": [
        "## Train a large model with `width_multiplier`=1.0."
      ]
    },
    {
      "cell_type": "code",
      "metadata": {
        "id": "JZzNFk1OcbHN",
        "outputId": "ce5d4fe3-47f1-43b4-93ff-9344258a460e"
      },
      "source": [
        "width_multiplier = 1.0\n",
        "params = {\n",
        "    'learning_rate': 1e-3,\n",
        "    'dropout_rate': 0.5,\n",
        "}\n",
        "model_wm_10, _ = train_model(\n",
        "    width_multiplier, params, epochs=50)"
      ],
      "execution_count": null,
      "outputs": [
        {
          "output_type": "stream",
          "name": "stdout",
          "text": [
            "Model: \"model_4\"\n",
            "_________________________________________________________________\n",
            " Layer (type)                Output Shape              Param #   \n",
            "=================================================================\n",
            " input_4 (InputLayer)        [(None, 124, 129)]        0         \n",
            "                                                                 \n",
            " conv1d_18 (Conv1D)          (None, 124, 32)           37184     \n",
            "                                                                 \n",
            " batch_normalization_18 (Bat  (None, 124, 32)          128       \n",
            " chNormalization)                                                \n",
            "                                                                 \n",
            " conv1d_19 (Conv1D)          (None, 124, 32)           9248      \n",
            "                                                                 \n",
            " batch_normalization_19 (Bat  (None, 124, 32)          128       \n",
            " chNormalization)                                                \n",
            "                                                                 \n",
            " max_pooling1d_9 (MaxPooling  (None, 31, 32)           0         \n",
            " 1D)                                                             \n",
            "                                                                 \n",
            " dropout_15 (Dropout)        (None, 31, 32)            0         \n",
            "                                                                 \n",
            " conv1d_20 (Conv1D)          (None, 31, 64)            18496     \n",
            "                                                                 \n",
            " batch_normalization_20 (Bat  (None, 31, 64)           256       \n",
            " chNormalization)                                                \n",
            "                                                                 \n",
            " conv1d_21 (Conv1D)          (None, 31, 64)            36928     \n",
            "                                                                 \n",
            " batch_normalization_21 (Bat  (None, 31, 64)           256       \n",
            " chNormalization)                                                \n",
            "                                                                 \n",
            " max_pooling1d_10 (MaxPoolin  (None, 7, 64)            0         \n",
            " g1D)                                                            \n",
            "                                                                 \n",
            " dropout_16 (Dropout)        (None, 7, 64)             0         \n",
            "                                                                 \n",
            " conv1d_22 (Conv1D)          (None, 7, 128)            73856     \n",
            "                                                                 \n",
            " batch_normalization_22 (Bat  (None, 7, 128)           512       \n",
            " chNormalization)                                                \n",
            "                                                                 \n",
            " conv1d_23 (Conv1D)          (None, 7, 128)            147584    \n",
            "                                                                 \n",
            " batch_normalization_23 (Bat  (None, 7, 128)           512       \n",
            " chNormalization)                                                \n",
            "                                                                 \n",
            " max_pooling1d_11 (MaxPoolin  (None, 1, 128)           0         \n",
            " g1D)                                                            \n",
            "                                                                 \n",
            " dropout_17 (Dropout)        (None, 1, 128)            0         \n",
            "                                                                 \n",
            " flatten_3 (Flatten)         (None, 128)               0         \n",
            "                                                                 \n",
            " dropout_18 (Dropout)        (None, 128)               0         \n",
            "                                                                 \n",
            " dense_6 (Dense)             (None, 512)               66048     \n",
            "                                                                 \n",
            " dropout_19 (Dropout)        (None, 512)               0         \n",
            "                                                                 \n",
            " dense_7 (Dense)             (None, 12)                6156      \n",
            "                                                                 \n",
            " activation_3 (Activation)   (None, 12)                0         \n",
            "                                                                 \n",
            "=================================================================\n",
            "Total params: 397,292\n",
            "Trainable params: 396,396\n",
            "Non-trainable params: 896\n",
            "_________________________________________________________________\n",
            "Epoch 1/50\n",
            "125/125 [==============================] - 3s 12ms/step - loss: 1.9565 - categorical_accuracy: 0.5967 - val_loss: 2.7905 - val_categorical_accuracy: 0.0838\n",
            "Epoch 2/50\n",
            "125/125 [==============================] - 1s 8ms/step - loss: 1.5658 - categorical_accuracy: 0.6339 - val_loss: 2.5553 - val_categorical_accuracy: 0.0998\n",
            "Epoch 3/50\n",
            "125/125 [==============================] - 1s 8ms/step - loss: 1.4094 - categorical_accuracy: 0.6350 - val_loss: 2.1908 - val_categorical_accuracy: 0.1951\n",
            "Epoch 4/50\n",
            "125/125 [==============================] - 1s 8ms/step - loss: 1.2750 - categorical_accuracy: 0.6519 - val_loss: 1.8385 - val_categorical_accuracy: 0.3329\n",
            "Epoch 5/50\n",
            "125/125 [==============================] - 1s 8ms/step - loss: 1.1528 - categorical_accuracy: 0.6779 - val_loss: 1.6321 - val_categorical_accuracy: 0.4599\n",
            "Epoch 6/50\n",
            "125/125 [==============================] - 1s 8ms/step - loss: 1.0368 - categorical_accuracy: 0.7000 - val_loss: 1.3625 - val_categorical_accuracy: 0.5503\n",
            "Epoch 7/50\n",
            "125/125 [==============================] - 1s 8ms/step - loss: 0.9477 - categorical_accuracy: 0.7286 - val_loss: 1.2384 - val_categorical_accuracy: 0.6145\n",
            "Epoch 8/50\n",
            "125/125 [==============================] - 1s 8ms/step - loss: 0.8683 - categorical_accuracy: 0.7548 - val_loss: 1.0846 - val_categorical_accuracy: 0.6824\n",
            "Epoch 9/50\n",
            "125/125 [==============================] - 1s 9ms/step - loss: 0.8064 - categorical_accuracy: 0.7731 - val_loss: 0.8913 - val_categorical_accuracy: 0.7499\n",
            "Epoch 10/50\n",
            "125/125 [==============================] - 1s 8ms/step - loss: 0.7643 - categorical_accuracy: 0.7931 - val_loss: 0.8964 - val_categorical_accuracy: 0.7622\n",
            "Epoch 11/50\n",
            "125/125 [==============================] - 1s 8ms/step - loss: 0.7280 - categorical_accuracy: 0.8056 - val_loss: 0.8659 - val_categorical_accuracy: 0.7524\n",
            "Epoch 12/50\n",
            "125/125 [==============================] - 1s 8ms/step - loss: 0.6817 - categorical_accuracy: 0.8249 - val_loss: 0.7990 - val_categorical_accuracy: 0.7767\n",
            "Epoch 13/50\n",
            "125/125 [==============================] - 1s 8ms/step - loss: 0.6575 - categorical_accuracy: 0.8353 - val_loss: 0.7665 - val_categorical_accuracy: 0.7902\n",
            "Epoch 14/50\n",
            "125/125 [==============================] - 1s 8ms/step - loss: 0.6250 - categorical_accuracy: 0.8426 - val_loss: 0.7295 - val_categorical_accuracy: 0.8043\n",
            "Epoch 15/50\n",
            "125/125 [==============================] - 1s 8ms/step - loss: 0.6065 - categorical_accuracy: 0.8509 - val_loss: 0.7904 - val_categorical_accuracy: 0.7935\n",
            "Epoch 16/50\n",
            "125/125 [==============================] - 1s 8ms/step - loss: 0.5813 - categorical_accuracy: 0.8604 - val_loss: 0.6524 - val_categorical_accuracy: 0.8262\n",
            "Epoch 17/50\n",
            "125/125 [==============================] - 1s 8ms/step - loss: 0.5668 - categorical_accuracy: 0.8644 - val_loss: 0.6011 - val_categorical_accuracy: 0.8481\n",
            "Epoch 18/50\n",
            "125/125 [==============================] - 1s 8ms/step - loss: 0.5464 - categorical_accuracy: 0.8752 - val_loss: 0.7680 - val_categorical_accuracy: 0.7953\n",
            "Epoch 19/50\n",
            "125/125 [==============================] - 1s 8ms/step - loss: 0.5329 - categorical_accuracy: 0.8779 - val_loss: 0.6724 - val_categorical_accuracy: 0.8346\n",
            "Epoch 20/50\n",
            "125/125 [==============================] - 1s 8ms/step - loss: 0.5131 - categorical_accuracy: 0.8821 - val_loss: 0.6643 - val_categorical_accuracy: 0.8325\n",
            "Epoch 21/50\n",
            "125/125 [==============================] - 1s 8ms/step - loss: 0.5167 - categorical_accuracy: 0.8827 - val_loss: 0.5916 - val_categorical_accuracy: 0.8540\n",
            "Epoch 22/50\n",
            "125/125 [==============================] - 1s 8ms/step - loss: 0.5110 - categorical_accuracy: 0.8842 - val_loss: 0.6172 - val_categorical_accuracy: 0.8466\n",
            "Epoch 23/50\n",
            "125/125 [==============================] - 1s 8ms/step - loss: 0.4995 - categorical_accuracy: 0.8905 - val_loss: 0.6618 - val_categorical_accuracy: 0.8481\n",
            "Epoch 24/50\n",
            "125/125 [==============================] - 1s 8ms/step - loss: 0.4785 - categorical_accuracy: 0.8956 - val_loss: 0.5782 - val_categorical_accuracy: 0.8646\n",
            "Epoch 25/50\n",
            "125/125 [==============================] - 1s 8ms/step - loss: 0.4677 - categorical_accuracy: 0.9022 - val_loss: 0.6428 - val_categorical_accuracy: 0.8481\n",
            "Epoch 26/50\n",
            "125/125 [==============================] - 1s 8ms/step - loss: 0.4692 - categorical_accuracy: 0.8978 - val_loss: 0.6759 - val_categorical_accuracy: 0.8374\n",
            "Epoch 27/50\n",
            "125/125 [==============================] - 1s 8ms/step - loss: 0.4534 - categorical_accuracy: 0.9031 - val_loss: 0.5702 - val_categorical_accuracy: 0.8661\n",
            "Epoch 28/50\n",
            "125/125 [==============================] - 1s 8ms/step - loss: 0.4543 - categorical_accuracy: 0.9027 - val_loss: 0.5989 - val_categorical_accuracy: 0.8626\n",
            "Epoch 29/50\n",
            "125/125 [==============================] - 1s 8ms/step - loss: 0.4548 - categorical_accuracy: 0.9022 - val_loss: 0.5737 - val_categorical_accuracy: 0.8605\n",
            "Epoch 30/50\n",
            "125/125 [==============================] - 1s 8ms/step - loss: 0.4429 - categorical_accuracy: 0.9069 - val_loss: 0.5926 - val_categorical_accuracy: 0.8609\n",
            "Epoch 31/50\n",
            "125/125 [==============================] - 1s 8ms/step - loss: 0.4459 - categorical_accuracy: 0.9067 - val_loss: 0.5770 - val_categorical_accuracy: 0.8648\n",
            "Epoch 32/50\n",
            "125/125 [==============================] - 1s 8ms/step - loss: 0.4372 - categorical_accuracy: 0.9097 - val_loss: 0.6060 - val_categorical_accuracy: 0.8658\n",
            "Epoch 33/50\n",
            "125/125 [==============================] - 1s 8ms/step - loss: 0.4312 - categorical_accuracy: 0.9128 - val_loss: 0.6030 - val_categorical_accuracy: 0.8613\n",
            "Epoch 34/50\n",
            "125/125 [==============================] - 1s 8ms/step - loss: 0.4393 - categorical_accuracy: 0.9093 - val_loss: 0.6143 - val_categorical_accuracy: 0.8601\n",
            "Epoch 35/50\n",
            "125/125 [==============================] - 1s 9ms/step - loss: 0.4241 - categorical_accuracy: 0.9159 - val_loss: 0.5186 - val_categorical_accuracy: 0.8881\n",
            "Epoch 36/50\n",
            "125/125 [==============================] - 1s 8ms/step - loss: 0.4307 - categorical_accuracy: 0.9094 - val_loss: 0.5635 - val_categorical_accuracy: 0.8771\n",
            "Epoch 37/50\n",
            "125/125 [==============================] - 1s 8ms/step - loss: 0.4246 - categorical_accuracy: 0.9151 - val_loss: 0.5752 - val_categorical_accuracy: 0.8708\n",
            "Epoch 38/50\n",
            "125/125 [==============================] - 1s 8ms/step - loss: 0.4138 - categorical_accuracy: 0.9180 - val_loss: 0.5374 - val_categorical_accuracy: 0.8773\n",
            "Epoch 39/50\n",
            "125/125 [==============================] - 1s 8ms/step - loss: 0.4079 - categorical_accuracy: 0.9171 - val_loss: 0.6498 - val_categorical_accuracy: 0.8542\n",
            "Epoch 40/50\n",
            "125/125 [==============================] - 1s 8ms/step - loss: 0.4015 - categorical_accuracy: 0.9219 - val_loss: 0.5536 - val_categorical_accuracy: 0.8806\n",
            "Epoch 41/50\n",
            "125/125 [==============================] - 1s 8ms/step - loss: 0.4038 - categorical_accuracy: 0.9216 - val_loss: 0.6187 - val_categorical_accuracy: 0.8618\n",
            "Epoch 42/50\n",
            "125/125 [==============================] - 1s 8ms/step - loss: 0.3999 - categorical_accuracy: 0.9209 - val_loss: 0.5594 - val_categorical_accuracy: 0.8773\n",
            "Epoch 43/50\n",
            "125/125 [==============================] - 1s 8ms/step - loss: 0.3932 - categorical_accuracy: 0.9227 - val_loss: 0.6384 - val_categorical_accuracy: 0.8714\n",
            "Epoch 44/50\n",
            "125/125 [==============================] - 1s 8ms/step - loss: 0.4062 - categorical_accuracy: 0.9216 - val_loss: 0.6030 - val_categorical_accuracy: 0.8699\n",
            "Epoch 45/50\n",
            "125/125 [==============================] - 1s 8ms/step - loss: 0.4012 - categorical_accuracy: 0.9215 - val_loss: 0.5761 - val_categorical_accuracy: 0.8787\n",
            "Epoch 46/50\n",
            "125/125 [==============================] - 1s 8ms/step - loss: 0.4004 - categorical_accuracy: 0.9229 - val_loss: 0.6406 - val_categorical_accuracy: 0.8626\n",
            "Epoch 47/50\n",
            "125/125 [==============================] - 1s 8ms/step - loss: 0.3982 - categorical_accuracy: 0.9249 - val_loss: 0.5805 - val_categorical_accuracy: 0.8753\n",
            "Epoch 48/50\n",
            "125/125 [==============================] - 1s 8ms/step - loss: 0.4057 - categorical_accuracy: 0.9227 - val_loss: 0.6020 - val_categorical_accuracy: 0.8751\n",
            "Epoch 49/50\n",
            "125/125 [==============================] - 1s 8ms/step - loss: 0.3874 - categorical_accuracy: 0.9286 - val_loss: 0.5327 - val_categorical_accuracy: 0.8861\n",
            "Epoch 50/50\n",
            "125/125 [==============================] - 1s 8ms/step - loss: 0.3914 - categorical_accuracy: 0.9258 - val_loss: 0.6180 - val_categorical_accuracy: 0.8579\n"
          ]
        }
      ]
    },
    {
      "cell_type": "code",
      "metadata": {
        "id": "HKfMtOyUrVGo"
      },
      "source": [
        "# Create a new Model object from the previously trained model with just the \n",
        "# logits layer. We will copy it's weights from the best checkpoint so far.\n",
        "# This model will be used as the teacher, to extract the logits.\n",
        "model_wm_10_without_softmax = tf.keras.Model(\n",
        "    inputs=model_wm_10.inputs,\n",
        "    outputs=model_wm_10.layers[-2].output)\n",
        "model_wm_10_without_softmax.compile(metrics='categorical_accuracy')"
      ],
      "execution_count": null,
      "outputs": []
    },
    {
      "cell_type": "code",
      "metadata": {
        "id": "shlhSuP7HHrR",
        "outputId": "2337fda2-c5ce-4db1-96c2-f5c307d1625d"
      },
      "source": [
        "# Load the weights and evaluate the model.\n",
        "# Even though the previous Model object's output was probabilities, and this new\n",
        "# model's output are the logits, it is essentially the same because the logits\n",
        "# will retain the same order as the probabilities. Thus, for the accuracy metric\n",
        "# they are identical.\n",
        "model_wm_10_without_softmax = load_best_checkpoint(\n",
        "    model_wm_10_without_softmax, \n",
        "    get_model_name(1.0))\n",
        "model_wm_10_without_softmax.evaluate(x_test, y_test)"
      ],
      "execution_count": null,
      "outputs": [
        {
          "output_type": "stream",
          "name": "stdout",
          "text": [
            "153/153 [==============================] - 1s 2ms/step - loss: 0.1395 - categorical_accuracy: 0.8881\n"
          ]
        },
        {
          "output_type": "execute_result",
          "data": {
            "text/plain": [
              "[0.13952623307704926, 0.8881390690803528]"
            ]
          },
          "metadata": {},
          "execution_count": 37
        }
      ]
    },
    {
      "cell_type": "markdown",
      "metadata": {
        "id": "EjReW1TMgX07"
      },
      "source": [
        "## Train a smaller model with `width_multiplier`=0.1"
      ]
    },
    {
      "cell_type": "code",
      "metadata": {
        "id": "5e3KgiwJud7T",
        "outputId": "2f52daf8-3a75-44d6-d084-adafd2381353"
      },
      "source": [
        "# Now let's train a solo model, with width_multiplier=0.1.\n",
        "width_multiplier = 0.1\n",
        "params = {\n",
        "    'learning_rate': 1e-3,\n",
        "    'dropout_rate': 0.2,\n",
        "}\n",
        "model_wm_01, model_wm_01_history = train_model(width_multiplier, params, \n",
        "                                               epochs=50)"
      ],
      "execution_count": null,
      "outputs": [
        {
          "output_type": "stream",
          "name": "stdout",
          "text": [
            "Model: \"model_6\"\n",
            "_________________________________________________________________\n",
            " Layer (type)                Output Shape              Param #   \n",
            "=================================================================\n",
            " input_5 (InputLayer)        [(None, 124, 129)]        0         \n",
            "                                                                 \n",
            " conv1d_24 (Conv1D)          (None, 124, 32)           37184     \n",
            "                                                                 \n",
            " batch_normalization_24 (Bat  (None, 124, 32)          128       \n",
            " chNormalization)                                                \n",
            "                                                                 \n",
            " conv1d_25 (Conv1D)          (None, 124, 32)           9248      \n",
            "                                                                 \n",
            " batch_normalization_25 (Bat  (None, 124, 32)          128       \n",
            " chNormalization)                                                \n",
            "                                                                 \n",
            " max_pooling1d_12 (MaxPoolin  (None, 31, 32)           0         \n",
            " g1D)                                                            \n",
            "                                                                 \n",
            " dropout_20 (Dropout)        (None, 31, 32)            0         \n",
            "                                                                 \n",
            " conv1d_26 (Conv1D)          (None, 31, 6)             1734      \n",
            "                                                                 \n",
            " batch_normalization_26 (Bat  (None, 31, 6)            24        \n",
            " chNormalization)                                                \n",
            "                                                                 \n",
            " conv1d_27 (Conv1D)          (None, 31, 6)             330       \n",
            "                                                                 \n",
            " batch_normalization_27 (Bat  (None, 31, 6)            24        \n",
            " chNormalization)                                                \n",
            "                                                                 \n",
            " max_pooling1d_13 (MaxPoolin  (None, 7, 6)             0         \n",
            " g1D)                                                            \n",
            "                                                                 \n",
            " dropout_21 (Dropout)        (None, 7, 6)              0         \n",
            "                                                                 \n",
            " conv1d_28 (Conv1D)          (None, 7, 13)             715       \n",
            "                                                                 \n",
            " batch_normalization_28 (Bat  (None, 7, 13)            52        \n",
            " chNormalization)                                                \n",
            "                                                                 \n",
            " conv1d_29 (Conv1D)          (None, 7, 13)             1534      \n",
            "                                                                 \n",
            " batch_normalization_29 (Bat  (None, 7, 13)            52        \n",
            " chNormalization)                                                \n",
            "                                                                 \n",
            " max_pooling1d_14 (MaxPoolin  (None, 1, 13)            0         \n",
            " g1D)                                                            \n",
            "                                                                 \n",
            " dropout_22 (Dropout)        (None, 1, 13)             0         \n",
            "                                                                 \n",
            " flatten_4 (Flatten)         (None, 13)                0         \n",
            "                                                                 \n",
            " dropout_23 (Dropout)        (None, 13)                0         \n",
            "                                                                 \n",
            " dense_8 (Dense)             (None, 51)                714       \n",
            "                                                                 \n",
            " dropout_24 (Dropout)        (None, 51)                0         \n",
            "                                                                 \n",
            " dense_9 (Dense)             (None, 12)                624       \n",
            "                                                                 \n",
            " activation_4 (Activation)   (None, 12)                0         \n",
            "                                                                 \n",
            "=================================================================\n",
            "Total params: 52,491\n",
            "Trainable params: 52,287\n",
            "Non-trainable params: 204\n",
            "_________________________________________________________________\n",
            "Epoch 1/50\n",
            "125/125 [==============================] - 2s 10ms/step - loss: 1.9992 - categorical_accuracy: 0.5021 - val_loss: 2.5884 - val_categorical_accuracy: 0.0834\n",
            "Epoch 2/50\n",
            "125/125 [==============================] - 1s 7ms/step - loss: 1.5421 - categorical_accuracy: 0.6296 - val_loss: 2.7895 - val_categorical_accuracy: 0.0865\n",
            "Epoch 3/50\n",
            "125/125 [==============================] - 1s 7ms/step - loss: 1.4237 - categorical_accuracy: 0.6322 - val_loss: 2.7617 - val_categorical_accuracy: 0.1061\n",
            "Epoch 4/50\n",
            "125/125 [==============================] - 1s 7ms/step - loss: 1.3274 - categorical_accuracy: 0.6383 - val_loss: 3.0722 - val_categorical_accuracy: 0.0984\n",
            "Epoch 5/50\n",
            "125/125 [==============================] - 1s 7ms/step - loss: 1.2544 - categorical_accuracy: 0.6440 - val_loss: 3.1157 - val_categorical_accuracy: 0.1233\n",
            "Epoch 6/50\n",
            "125/125 [==============================] - 1s 7ms/step - loss: 1.1779 - categorical_accuracy: 0.6522 - val_loss: 2.4520 - val_categorical_accuracy: 0.1746\n",
            "Epoch 7/50\n",
            "125/125 [==============================] - 1s 7ms/step - loss: 1.0998 - categorical_accuracy: 0.6631 - val_loss: 2.0909 - val_categorical_accuracy: 0.2552\n",
            "Epoch 8/50\n",
            "125/125 [==============================] - 1s 7ms/step - loss: 1.0329 - categorical_accuracy: 0.6724 - val_loss: 2.0465 - val_categorical_accuracy: 0.2564\n",
            "Epoch 9/50\n",
            "125/125 [==============================] - 1s 7ms/step - loss: 0.9785 - categorical_accuracy: 0.6861 - val_loss: 1.9598 - val_categorical_accuracy: 0.3076\n",
            "Epoch 10/50\n",
            "125/125 [==============================] - 1s 7ms/step - loss: 0.9323 - categorical_accuracy: 0.6963 - val_loss: 1.8040 - val_categorical_accuracy: 0.3800\n",
            "Epoch 11/50\n",
            "125/125 [==============================] - 1s 7ms/step - loss: 0.8886 - categorical_accuracy: 0.7136 - val_loss: 1.7418 - val_categorical_accuracy: 0.4025\n",
            "Epoch 12/50\n",
            "125/125 [==============================] - 1s 7ms/step - loss: 0.8571 - categorical_accuracy: 0.7212 - val_loss: 1.6215 - val_categorical_accuracy: 0.4425\n",
            "Epoch 13/50\n",
            "125/125 [==============================] - 1s 7ms/step - loss: 0.8285 - categorical_accuracy: 0.7262 - val_loss: 1.4776 - val_categorical_accuracy: 0.5188\n",
            "Epoch 14/50\n",
            "125/125 [==============================] - 1s 7ms/step - loss: 0.8020 - categorical_accuracy: 0.7411 - val_loss: 1.4049 - val_categorical_accuracy: 0.5472\n",
            "Epoch 15/50\n",
            "125/125 [==============================] - 1s 7ms/step - loss: 0.7672 - categorical_accuracy: 0.7471 - val_loss: 1.3763 - val_categorical_accuracy: 0.5550\n",
            "Epoch 16/50\n",
            "125/125 [==============================] - 1s 7ms/step - loss: 0.7529 - categorical_accuracy: 0.7547 - val_loss: 1.3992 - val_categorical_accuracy: 0.5515\n",
            "Epoch 17/50\n",
            "125/125 [==============================] - 1s 7ms/step - loss: 0.7223 - categorical_accuracy: 0.7625 - val_loss: 1.3270 - val_categorical_accuracy: 0.5804\n",
            "Epoch 18/50\n",
            "125/125 [==============================] - 1s 7ms/step - loss: 0.7033 - categorical_accuracy: 0.7707 - val_loss: 1.2685 - val_categorical_accuracy: 0.6084\n",
            "Epoch 19/50\n",
            "125/125 [==============================] - 1s 7ms/step - loss: 0.6963 - categorical_accuracy: 0.7754 - val_loss: 1.3763 - val_categorical_accuracy: 0.5926\n",
            "Epoch 20/50\n",
            "125/125 [==============================] - 1s 7ms/step - loss: 0.6637 - categorical_accuracy: 0.7850 - val_loss: 1.3011 - val_categorical_accuracy: 0.6000\n",
            "Epoch 21/50\n",
            "125/125 [==============================] - 1s 7ms/step - loss: 0.6447 - categorical_accuracy: 0.7923 - val_loss: 1.2566 - val_categorical_accuracy: 0.5953\n",
            "Epoch 22/50\n",
            "125/125 [==============================] - 1s 7ms/step - loss: 0.6435 - categorical_accuracy: 0.7928 - val_loss: 1.2549 - val_categorical_accuracy: 0.6196\n",
            "Epoch 23/50\n",
            "125/125 [==============================] - 1s 7ms/step - loss: 0.6303 - categorical_accuracy: 0.7984 - val_loss: 1.2560 - val_categorical_accuracy: 0.6264\n",
            "Epoch 24/50\n",
            "125/125 [==============================] - 1s 7ms/step - loss: 0.6238 - categorical_accuracy: 0.8019 - val_loss: 1.3206 - val_categorical_accuracy: 0.5861\n",
            "Epoch 25/50\n",
            "125/125 [==============================] - 1s 7ms/step - loss: 0.6105 - categorical_accuracy: 0.8062 - val_loss: 1.2989 - val_categorical_accuracy: 0.6115\n",
            "Epoch 26/50\n",
            "125/125 [==============================] - 1s 7ms/step - loss: 0.5977 - categorical_accuracy: 0.8050 - val_loss: 1.1862 - val_categorical_accuracy: 0.6286\n",
            "Epoch 27/50\n",
            "125/125 [==============================] - 1s 7ms/step - loss: 0.5932 - categorical_accuracy: 0.8084 - val_loss: 1.1304 - val_categorical_accuracy: 0.6571\n",
            "Epoch 28/50\n",
            "125/125 [==============================] - 1s 7ms/step - loss: 0.5773 - categorical_accuracy: 0.8163 - val_loss: 1.0618 - val_categorical_accuracy: 0.6661\n",
            "Epoch 29/50\n",
            "125/125 [==============================] - 1s 7ms/step - loss: 0.5726 - categorical_accuracy: 0.8197 - val_loss: 0.9917 - val_categorical_accuracy: 0.6894\n",
            "Epoch 30/50\n",
            "125/125 [==============================] - 1s 7ms/step - loss: 0.5688 - categorical_accuracy: 0.8188 - val_loss: 1.0511 - val_categorical_accuracy: 0.6785\n",
            "Epoch 31/50\n",
            "125/125 [==============================] - 1s 7ms/step - loss: 0.5530 - categorical_accuracy: 0.8229 - val_loss: 1.1878 - val_categorical_accuracy: 0.6515\n",
            "Epoch 32/50\n",
            "125/125 [==============================] - 1s 7ms/step - loss: 0.5483 - categorical_accuracy: 0.8256 - val_loss: 1.1243 - val_categorical_accuracy: 0.6785\n",
            "Epoch 33/50\n",
            "125/125 [==============================] - 1s 7ms/step - loss: 0.5455 - categorical_accuracy: 0.8273 - val_loss: 1.0307 - val_categorical_accuracy: 0.6816\n",
            "Epoch 34/50\n",
            "125/125 [==============================] - 1s 7ms/step - loss: 0.5389 - categorical_accuracy: 0.8303 - val_loss: 1.0761 - val_categorical_accuracy: 0.6875\n",
            "Epoch 35/50\n",
            "125/125 [==============================] - 1s 7ms/step - loss: 0.5336 - categorical_accuracy: 0.8313 - val_loss: 1.0475 - val_categorical_accuracy: 0.6888\n",
            "Epoch 36/50\n",
            "125/125 [==============================] - 1s 7ms/step - loss: 0.5457 - categorical_accuracy: 0.8274 - val_loss: 0.9492 - val_categorical_accuracy: 0.7065\n",
            "Epoch 37/50\n",
            "125/125 [==============================] - 1s 7ms/step - loss: 0.5325 - categorical_accuracy: 0.8294 - val_loss: 1.2661 - val_categorical_accuracy: 0.6509\n",
            "Epoch 38/50\n",
            "125/125 [==============================] - 1s 7ms/step - loss: 0.5235 - categorical_accuracy: 0.8335 - val_loss: 0.9677 - val_categorical_accuracy: 0.7094\n",
            "Epoch 39/50\n",
            "125/125 [==============================] - 1s 7ms/step - loss: 0.5306 - categorical_accuracy: 0.8328 - val_loss: 1.1793 - val_categorical_accuracy: 0.6628\n",
            "Epoch 40/50\n",
            "125/125 [==============================] - 1s 7ms/step - loss: 0.5155 - categorical_accuracy: 0.8414 - val_loss: 1.0805 - val_categorical_accuracy: 0.6759\n",
            "Epoch 41/50\n",
            "125/125 [==============================] - 1s 7ms/step - loss: 0.5187 - categorical_accuracy: 0.8343 - val_loss: 1.0296 - val_categorical_accuracy: 0.7039\n",
            "Epoch 42/50\n",
            "125/125 [==============================] - 1s 7ms/step - loss: 0.5092 - categorical_accuracy: 0.8404 - val_loss: 1.1041 - val_categorical_accuracy: 0.7016\n",
            "Epoch 43/50\n",
            "125/125 [==============================] - 1s 7ms/step - loss: 0.5039 - categorical_accuracy: 0.8436 - val_loss: 1.1543 - val_categorical_accuracy: 0.6945\n",
            "Epoch 44/50\n",
            "125/125 [==============================] - 1s 7ms/step - loss: 0.5085 - categorical_accuracy: 0.8420 - val_loss: 1.0776 - val_categorical_accuracy: 0.6834\n",
            "Epoch 45/50\n",
            "125/125 [==============================] - 1s 7ms/step - loss: 0.5044 - categorical_accuracy: 0.8441 - val_loss: 1.0748 - val_categorical_accuracy: 0.6787\n",
            "Epoch 46/50\n",
            "125/125 [==============================] - 1s 7ms/step - loss: 0.4959 - categorical_accuracy: 0.8461 - val_loss: 0.9994 - val_categorical_accuracy: 0.7072\n",
            "Epoch 47/50\n",
            "125/125 [==============================] - 1s 8ms/step - loss: 0.4953 - categorical_accuracy: 0.8502 - val_loss: 0.9697 - val_categorical_accuracy: 0.7143\n",
            "Epoch 48/50\n",
            "125/125 [==============================] - 1s 7ms/step - loss: 0.4963 - categorical_accuracy: 0.8506 - val_loss: 1.0097 - val_categorical_accuracy: 0.7166\n",
            "Epoch 49/50\n",
            "125/125 [==============================] - 1s 7ms/step - loss: 0.4738 - categorical_accuracy: 0.8536 - val_loss: 1.0773 - val_categorical_accuracy: 0.6845\n",
            "Epoch 50/50\n",
            "125/125 [==============================] - 1s 7ms/step - loss: 0.4904 - categorical_accuracy: 0.8500 - val_loss: 1.0990 - val_categorical_accuracy: 0.6908\n"
          ]
        }
      ]
    },
    {
      "cell_type": "code",
      "metadata": {
        "id": "3ovPy7Uzvt29",
        "outputId": "c13b2e36-ee1b-4e5f-f2c6-7d937954505d"
      },
      "source": [
        "# Let us find the best checkpoint and compute its accuracy.\n",
        "model_wm_01 = load_best_checkpoint(model_wm_01, get_model_name(0.1))\n",
        "model_wm_01.evaluate(x_test, y_test)"
      ],
      "execution_count": null,
      "outputs": [
        {
          "output_type": "stream",
          "name": "stdout",
          "text": [
            "153/153 [==============================] - 0s 2ms/step - loss: 1.0097 - categorical_accuracy: 0.7166\n"
          ]
        },
        {
          "output_type": "execute_result",
          "data": {
            "text/plain": [
              "[1.0096887350082397, 0.716564416885376]"
            ]
          },
          "metadata": {},
          "execution_count": 39
        }
      ]
    },
    {
      "cell_type": "markdown",
      "metadata": {
        "id": "Lz4JmoZAoElv"
      },
      "source": [
        "# Setting up distillation training."
      ]
    },
    {
      "cell_type": "markdown",
      "metadata": {
        "id": "CchS13Xrgz-j"
      },
      "source": [
        "### Establishing our teacher model."
      ]
    },
    {
      "cell_type": "code",
      "metadata": {
        "id": "bS9MHLdtcSe0"
      },
      "source": [
        "teacher_model = model_wm_10_without_softmax"
      ],
      "execution_count": null,
      "outputs": []
    },
    {
      "cell_type": "code",
      "metadata": {
        "id": "450Mb9SOxq4W"
      },
      "source": [
        "# Create the distillation labels by stacking the teacher model's outputs \n",
        "# and the ground-truth one-hot labels together.\n",
        "def get_distillation_labels(teacher_model_instance, x_ds, y_ds):\n",
        "  \"\"\"Add the teacher logits to the label tensor.\"\"\"\n",
        "  # Generate the teacher model's logits.\n",
        "  teacher_logits = teacher_model_instance.predict(x_ds)\n",
        "  # Create the stacked tensor.\n",
        "  y_dist_ds = tf.stack([y_ds, teacher_logits], axis=1)\n",
        "  return y_dist_ds"
      ],
      "execution_count": null,
      "outputs": []
    },
    {
      "cell_type": "code",
      "metadata": {
        "id": "5KaWdUlx8GP4"
      },
      "source": [
        "y_dist_train = get_distillation_labels(teacher_model, x_train, y_train)\n",
        "y_dist_test = get_distillation_labels(teacher_model, x_test, y_test)"
      ],
      "execution_count": null,
      "outputs": []
    },
    {
      "cell_type": "code",
      "metadata": {
        "id": "7kQMnHQz-pCz"
      },
      "source": [
        "def get_compiled_distillation_model(\n",
        "    width_multiplier=1.0,\n",
        "    num_classes=12,\n",
        "    params={}):\n",
        "  learning_rate = params.get('learning_rate', 1e-3)\n",
        "  temperature = params.get('temperature', 1.0)\n",
        "  distillation_weight = params.get('distillation_weight', 1.0)\n",
        "\n",
        "  model = base_model(\n",
        "      num_classes, width_multiplier=width_multiplier, params=params)\n",
        "\n",
        "  def distillation_loss_fn(y_true_combined, y_pred):\n",
        "    \"\"\"Custom distillation loss function.\"\"\"\n",
        "    # We will split the y tensor to extract the ground-truth and the teacher's\n",
        "    # soft-labels.\n",
        "    y_true_split = tf.split(y_true_combined, 2, axis=1)\n",
        "    \n",
        "    # Create the ground-truth loss function as usual.\n",
        "    ground_truth = tf.squeeze(y_true_split[0], axis=1)\n",
        "    gt_loss = tf.keras.losses.CategoricalCrossentropy()(\n",
        "      ground_truth, y_pred)\n",
        "    \n",
        "    # Create the distillation loss using the soft-labels.\n",
        "    logits = tf.squeeze(y_true_split[1], axis=1)\n",
        "    soft_labels = tf.nn.softmax(logits / temperature)\n",
        "    dist_loss = tf.keras.losses.CategoricalCrossentropy()(\n",
        "        soft_labels, y_pred)\n",
        "\n",
        "    # Combine the two into a single loss function.\n",
        "    loss = gt_loss + distillation_weight * dist_loss * (temperature ** 2.0)\n",
        "    return loss\n",
        "  \n",
        "  def categorical_accuracy(labels, model_pred):\n",
        "    # Extract the ground-truth labels.\n",
        "    ground_truth = tf.split(labels, 2, axis=1)[0]\n",
        "    ground_truth = tf.squeeze(ground_truth, axis=1)\n",
        "\n",
        "    # Compute the accuracy as usual.\n",
        "    return tf.keras.metrics.categorical_accuracy(ground_truth, model_pred)\n",
        "\n",
        "  opt = keras.optimizers.Adam(learning_rate=learning_rate)\n",
        "\n",
        "  # Compile the model with the custom loss function and metric.\n",
        "  model.compile(\n",
        "      loss=distillation_loss_fn,\n",
        "      metrics=[categorical_accuracy],\n",
        "      optimizer=opt)\n",
        "  return model\n",
        "\n",
        "def train_dist_model(width_multiplier, params={}, batch_size=128, epochs=100):\n",
        "  model_name = get_model_name(width_multiplier, distillation=True)\n",
        "\n",
        "  model = get_compiled_distillation_model(\n",
        "      width_multiplier=width_multiplier,\n",
        "      params=params)\n",
        "  model.summary()\n",
        "\n",
        "  # The change here would be that we are using the distillation labels.\n",
        "  model_history = model.fit(\n",
        "      x_train, \n",
        "      y_dist_train, \n",
        "      batch_size=batch_size, \n",
        "      epochs=epochs, \n",
        "      validation_data=(x_test, y_dist_test),\n",
        "      callbacks=[best_checkpoint_callback(model_name)],\n",
        "      shuffle=True)\n",
        "\n",
        "  return model, model_history.history"
      ],
      "execution_count": null,
      "outputs": []
    },
    {
      "cell_type": "markdown",
      "metadata": {
        "id": "imIj0ej7gisi"
      },
      "source": [
        "# Train the `width_multiplier`=0.1 model with distillation."
      ]
    },
    {
      "cell_type": "code",
      "metadata": {
        "id": "NZo6PPhSFeMi",
        "outputId": "ea8536d1-0487-4e0c-f93e-770acd3d336a"
      },
      "source": [
        "# Train a model with width_multiplier=0.1 in a distillation setting.\n",
        "width_multiplier = 0.1\n",
        "params = {\n",
        "    'learning_rate': 1e-3,\n",
        "    'dropout_rate': 0.2,\n",
        "    'distillation_weight': 1.0,\n",
        "}\n",
        "model_wm_01_dist, model_wm_01_dist_history = train_dist_model(\n",
        "    width_multiplier, params, epochs=50)"
      ],
      "execution_count": null,
      "outputs": [
        {
          "output_type": "stream",
          "name": "stdout",
          "text": [
            "Model: \"model_7\"\n",
            "_________________________________________________________________\n",
            " Layer (type)                Output Shape              Param #   \n",
            "=================================================================\n",
            " input_6 (InputLayer)        [(None, 124, 129)]        0         \n",
            "                                                                 \n",
            " conv1d_30 (Conv1D)          (None, 124, 32)           37184     \n",
            "                                                                 \n",
            " batch_normalization_30 (Bat  (None, 124, 32)          128       \n",
            " chNormalization)                                                \n",
            "                                                                 \n",
            " conv1d_31 (Conv1D)          (None, 124, 32)           9248      \n",
            "                                                                 \n",
            " batch_normalization_31 (Bat  (None, 124, 32)          128       \n",
            " chNormalization)                                                \n",
            "                                                                 \n",
            " max_pooling1d_15 (MaxPoolin  (None, 31, 32)           0         \n",
            " g1D)                                                            \n",
            "                                                                 \n",
            " dropout_25 (Dropout)        (None, 31, 32)            0         \n",
            "                                                                 \n",
            " conv1d_32 (Conv1D)          (None, 31, 6)             1734      \n",
            "                                                                 \n",
            " batch_normalization_32 (Bat  (None, 31, 6)            24        \n",
            " chNormalization)                                                \n",
            "                                                                 \n",
            " conv1d_33 (Conv1D)          (None, 31, 6)             330       \n",
            "                                                                 \n",
            " batch_normalization_33 (Bat  (None, 31, 6)            24        \n",
            " chNormalization)                                                \n",
            "                                                                 \n",
            " max_pooling1d_16 (MaxPoolin  (None, 7, 6)             0         \n",
            " g1D)                                                            \n",
            "                                                                 \n",
            " dropout_26 (Dropout)        (None, 7, 6)              0         \n",
            "                                                                 \n",
            " conv1d_34 (Conv1D)          (None, 7, 13)             715       \n",
            "                                                                 \n",
            " batch_normalization_34 (Bat  (None, 7, 13)            52        \n",
            " chNormalization)                                                \n",
            "                                                                 \n",
            " conv1d_35 (Conv1D)          (None, 7, 13)             1534      \n",
            "                                                                 \n",
            " batch_normalization_35 (Bat  (None, 7, 13)            52        \n",
            " chNormalization)                                                \n",
            "                                                                 \n",
            " max_pooling1d_17 (MaxPoolin  (None, 1, 13)            0         \n",
            " g1D)                                                            \n",
            "                                                                 \n",
            " dropout_27 (Dropout)        (None, 1, 13)             0         \n",
            "                                                                 \n",
            " flatten_5 (Flatten)         (None, 13)                0         \n",
            "                                                                 \n",
            " dropout_28 (Dropout)        (None, 13)                0         \n",
            "                                                                 \n",
            " dense_10 (Dense)            (None, 51)                714       \n",
            "                                                                 \n",
            " dropout_29 (Dropout)        (None, 51)                0         \n",
            "                                                                 \n",
            " dense_11 (Dense)            (None, 12)                624       \n",
            "                                                                 \n",
            " activation_5 (Activation)   (None, 12)                0         \n",
            "                                                                 \n",
            "=================================================================\n",
            "Total params: 52,491\n",
            "Trainable params: 52,287\n",
            "Non-trainable params: 204\n",
            "_________________________________________________________________\n",
            "Epoch 1/50\n",
            "125/125 [==============================] - 2s 10ms/step - loss: 3.8749 - categorical_accuracy: 0.5370 - val_loss: 5.0434 - val_categorical_accuracy: 0.0832\n",
            "Epoch 2/50\n",
            "125/125 [==============================] - 1s 8ms/step - loss: 3.1005 - categorical_accuracy: 0.6312 - val_loss: 5.0656 - val_categorical_accuracy: 0.0853\n",
            "Epoch 3/50\n",
            "125/125 [==============================] - 1s 7ms/step - loss: 2.8584 - categorical_accuracy: 0.6349 - val_loss: 5.2351 - val_categorical_accuracy: 0.1020\n",
            "Epoch 4/50\n",
            "125/125 [==============================] - 1s 8ms/step - loss: 2.6707 - categorical_accuracy: 0.6421 - val_loss: 4.6577 - val_categorical_accuracy: 0.1618\n",
            "Epoch 5/50\n",
            "125/125 [==============================] - 1s 8ms/step - loss: 2.4777 - categorical_accuracy: 0.6524 - val_loss: 4.4006 - val_categorical_accuracy: 0.1943\n",
            "Epoch 6/50\n",
            "125/125 [==============================] - 1s 7ms/step - loss: 2.3327 - categorical_accuracy: 0.6609 - val_loss: 4.1080 - val_categorical_accuracy: 0.2194\n",
            "Epoch 7/50\n",
            "125/125 [==============================] - 1s 7ms/step - loss: 2.1753 - categorical_accuracy: 0.6749 - val_loss: 3.6937 - val_categorical_accuracy: 0.2810\n",
            "Epoch 8/50\n",
            "125/125 [==============================] - 1s 8ms/step - loss: 2.1005 - categorical_accuracy: 0.6787 - val_loss: 3.2336 - val_categorical_accuracy: 0.3624\n",
            "Epoch 9/50\n",
            "125/125 [==============================] - 1s 8ms/step - loss: 1.9633 - categorical_accuracy: 0.6948 - val_loss: 3.0836 - val_categorical_accuracy: 0.4174\n",
            "Epoch 10/50\n",
            "125/125 [==============================] - 1s 8ms/step - loss: 1.8736 - categorical_accuracy: 0.7053 - val_loss: 2.9292 - val_categorical_accuracy: 0.4528\n",
            "Epoch 11/50\n",
            "125/125 [==============================] - 1s 8ms/step - loss: 1.7932 - categorical_accuracy: 0.7181 - val_loss: 2.5650 - val_categorical_accuracy: 0.5182\n",
            "Epoch 12/50\n",
            "125/125 [==============================] - 1s 7ms/step - loss: 1.7184 - categorical_accuracy: 0.7310 - val_loss: 2.7071 - val_categorical_accuracy: 0.5123\n",
            "Epoch 13/50\n",
            "125/125 [==============================] - 1s 8ms/step - loss: 1.6738 - categorical_accuracy: 0.7376 - val_loss: 2.2671 - val_categorical_accuracy: 0.5763\n",
            "Epoch 14/50\n",
            "125/125 [==============================] - 1s 8ms/step - loss: 1.6306 - categorical_accuracy: 0.7438 - val_loss: 2.2270 - val_categorical_accuracy: 0.6006\n",
            "Epoch 15/50\n",
            "125/125 [==============================] - 1s 8ms/step - loss: 1.5864 - categorical_accuracy: 0.7482 - val_loss: 2.2483 - val_categorical_accuracy: 0.6027\n",
            "Epoch 16/50\n",
            "125/125 [==============================] - 1s 8ms/step - loss: 1.5206 - categorical_accuracy: 0.7622 - val_loss: 1.9805 - val_categorical_accuracy: 0.6497\n",
            "Epoch 17/50\n",
            "125/125 [==============================] - 1s 8ms/step - loss: 1.4818 - categorical_accuracy: 0.7718 - val_loss: 1.9364 - val_categorical_accuracy: 0.6587\n",
            "Epoch 18/50\n",
            "125/125 [==============================] - 1s 8ms/step - loss: 1.4403 - categorical_accuracy: 0.7736 - val_loss: 1.9243 - val_categorical_accuracy: 0.6593\n",
            "Epoch 19/50\n",
            "125/125 [==============================] - 1s 8ms/step - loss: 1.4163 - categorical_accuracy: 0.7819 - val_loss: 1.7481 - val_categorical_accuracy: 0.6971\n",
            "Epoch 20/50\n",
            "125/125 [==============================] - 1s 7ms/step - loss: 1.3741 - categorical_accuracy: 0.7878 - val_loss: 1.7688 - val_categorical_accuracy: 0.6988\n",
            "Epoch 21/50\n",
            "125/125 [==============================] - 1s 7ms/step - loss: 1.3287 - categorical_accuracy: 0.7966 - val_loss: 1.7027 - val_categorical_accuracy: 0.7112\n",
            "Epoch 22/50\n",
            "125/125 [==============================] - 1s 7ms/step - loss: 1.3244 - categorical_accuracy: 0.8030 - val_loss: 1.7950 - val_categorical_accuracy: 0.6969\n",
            "Epoch 23/50\n",
            "125/125 [==============================] - 1s 7ms/step - loss: 1.2684 - categorical_accuracy: 0.8068 - val_loss: 1.5997 - val_categorical_accuracy: 0.7313\n",
            "Epoch 24/50\n",
            "125/125 [==============================] - 1s 7ms/step - loss: 1.2689 - categorical_accuracy: 0.8108 - val_loss: 1.6615 - val_categorical_accuracy: 0.7117\n",
            "Epoch 25/50\n",
            "125/125 [==============================] - 1s 7ms/step - loss: 1.2419 - categorical_accuracy: 0.8140 - val_loss: 1.6273 - val_categorical_accuracy: 0.7147\n",
            "Epoch 26/50\n",
            "125/125 [==============================] - 1s 7ms/step - loss: 1.2142 - categorical_accuracy: 0.8243 - val_loss: 1.6502 - val_categorical_accuracy: 0.7178\n",
            "Epoch 27/50\n",
            "125/125 [==============================] - 1s 8ms/step - loss: 1.2051 - categorical_accuracy: 0.8253 - val_loss: 1.4510 - val_categorical_accuracy: 0.7501\n",
            "Epoch 28/50\n",
            "125/125 [==============================] - 1s 8ms/step - loss: 1.1761 - categorical_accuracy: 0.8294 - val_loss: 1.4532 - val_categorical_accuracy: 0.7585\n",
            "Epoch 29/50\n",
            "125/125 [==============================] - 1s 7ms/step - loss: 1.1482 - categorical_accuracy: 0.8366 - val_loss: 1.6568 - val_categorical_accuracy: 0.7297\n",
            "Epoch 30/50\n",
            "125/125 [==============================] - 1s 7ms/step - loss: 1.1528 - categorical_accuracy: 0.8361 - val_loss: 1.5009 - val_categorical_accuracy: 0.7474\n",
            "Epoch 31/50\n",
            "125/125 [==============================] - 1s 7ms/step - loss: 1.1429 - categorical_accuracy: 0.8364 - val_loss: 1.5112 - val_categorical_accuracy: 0.7511\n",
            "Epoch 32/50\n",
            "125/125 [==============================] - 1s 7ms/step - loss: 1.1251 - categorical_accuracy: 0.8401 - val_loss: 1.4779 - val_categorical_accuracy: 0.7609\n",
            "Epoch 33/50\n",
            "125/125 [==============================] - 1s 7ms/step - loss: 1.1100 - categorical_accuracy: 0.8450 - val_loss: 1.5169 - val_categorical_accuracy: 0.7569\n",
            "Epoch 34/50\n",
            "125/125 [==============================] - 1s 8ms/step - loss: 1.0930 - categorical_accuracy: 0.8505 - val_loss: 1.4466 - val_categorical_accuracy: 0.7683\n",
            "Epoch 35/50\n",
            "125/125 [==============================] - 1s 7ms/step - loss: 1.0802 - categorical_accuracy: 0.8508 - val_loss: 1.3966 - val_categorical_accuracy: 0.7818\n",
            "Epoch 36/50\n",
            "125/125 [==============================] - 1s 7ms/step - loss: 1.0853 - categorical_accuracy: 0.8513 - val_loss: 1.4932 - val_categorical_accuracy: 0.7564\n",
            "Epoch 37/50\n",
            "125/125 [==============================] - 1s 7ms/step - loss: 1.0553 - categorical_accuracy: 0.8536 - val_loss: 1.4369 - val_categorical_accuracy: 0.7746\n",
            "Epoch 38/50\n",
            "125/125 [==============================] - 1s 7ms/step - loss: 1.0487 - categorical_accuracy: 0.8581 - val_loss: 1.5618 - val_categorical_accuracy: 0.7503\n",
            "Epoch 39/50\n",
            "125/125 [==============================] - 1s 7ms/step - loss: 1.0544 - categorical_accuracy: 0.8577 - val_loss: 1.4561 - val_categorical_accuracy: 0.7742\n",
            "Epoch 40/50\n",
            "125/125 [==============================] - 1s 7ms/step - loss: 1.0467 - categorical_accuracy: 0.8614 - val_loss: 1.3661 - val_categorical_accuracy: 0.7812\n",
            "Epoch 41/50\n",
            "125/125 [==============================] - 1s 7ms/step - loss: 1.0122 - categorical_accuracy: 0.8647 - val_loss: 1.5246 - val_categorical_accuracy: 0.7593\n",
            "Epoch 42/50\n",
            "125/125 [==============================] - 1s 7ms/step - loss: 1.0172 - categorical_accuracy: 0.8624 - val_loss: 1.4805 - val_categorical_accuracy: 0.7773\n",
            "Epoch 43/50\n",
            "125/125 [==============================] - 1s 8ms/step - loss: 1.0418 - categorical_accuracy: 0.8596 - val_loss: 1.3592 - val_categorical_accuracy: 0.7990\n",
            "Epoch 44/50\n",
            "125/125 [==============================] - 1s 7ms/step - loss: 1.0054 - categorical_accuracy: 0.8641 - val_loss: 1.5083 - val_categorical_accuracy: 0.7791\n",
            "Epoch 45/50\n",
            "125/125 [==============================] - 1s 8ms/step - loss: 0.9905 - categorical_accuracy: 0.8706 - val_loss: 1.3072 - val_categorical_accuracy: 0.8063\n",
            "Epoch 46/50\n",
            "125/125 [==============================] - 1s 7ms/step - loss: 0.9998 - categorical_accuracy: 0.8673 - val_loss: 1.4550 - val_categorical_accuracy: 0.7726\n",
            "Epoch 47/50\n",
            "125/125 [==============================] - 1s 7ms/step - loss: 1.0000 - categorical_accuracy: 0.8692 - val_loss: 1.3014 - val_categorical_accuracy: 0.7994\n",
            "Epoch 48/50\n",
            "125/125 [==============================] - 1s 7ms/step - loss: 0.9721 - categorical_accuracy: 0.8742 - val_loss: 1.2932 - val_categorical_accuracy: 0.8063\n",
            "Epoch 49/50\n",
            "125/125 [==============================] - 1s 7ms/step - loss: 0.9562 - categorical_accuracy: 0.8798 - val_loss: 1.2643 - val_categorical_accuracy: 0.8049\n",
            "Epoch 50/50\n",
            "125/125 [==============================] - 1s 7ms/step - loss: 0.9675 - categorical_accuracy: 0.8758 - val_loss: 1.4238 - val_categorical_accuracy: 0.7910\n"
          ]
        }
      ]
    },
    {
      "cell_type": "code",
      "metadata": {
        "id": "huOy23jiKHH2",
        "outputId": "63e9e401-7d79-4141-ad62-f6a8d01e5afe"
      },
      "source": [
        "model_wm_01_dist = load_best_checkpoint(\n",
        "    model_wm_01_dist, \n",
        "    get_model_name(0.1, distillation=True))\n",
        "model_wm_01_dist.evaluate(x_test, y_dist_test)"
      ],
      "execution_count": null,
      "outputs": [
        {
          "output_type": "stream",
          "name": "stdout",
          "text": [
            "153/153 [==============================] - 0s 3ms/step - loss: 1.3072 - categorical_accuracy: 0.8063\n"
          ]
        },
        {
          "output_type": "execute_result",
          "data": {
            "text/plain": [
              "[1.3071538209915161, 0.80633944272995]"
            ]
          },
          "metadata": {},
          "execution_count": 45
        }
      ]
    },
    {
      "cell_type": "code",
      "metadata": {
        "id": "YImA3TqpM7oG"
      },
      "source": [
        "%matplotlib inline\n",
        "import matplotlib.pyplot as plt"
      ],
      "execution_count": null,
      "outputs": []
    },
    {
      "cell_type": "code",
      "metadata": {
        "colab": {
          "height": 279
        },
        "id": "s2HPwGutNHO-",
        "outputId": "ec6182b1-050a-438a-a06e-795c9ff4a297"
      },
      "source": [
        "fig = plt.figure()\n",
        "fig.patch.set_facecolor('white')\n",
        "\n",
        "plt.plot(model_wm_01_history['val_categorical_accuracy'],\n",
        "         label='test accuracy baseline',\n",
        "         c='orange',ls='--')\n",
        "\n",
        "plt.plot(model_wm_01_dist_history['val_categorical_accuracy'],\n",
        "         label='test accuracy distilled',\n",
        "         c='dodgerblue', ls='-')\n",
        "\n",
        "plt.xlabel('Epoch')\n",
        "plt.ylabel('Accuracy')\n",
        "plt.legend(loc='lower right')\n",
        "plt.show()"
      ],
      "execution_count": null,
      "outputs": [
        {
          "output_type": "display_data",
          "data": {
            "image/png": "[encoded data removed]",
            "text/plain": [
              "<Figure size 600x400 with 1 Axes>"
            ]
          },
          "metadata": {}
        }
      ]
    }
  ]
}
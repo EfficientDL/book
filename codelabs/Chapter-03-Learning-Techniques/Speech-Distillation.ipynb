{
  "cells": [
    {
      "cell_type": "code",
      "execution_count": 32,
      "metadata": {
        "id": "_A7PPjQO862u"
      },
      "outputs": [],
      "source": [
        "import numpy as np\n",
        "import tensorflow_datasets as tfds\n",
        "import tensorflow as tf\n",
        "import tensorflow.keras as keras\n",
        "import tensorflow.keras.layers as layers\n",
        "\n",
        "from keras.utils import np_utils"
      ]
    },
    {
      "cell_type": "markdown",
      "metadata": {
        "id": "DsqlbU2FrEQy"
      },
      "source": [
        "# Some helper methods related to Colabs, feel free to ignore."
      ]
    },
    {
      "cell_type": "code",
      "execution_count": 58,
      "metadata": {
        "colab": {
          "base_uri": "https://localhost:8080/"
        },
        "id": "O2ZIAc4Hq8zT",
        "outputId": "0e00b9e6-daf3-43e9-df4c-01a61c1b4d4b"
      },
      "outputs": [
        {
          "name": "stdout",
          "output_type": "stream",
          "text": [
            "mkdir: cannot create directory ‘fonts/’: File exists\n"
          ]
        }
      ],
      "source": [
        "!mkdir fonts/\n",
        "\n",
        "# Download the fonts we need.\n",
        "!wget -qO Noto_Sans.zip https://drive.google.com/uc?id=1-0tqK8qCFRVqsRZag4YYJmy2ZnPOD5VD&export=download \n",
        "!unzip -qo Noto_Sans.zip -d fonts/Noto_Sans\n",
        "!wget -qO Roboto.zip https://drive.google.com/uc?id=1Xo2EUtHc5CIAo3l5V1FbtRopbV7_u-Cu&export=download\n",
        "!unzip -qo Roboto.zip -d fonts/Roboto\n",
        "!wget -qO Poppins.zip https://drive.google.com/uc?id=18Flk0fW_8RBNmKyDJEnMA43GjFjxp-i0&export=download\n",
        "!unzip -qo Poppins.zip -d fonts/Poppins\n",
        "\n",
        "!rm Noto_Sans.zip Roboto.zip Poppins.zip\n",
        "\n",
        "%pip install -q git+https://github.com/EfficientDL/codelab_utils.git\n",
        "\n",
        "import matplotlib.pyplot as plt\n",
        "import codelab_utils.mpl_styles as mpl_styles\n",
        "\n",
        "mpl_styles.set_default_styles()\n",
        "plt.rcParams['font.family'] = 'Poppins'"
      ]
    },
    {
      "cell_type": "markdown",
      "metadata": {
        "id": "BQBII8Jae2he"
      },
      "source": [
        "# Creating the dataset."
      ]
    },
    {
      "cell_type": "code",
      "execution_count": null,
      "metadata": {
        "colab": {
          "base_uri": "https://localhost:8080/"
        },
        "id": "hBRRuoFmh4bm",
        "outputId": "a6b8d4b6-dbf2-4793-de22-37a8fe222c76"
      },
      "outputs": [
        {
          "ename": "",
          "evalue": "",
          "output_type": "error",
          "traceback": [
            "\u001b[1;31mRunning cells with 'Python 3.9.7 64-bit' requires ipykernel package.\n",
            "Run the following command to install 'ipykernel' into the Python environment. \n",
            "Command: '/usr/local/bin/python3 -m pip install ipykernel -U --user --force-reinstall'"
          ]
        }
      ],
      "source": [
        "%pip install pydub"
      ]
    },
    {
      "cell_type": "code",
      "execution_count": 34,
      "metadata": {
        "id": "jS9OUfC3CrAn"
      },
      "outputs": [],
      "source": [
        "read_config = tfds.ReadConfig(try_autocache=False)\n",
        "data_ds = tfds.load(\n",
        "  name='speech_commands',\n",
        "  read_config=read_config\n",
        ")"
      ]
    },
    {
      "cell_type": "code",
      "execution_count": 35,
      "metadata": {
        "id": "w354Fco4M8I2"
      },
      "outputs": [],
      "source": [
        "def get_processed_ds(ds, num_examples, max_len=16000, num_classes=12):\n",
        "  \"\"\"Get the processed dataset.\"\"\"\n",
        "  i = 0\n",
        "  x = np.zeros([num_examples, max_len], dtype=np.float32)\n",
        "  y = np.zeros([num_examples, 1], dtype=np.uint8)\n",
        "\n",
        "  for i, example in enumerate(tfds.as_numpy(ds)):\n",
        "    audio_clip = example['audio']\n",
        "    label = example['label']\n",
        "\n",
        "    # Trim and pad the audio clips to the maximum length.\n",
        "    audio_clip = audio_clip[:max_len]\n",
        "    audio_clip = np.pad(audio_clip, (0, max_len - audio_clip.shape[0]))\n",
        "    audio_clip = np.reshape(audio_clip, (max_len)).astype(np.float32)\n",
        "    \n",
        "    x[i] = audio_clip\n",
        "    y[i] = label\n",
        "    \n",
        "    # i = i + 1\n",
        "    if i + 1 >= num_examples:\n",
        "      break\n",
        "\n",
        "  # STFT to extract the fourier transform on sliding windows of the input.\n",
        "  # Apply STFT on the audio data, but keep only the magnitude.\n",
        "  x = tf.abs(tf.signal.stft(x, frame_length=256, frame_step=128))\n",
        "\n",
        "  # Convert the labels to a one-hot vector.\n",
        "  y = np_utils.to_categorical(y, num_classes)\n",
        "  return x, y"
      ]
    },
    {
      "cell_type": "code",
      "execution_count": 36,
      "metadata": {
        "id": "9ck4R9goYykl"
      },
      "outputs": [],
      "source": [
        "x_train, y_train = get_processed_ds(data_ds['train'], 16000)\n",
        "x_test, y_test = get_processed_ds(data_ds['test'], 4890)"
      ]
    },
    {
      "cell_type": "code",
      "execution_count": 37,
      "metadata": {
        "colab": {
          "base_uri": "https://localhost:8080/"
        },
        "id": "Jff9BxI7e9l8",
        "outputId": "b7d1fa08-f67d-4220-9e86-0aa5d0647c26"
      },
      "outputs": [
        {
          "name": "stdout",
          "output_type": "stream",
          "text": [
            "(16000, 124, 129) (16000, 12)\n"
          ]
        }
      ],
      "source": [
        "print(x_train.shape, y_train.shape)"
      ]
    },
    {
      "cell_type": "code",
      "execution_count": 38,
      "metadata": {
        "colab": {
          "base_uri": "https://localhost:8080/"
        },
        "id": "pf8ZMrdcfB0H",
        "outputId": "007042a2-840a-4749-8e4e-1d1d950554c0"
      },
      "outputs": [
        {
          "name": "stdout",
          "output_type": "stream",
          "text": [
            "(4890, 124, 129) (4890, 12)\n"
          ]
        }
      ],
      "source": [
        "print(x_test.shape, y_test.shape)"
      ]
    },
    {
      "cell_type": "code",
      "execution_count": 39,
      "metadata": {
        "colab": {
          "base_uri": "https://localhost:8080/"
        },
        "id": "Ui_RKNiDcl31",
        "outputId": "49cfaa16-cd61-45fb-d979-f6312e05d59b"
      },
      "outputs": [
        {
          "name": "stdout",
          "output_type": "stream",
          "text": [
            "(124, 129)\n"
          ]
        }
      ],
      "source": [
        "input_shape = tuple(x_train.shape.as_list()[1:])\n",
        "print(input_shape)"
      ]
    },
    {
      "cell_type": "markdown",
      "metadata": {
        "id": "nq01SB85gM5G"
      },
      "source": [
        "# Setting up the model training."
      ]
    },
    {
      "cell_type": "code",
      "execution_count": 40,
      "metadata": {
        "id": "NC3bwcffayQf"
      },
      "outputs": [],
      "source": [
        "import os\n",
        "\n",
        "# Now let us create a callback for saving the best checkpoint so far.\n",
        "# It tries to find the checkpoint with the maximum categorical accuracy.\n",
        "# We will provide this to the model.fit function.\n",
        "\n",
        "CHECKPOINTS_DIR='checkpoints'\n",
        "\n",
        "# Create a directory for the checkpoints.\n",
        "!mkdir -p $CHECKPOINTS_DIR\n",
        "\n",
        "def best_checkpoint_callback(model_name):\n",
        "  checkpoint_dir_path = os.path.join(CHECKPOINTS_DIR, model_name)\n",
        "  if not os.path.exists(checkpoint_dir_path):\n",
        "    os.mkdir(checkpoint_dir_path)\n",
        "  checkpoint_path = os.path.join(checkpoint_dir_path, model_name)\n",
        "  return tf.keras.callbacks.ModelCheckpoint(\n",
        "    filepath=checkpoint_path,\n",
        "    save_weights_only=True,\n",
        "    monitor='val_categorical_accuracy',\n",
        "    mode='max',\n",
        "    save_best_only=True)\n",
        "\n",
        "\n",
        "def load_best_checkpoint(model, model_name):\n",
        "  checkpoint_dir_path = os.path.join(CHECKPOINTS_DIR, model_name)\n",
        "  checkpoint_path = os.path.join(checkpoint_dir_path, model_name)\n",
        "  model.load_weights(checkpoint_path)\n",
        "  return model"
      ]
    },
    {
      "cell_type": "code",
      "execution_count": 41,
      "metadata": {
        "id": "C3oBiGoAbvFf"
      },
      "outputs": [],
      "source": [
        "def base_model(\n",
        "    num_classes=12,        # Number of classes in the model. \n",
        "    width_multiplier=1.0,  # Factor for scaling the network size.\n",
        "    params={},             # Additional hyper-params.\n",
        "):\n",
        "  # Use the width_multiplier for scaling the network, the larger the value,\n",
        "  # the larger the network. Keep a bound on the width though.\n",
        "  w = min(max(width_multiplier, 0.05), 3.0)\n",
        "\n",
        "  # inputs = keras.Input(shape=(16000,1))\n",
        "  inputs = keras.Input(shape=input_shape)\n",
        "  x = inputs\n",
        "\n",
        "  # Create a regularizer to be used.\n",
        "  reg = keras.regularizers.l2(params.get('l2_reg_weight', 2e-4))\n",
        "\n",
        "  # Find the dropout rate for helping with further regularization.\n",
        "  dropout_rate = params.get('dropout_rate', 1.0)\n",
        "\n",
        "  # We will keep the first 'block' of layers scale invariant.\n",
        "  x = layers.Conv1D(\n",
        "      32, (9), padding='same', activation='relu', kernel_regularizer=reg)(\n",
        "          x)\n",
        "  x = layers.BatchNormalization()(x)\n",
        "  x = layers.Conv1D(\n",
        "      32, (9), padding='same', activation='relu', kernel_regularizer=reg)(\n",
        "          x)\n",
        "  x = layers.BatchNormalization()(x)\n",
        "  x = layers.MaxPooling1D(pool_size=(4))(x)\n",
        "  x = layers.Dropout(dropout_rate)(x)\n",
        "\n",
        "  # A short hand for the round method.\n",
        "  r = lambda v: round(v)\n",
        "\n",
        "  # We will start to scale layers from here on.\n",
        "  x = layers.Conv1D(\n",
        "      # Note that the number of filters grows / shrinks with `w`.\n",
        "      r(64 * w), \n",
        "      (9), \n",
        "      padding='same',\n",
        "      activation='relu',\n",
        "      kernel_regularizer=reg)(x)\n",
        "  x = layers.BatchNormalization()(x)\n",
        "  x = layers.Conv1D(\n",
        "      r(64 * w), \n",
        "      (9),\n",
        "      padding='same',\n",
        "      activation='relu',\n",
        "      kernel_regularizer=reg)(x)\n",
        "  x = layers.BatchNormalization()(x)\n",
        "  x = layers.MaxPooling1D(pool_size=(4))(x)\n",
        "  x = layers.Dropout(dropout_rate)(x)\n",
        "\n",
        "  x = layers.Conv1D(\n",
        "      r(128 * w), \n",
        "      (9),\n",
        "      padding='same',\n",
        "      activation='relu',\n",
        "      kernel_regularizer=reg)(x)\n",
        "  x = layers.BatchNormalization()(x)\n",
        "  x = layers.Conv1D(\n",
        "      r(128 * w), \n",
        "      (9),\n",
        "      padding='same',\n",
        "      activation='relu',\n",
        "      kernel_regularizer=reg)(x)\n",
        "  x = layers.BatchNormalization()(x)\n",
        "  x = layers.MaxPooling1D(pool_size=(4))(x)\n",
        "  x = layers.Dropout(dropout_rate)(x)\n",
        "\n",
        "  x = layers.Flatten()(x)\n",
        "  x = layers.Dropout(dropout_rate)(x)\n",
        "  x = layers.Dense(r(512 * w), activation='relu', kernel_regularizer=reg)(x)\n",
        "  x = layers.Dropout(dropout_rate)(x)\n",
        "  x = layers.Dense(num_classes, kernel_regularizer=reg)(x)\n",
        "  logits = x\n",
        "  probabilities = layers.Activation('softmax')(logits)\n",
        "  outputs = probabilities\n",
        "\n",
        "  return keras.Model(inputs=inputs, outputs=outputs)"
      ]
    },
    {
      "cell_type": "code",
      "execution_count": 42,
      "metadata": {
        "id": "AXU7QJxIcAve"
      },
      "outputs": [],
      "source": [
        "def get_compiled_model(\n",
        "    width_multiplier,\n",
        "    num_classes=12,\n",
        "    params={}):\n",
        "  \"\"\"Helper method to create the compiled model.\"\"\"  \n",
        "  learning_rate = params.get('learning_rate', 1e-3)\n",
        "\n",
        "  model = base_model(\n",
        "      num_classes, width_multiplier=width_multiplier, params=params)\n",
        "\n",
        "  opt = keras.optimizers.Adam(learning_rate=learning_rate)\n",
        "  model.compile(loss='categorical_crossentropy', optimizer=opt, \n",
        "                metrics='categorical_accuracy')\n",
        "  return model"
      ]
    },
    {
      "cell_type": "code",
      "execution_count": 43,
      "metadata": {
        "id": "MgC-JqxTcFf2"
      },
      "outputs": [],
      "source": [
        "def get_model_name(width_multiplier, distillation=False):\n",
        "  \"\"\"A helper method to create a unique identifier for a model.\"\"\"\n",
        "  return 'wm_{}{}'.format(\n",
        "      str(width_multiplier).replace('.', ''),\n",
        "      ('_dist' if distillation else '')\n",
        "  )\n",
        "\n",
        "def train_model(width_multiplier, params={}, batch_size=128, epochs=100):\n",
        "  \"\"\"Train a solo model.\"\"\"\n",
        "  model_name = get_model_name(width_multiplier, distillation=False)\n",
        "\n",
        "  model = get_compiled_model(\n",
        "      width_multiplier=width_multiplier,\n",
        "      params=params)\n",
        "  model.summary()\n",
        "\n",
        "  model_history = model.fit(\n",
        "      x_train, \n",
        "      y_train, \n",
        "      batch_size=batch_size, \n",
        "      epochs=epochs, \n",
        "      validation_data=(x_test, y_test),\n",
        "      callbacks=[best_checkpoint_callback(model_name)],\n",
        "      shuffle=True)\n",
        "\n",
        "  return model, model_history.history"
      ]
    },
    {
      "cell_type": "markdown",
      "metadata": {
        "id": "kjJ2rsUtgRqk"
      },
      "source": [
        "# Training models solo."
      ]
    },
    {
      "cell_type": "markdown",
      "metadata": {
        "id": "E8-O35EjgtgT"
      },
      "source": [
        "## Train a large model with `width_multiplier`=1.0."
      ]
    },
    {
      "cell_type": "code",
      "execution_count": 44,
      "metadata": {
        "colab": {
          "base_uri": "https://localhost:8080/"
        },
        "id": "JZzNFk1OcbHN",
        "outputId": "0ea468fd-c505-469c-e3be-07b8df6a0273"
      },
      "outputs": [
        {
          "name": "stdout",
          "output_type": "stream",
          "text": [
            "Model: \"model_6\"\n",
            "_________________________________________________________________\n",
            " Layer (type)                Output Shape              Param #   \n",
            "=================================================================\n",
            " input_6 (InputLayer)        [(None, 124, 129)]        0         \n",
            "                                                                 \n",
            " conv1d_30 (Conv1D)          (None, 124, 32)           37184     \n",
            "                                                                 \n",
            " batch_normalization_30 (Bat  (None, 124, 32)          128       \n",
            " chNormalization)                                                \n",
            "                                                                 \n",
            " conv1d_31 (Conv1D)          (None, 124, 32)           9248      \n",
            "                                                                 \n",
            " batch_normalization_31 (Bat  (None, 124, 32)          128       \n",
            " chNormalization)                                                \n",
            "                                                                 \n",
            " max_pooling1d_15 (MaxPoolin  (None, 31, 32)           0         \n",
            " g1D)                                                            \n",
            "                                                                 \n",
            " dropout_25 (Dropout)        (None, 31, 32)            0         \n",
            "                                                                 \n",
            " conv1d_32 (Conv1D)          (None, 31, 64)            18496     \n",
            "                                                                 \n",
            " batch_normalization_32 (Bat  (None, 31, 64)           256       \n",
            " chNormalization)                                                \n",
            "                                                                 \n",
            " conv1d_33 (Conv1D)          (None, 31, 64)            36928     \n",
            "                                                                 \n",
            " batch_normalization_33 (Bat  (None, 31, 64)           256       \n",
            " chNormalization)                                                \n",
            "                                                                 \n",
            " max_pooling1d_16 (MaxPoolin  (None, 7, 64)            0         \n",
            " g1D)                                                            \n",
            "                                                                 \n",
            " dropout_26 (Dropout)        (None, 7, 64)             0         \n",
            "                                                                 \n",
            " conv1d_34 (Conv1D)          (None, 7, 128)            73856     \n",
            "                                                                 \n",
            " batch_normalization_34 (Bat  (None, 7, 128)           512       \n",
            " chNormalization)                                                \n",
            "                                                                 \n",
            " conv1d_35 (Conv1D)          (None, 7, 128)            147584    \n",
            "                                                                 \n",
            " batch_normalization_35 (Bat  (None, 7, 128)           512       \n",
            " chNormalization)                                                \n",
            "                                                                 \n",
            " max_pooling1d_17 (MaxPoolin  (None, 1, 128)           0         \n",
            " g1D)                                                            \n",
            "                                                                 \n",
            " dropout_27 (Dropout)        (None, 1, 128)            0         \n",
            "                                                                 \n",
            " flatten_5 (Flatten)         (None, 128)               0         \n",
            "                                                                 \n",
            " dropout_28 (Dropout)        (None, 128)               0         \n",
            "                                                                 \n",
            " dense_10 (Dense)            (None, 512)               66048     \n",
            "                                                                 \n",
            " dropout_29 (Dropout)        (None, 512)               0         \n",
            "                                                                 \n",
            " dense_11 (Dense)            (None, 12)                6156      \n",
            "                                                                 \n",
            " activation_5 (Activation)   (None, 12)                0         \n",
            "                                                                 \n",
            "=================================================================\n",
            "Total params: 397,292\n",
            "Trainable params: 396,396\n",
            "Non-trainable params: 896\n",
            "_________________________________________________________________\n",
            "Epoch 1/50\n",
            "125/125 [==============================] - 8s 38ms/step - loss: 1.9617 - categorical_accuracy: 0.5977 - val_loss: 2.7071 - val_categorical_accuracy: 0.1157\n",
            "Epoch 2/50\n",
            "125/125 [==============================] - 4s 30ms/step - loss: 1.5336 - categorical_accuracy: 0.6323 - val_loss: 2.6023 - val_categorical_accuracy: 0.1170\n",
            "Epoch 3/50\n",
            "125/125 [==============================] - 4s 29ms/step - loss: 1.3866 - categorical_accuracy: 0.6407 - val_loss: 2.4660 - val_categorical_accuracy: 0.1689\n",
            "Epoch 4/50\n",
            "125/125 [==============================] - 4s 29ms/step - loss: 1.2344 - categorical_accuracy: 0.6629 - val_loss: 1.8958 - val_categorical_accuracy: 0.3446\n",
            "Epoch 5/50\n",
            "125/125 [==============================] - 3s 26ms/step - loss: 1.1185 - categorical_accuracy: 0.6926 - val_loss: 1.3788 - val_categorical_accuracy: 0.5249\n",
            "Epoch 6/50\n",
            "125/125 [==============================] - 4s 32ms/step - loss: 0.9983 - categorical_accuracy: 0.7194 - val_loss: 1.3032 - val_categorical_accuracy: 0.5892\n",
            "Epoch 7/50\n",
            "125/125 [==============================] - 3s 27ms/step - loss: 0.9122 - categorical_accuracy: 0.7457 - val_loss: 1.1446 - val_categorical_accuracy: 0.6740\n",
            "Epoch 8/50\n",
            "125/125 [==============================] - 3s 26ms/step - loss: 0.8529 - categorical_accuracy: 0.7659 - val_loss: 1.0489 - val_categorical_accuracy: 0.6818\n",
            "Epoch 9/50\n",
            "125/125 [==============================] - 4s 29ms/step - loss: 0.7973 - categorical_accuracy: 0.7820 - val_loss: 0.9825 - val_categorical_accuracy: 0.7051\n",
            "Epoch 10/50\n",
            "125/125 [==============================] - 3s 23ms/step - loss: 0.7473 - categorical_accuracy: 0.7986 - val_loss: 0.8929 - val_categorical_accuracy: 0.7519\n",
            "Epoch 11/50\n",
            "125/125 [==============================] - 2s 17ms/step - loss: 0.7047 - categorical_accuracy: 0.8169 - val_loss: 0.8422 - val_categorical_accuracy: 0.7605\n",
            "Epoch 12/50\n",
            "125/125 [==============================] - 2s 17ms/step - loss: 0.6770 - categorical_accuracy: 0.8282 - val_loss: 0.8266 - val_categorical_accuracy: 0.7787\n",
            "Epoch 13/50\n",
            "125/125 [==============================] - 2s 17ms/step - loss: 0.6584 - categorical_accuracy: 0.8350 - val_loss: 0.7313 - val_categorical_accuracy: 0.8098\n",
            "Epoch 14/50\n",
            "125/125 [==============================] - 2s 17ms/step - loss: 0.6274 - categorical_accuracy: 0.8451 - val_loss: 0.7050 - val_categorical_accuracy: 0.8164\n",
            "Epoch 15/50\n",
            "125/125 [==============================] - 2s 17ms/step - loss: 0.6002 - categorical_accuracy: 0.8534 - val_loss: 0.6933 - val_categorical_accuracy: 0.8180\n",
            "Epoch 16/50\n",
            "125/125 [==============================] - 2s 17ms/step - loss: 0.5845 - categorical_accuracy: 0.8637 - val_loss: 0.6893 - val_categorical_accuracy: 0.8237\n",
            "Epoch 17/50\n",
            "125/125 [==============================] - 2s 17ms/step - loss: 0.5628 - categorical_accuracy: 0.8676 - val_loss: 0.7611 - val_categorical_accuracy: 0.8053\n",
            "Epoch 18/50\n",
            "125/125 [==============================] - 2s 17ms/step - loss: 0.5631 - categorical_accuracy: 0.8679 - val_loss: 0.6873 - val_categorical_accuracy: 0.8262\n",
            "Epoch 19/50\n",
            "125/125 [==============================] - 2s 17ms/step - loss: 0.5361 - categorical_accuracy: 0.8746 - val_loss: 0.6855 - val_categorical_accuracy: 0.8344\n",
            "Epoch 20/50\n",
            "125/125 [==============================] - 2s 17ms/step - loss: 0.5191 - categorical_accuracy: 0.8842 - val_loss: 0.7037 - val_categorical_accuracy: 0.8307\n",
            "Epoch 21/50\n",
            "125/125 [==============================] - 2s 16ms/step - loss: 0.5128 - categorical_accuracy: 0.8856 - val_loss: 0.7335 - val_categorical_accuracy: 0.8182\n",
            "Epoch 22/50\n",
            "125/125 [==============================] - 2s 17ms/step - loss: 0.5111 - categorical_accuracy: 0.8838 - val_loss: 0.7143 - val_categorical_accuracy: 0.8207\n",
            "Epoch 23/50\n",
            "125/125 [==============================] - 2s 17ms/step - loss: 0.4928 - categorical_accuracy: 0.8891 - val_loss: 0.6116 - val_categorical_accuracy: 0.8611\n",
            "Epoch 24/50\n",
            "125/125 [==============================] - 2s 17ms/step - loss: 0.4877 - categorical_accuracy: 0.8924 - val_loss: 0.6304 - val_categorical_accuracy: 0.8466\n",
            "Epoch 25/50\n",
            "125/125 [==============================] - 2s 17ms/step - loss: 0.4937 - categorical_accuracy: 0.8914 - val_loss: 0.6152 - val_categorical_accuracy: 0.8587\n",
            "Epoch 26/50\n",
            "125/125 [==============================] - 2s 17ms/step - loss: 0.4840 - categorical_accuracy: 0.8950 - val_loss: 0.6238 - val_categorical_accuracy: 0.8503\n",
            "Epoch 27/50\n",
            "125/125 [==============================] - 2s 16ms/step - loss: 0.4638 - categorical_accuracy: 0.8983 - val_loss: 0.6454 - val_categorical_accuracy: 0.8487\n",
            "Epoch 28/50\n",
            "125/125 [==============================] - 2s 16ms/step - loss: 0.4681 - categorical_accuracy: 0.8991 - val_loss: 0.6382 - val_categorical_accuracy: 0.8575\n",
            "Epoch 29/50\n",
            "125/125 [==============================] - 2s 16ms/step - loss: 0.4522 - categorical_accuracy: 0.9032 - val_loss: 0.6972 - val_categorical_accuracy: 0.8256\n",
            "Epoch 30/50\n",
            "125/125 [==============================] - 2s 17ms/step - loss: 0.4529 - categorical_accuracy: 0.9037 - val_loss: 0.6945 - val_categorical_accuracy: 0.8397\n",
            "Epoch 31/50\n",
            "125/125 [==============================] - 2s 17ms/step - loss: 0.4532 - categorical_accuracy: 0.9048 - val_loss: 0.6394 - val_categorical_accuracy: 0.8505\n",
            "Epoch 32/50\n",
            "125/125 [==============================] - 2s 17ms/step - loss: 0.4423 - categorical_accuracy: 0.9118 - val_loss: 0.6214 - val_categorical_accuracy: 0.8552\n",
            "Epoch 33/50\n",
            "125/125 [==============================] - 2s 17ms/step - loss: 0.4387 - categorical_accuracy: 0.9098 - val_loss: 0.5307 - val_categorical_accuracy: 0.8824\n",
            "Epoch 34/50\n",
            "125/125 [==============================] - 2s 17ms/step - loss: 0.4361 - categorical_accuracy: 0.9112 - val_loss: 0.5793 - val_categorical_accuracy: 0.8718\n",
            "Epoch 35/50\n",
            "125/125 [==============================] - 2s 17ms/step - loss: 0.4256 - categorical_accuracy: 0.9124 - val_loss: 0.6622 - val_categorical_accuracy: 0.8438\n",
            "Epoch 36/50\n",
            "125/125 [==============================] - 2s 17ms/step - loss: 0.4203 - categorical_accuracy: 0.9166 - val_loss: 0.6834 - val_categorical_accuracy: 0.8452\n",
            "Epoch 37/50\n",
            "125/125 [==============================] - 2s 17ms/step - loss: 0.4197 - categorical_accuracy: 0.9165 - val_loss: 0.5544 - val_categorical_accuracy: 0.8742\n",
            "Epoch 38/50\n",
            "125/125 [==============================] - 2s 16ms/step - loss: 0.4239 - categorical_accuracy: 0.9158 - val_loss: 0.6546 - val_categorical_accuracy: 0.8532\n",
            "Epoch 39/50\n",
            "125/125 [==============================] - 2s 17ms/step - loss: 0.4217 - categorical_accuracy: 0.9133 - val_loss: 0.5379 - val_categorical_accuracy: 0.8828\n",
            "Epoch 40/50\n",
            "125/125 [==============================] - 2s 17ms/step - loss: 0.4163 - categorical_accuracy: 0.9183 - val_loss: 0.6298 - val_categorical_accuracy: 0.8591\n",
            "Epoch 41/50\n",
            "125/125 [==============================] - 2s 16ms/step - loss: 0.4071 - categorical_accuracy: 0.9208 - val_loss: 0.6018 - val_categorical_accuracy: 0.8708\n",
            "Epoch 42/50\n",
            "125/125 [==============================] - 2s 16ms/step - loss: 0.4144 - categorical_accuracy: 0.9166 - val_loss: 0.6456 - val_categorical_accuracy: 0.8528\n",
            "Epoch 43/50\n",
            "125/125 [==============================] - 2s 16ms/step - loss: 0.3944 - categorical_accuracy: 0.9228 - val_loss: 0.5924 - val_categorical_accuracy: 0.8773\n",
            "Epoch 44/50\n",
            "125/125 [==============================] - 2s 16ms/step - loss: 0.4015 - categorical_accuracy: 0.9221 - val_loss: 0.6470 - val_categorical_accuracy: 0.8597\n",
            "Epoch 45/50\n",
            "125/125 [==============================] - 3s 23ms/step - loss: 0.3963 - categorical_accuracy: 0.9236 - val_loss: 0.6353 - val_categorical_accuracy: 0.8677\n",
            "Epoch 46/50\n",
            "125/125 [==============================] - 2s 17ms/step - loss: 0.3968 - categorical_accuracy: 0.9233 - val_loss: 0.5751 - val_categorical_accuracy: 0.8771\n",
            "Epoch 47/50\n",
            "125/125 [==============================] - 2s 16ms/step - loss: 0.3913 - categorical_accuracy: 0.9243 - val_loss: 0.6237 - val_categorical_accuracy: 0.8703\n",
            "Epoch 48/50\n",
            "125/125 [==============================] - 2s 16ms/step - loss: 0.4006 - categorical_accuracy: 0.9239 - val_loss: 0.7575 - val_categorical_accuracy: 0.8442\n",
            "Epoch 49/50\n",
            "125/125 [==============================] - 2s 16ms/step - loss: 0.3926 - categorical_accuracy: 0.9248 - val_loss: 0.6319 - val_categorical_accuracy: 0.8650\n",
            "Epoch 50/50\n",
            "125/125 [==============================] - 2s 16ms/step - loss: 0.4028 - categorical_accuracy: 0.9216 - val_loss: 0.5855 - val_categorical_accuracy: 0.8757\n"
          ]
        }
      ],
      "source": [
        "width_multiplier = 1.0\n",
        "params = {\n",
        "    'learning_rate': 1e-3,\n",
        "    'dropout_rate': 0.5,\n",
        "}\n",
        "model_wm_10, _ = train_model(\n",
        "    width_multiplier, params, epochs=50)"
      ]
    },
    {
      "cell_type": "code",
      "execution_count": 45,
      "metadata": {
        "id": "HKfMtOyUrVGo"
      },
      "outputs": [],
      "source": [
        "# Create a new Model object from the previously trained model with just the \n",
        "# logits layer. We will copy it's weights from the best checkpoint so far.\n",
        "# This model will be used as the teacher, to extract the logits.\n",
        "model_wm_10_without_softmax = tf.keras.Model(\n",
        "    inputs=model_wm_10.inputs,\n",
        "    outputs=model_wm_10.layers[-2].output)\n",
        "model_wm_10_without_softmax.compile(metrics='categorical_accuracy')"
      ]
    },
    {
      "cell_type": "code",
      "execution_count": 46,
      "metadata": {
        "colab": {
          "base_uri": "https://localhost:8080/"
        },
        "id": "shlhSuP7HHrR",
        "outputId": "e395563d-5123-42c1-d42c-d5127873fbcb"
      },
      "outputs": [
        {
          "name": "stdout",
          "output_type": "stream",
          "text": [
            "153/153 [==============================] - 1s 5ms/step - loss: 0.1388 - categorical_accuracy: 0.8828\n"
          ]
        },
        {
          "data": {
            "text/plain": [
              "[0.13881129026412964, 0.8828220963478088]"
            ]
          },
          "execution_count": 46,
          "metadata": {},
          "output_type": "execute_result"
        }
      ],
      "source": [
        "# Load the weights and evaluate the model.\n",
        "# Even though the previous Model object's output was probabilities, and this new\n",
        "# model's output are the logits, it is essentially the same because the logits\n",
        "# will retain the same order as the probabilities. Thus, for the accuracy metric\n",
        "# they are identical.\n",
        "model_wm_10_without_softmax = load_best_checkpoint(\n",
        "    model_wm_10_without_softmax, \n",
        "    get_model_name(1.0))\n",
        "model_wm_10_without_softmax.evaluate(x_test, y_test)"
      ]
    },
    {
      "cell_type": "markdown",
      "metadata": {
        "id": "EjReW1TMgX07"
      },
      "source": [
        "## Train a smaller model with `width_multiplier`=0.1"
      ]
    },
    {
      "cell_type": "code",
      "execution_count": 47,
      "metadata": {
        "colab": {
          "base_uri": "https://localhost:8080/"
        },
        "id": "5e3KgiwJud7T",
        "outputId": "3ed8fd53-b973-4fdb-9c8b-e84ff8a182c1"
      },
      "outputs": [
        {
          "name": "stdout",
          "output_type": "stream",
          "text": [
            "Model: \"model_8\"\n",
            "_________________________________________________________________\n",
            " Layer (type)                Output Shape              Param #   \n",
            "=================================================================\n",
            " input_7 (InputLayer)        [(None, 124, 129)]        0         \n",
            "                                                                 \n",
            " conv1d_36 (Conv1D)          (None, 124, 32)           37184     \n",
            "                                                                 \n",
            " batch_normalization_36 (Bat  (None, 124, 32)          128       \n",
            " chNormalization)                                                \n",
            "                                                                 \n",
            " conv1d_37 (Conv1D)          (None, 124, 32)           9248      \n",
            "                                                                 \n",
            " batch_normalization_37 (Bat  (None, 124, 32)          128       \n",
            " chNormalization)                                                \n",
            "                                                                 \n",
            " max_pooling1d_18 (MaxPoolin  (None, 31, 32)           0         \n",
            " g1D)                                                            \n",
            "                                                                 \n",
            " dropout_30 (Dropout)        (None, 31, 32)            0         \n",
            "                                                                 \n",
            " conv1d_38 (Conv1D)          (None, 31, 6)             1734      \n",
            "                                                                 \n",
            " batch_normalization_38 (Bat  (None, 31, 6)            24        \n",
            " chNormalization)                                                \n",
            "                                                                 \n",
            " conv1d_39 (Conv1D)          (None, 31, 6)             330       \n",
            "                                                                 \n",
            " batch_normalization_39 (Bat  (None, 31, 6)            24        \n",
            " chNormalization)                                                \n",
            "                                                                 \n",
            " max_pooling1d_19 (MaxPoolin  (None, 7, 6)             0         \n",
            " g1D)                                                            \n",
            "                                                                 \n",
            " dropout_31 (Dropout)        (None, 7, 6)              0         \n",
            "                                                                 \n",
            " conv1d_40 (Conv1D)          (None, 7, 13)             715       \n",
            "                                                                 \n",
            " batch_normalization_40 (Bat  (None, 7, 13)            52        \n",
            " chNormalization)                                                \n",
            "                                                                 \n",
            " conv1d_41 (Conv1D)          (None, 7, 13)             1534      \n",
            "                                                                 \n",
            " batch_normalization_41 (Bat  (None, 7, 13)            52        \n",
            " chNormalization)                                                \n",
            "                                                                 \n",
            " max_pooling1d_20 (MaxPoolin  (None, 1, 13)            0         \n",
            " g1D)                                                            \n",
            "                                                                 \n",
            " dropout_32 (Dropout)        (None, 1, 13)             0         \n",
            "                                                                 \n",
            " flatten_6 (Flatten)         (None, 13)                0         \n",
            "                                                                 \n",
            " dropout_33 (Dropout)        (None, 13)                0         \n",
            "                                                                 \n",
            " dense_12 (Dense)            (None, 51)                714       \n",
            "                                                                 \n",
            " dropout_34 (Dropout)        (None, 51)                0         \n",
            "                                                                 \n",
            " dense_13 (Dense)            (None, 12)                624       \n",
            "                                                                 \n",
            " activation_6 (Activation)   (None, 12)                0         \n",
            "                                                                 \n",
            "=================================================================\n",
            "Total params: 52,491\n",
            "Trainable params: 52,287\n",
            "Non-trainable params: 204\n",
            "_________________________________________________________________\n",
            "Epoch 1/100\n",
            "125/125 [==============================] - 4s 20ms/step - loss: 1.8408 - categorical_accuracy: 0.5831 - val_loss: 2.5662 - val_categorical_accuracy: 0.0834\n",
            "Epoch 2/100\n",
            "125/125 [==============================] - 2s 17ms/step - loss: 1.5455 - categorical_accuracy: 0.6346 - val_loss: 2.6338 - val_categorical_accuracy: 0.0834\n",
            "Epoch 3/100\n",
            "125/125 [==============================] - 2s 16ms/step - loss: 1.4501 - categorical_accuracy: 0.6358 - val_loss: 2.6169 - val_categorical_accuracy: 0.0834\n",
            "Epoch 4/100\n",
            "125/125 [==============================] - 2s 17ms/step - loss: 1.3605 - categorical_accuracy: 0.6372 - val_loss: 2.4593 - val_categorical_accuracy: 0.1082\n",
            "Epoch 5/100\n",
            "125/125 [==============================] - 2s 17ms/step - loss: 1.2920 - categorical_accuracy: 0.6417 - val_loss: 2.4205 - val_categorical_accuracy: 0.1450\n",
            "Epoch 6/100\n",
            "125/125 [==============================] - 2s 17ms/step - loss: 1.2117 - categorical_accuracy: 0.6546 - val_loss: 2.2310 - val_categorical_accuracy: 0.1804\n",
            "Epoch 7/100\n",
            "125/125 [==============================] - 2s 17ms/step - loss: 1.1499 - categorical_accuracy: 0.6644 - val_loss: 2.0380 - val_categorical_accuracy: 0.2558\n",
            "Epoch 8/100\n",
            "125/125 [==============================] - 2s 17ms/step - loss: 1.0816 - categorical_accuracy: 0.6758 - val_loss: 1.8470 - val_categorical_accuracy: 0.3037\n",
            "Epoch 9/100\n",
            "125/125 [==============================] - 2s 16ms/step - loss: 1.0249 - categorical_accuracy: 0.6848 - val_loss: 1.9279 - val_categorical_accuracy: 0.2685\n",
            "Epoch 10/100\n",
            "125/125 [==============================] - 2s 17ms/step - loss: 0.9780 - categorical_accuracy: 0.6930 - val_loss: 1.6702 - val_categorical_accuracy: 0.3309\n",
            "Epoch 11/100\n",
            "125/125 [==============================] - 2s 17ms/step - loss: 0.9233 - categorical_accuracy: 0.7048 - val_loss: 1.5650 - val_categorical_accuracy: 0.3742\n",
            "Epoch 12/100\n",
            "125/125 [==============================] - 2s 17ms/step - loss: 0.8787 - categorical_accuracy: 0.7106 - val_loss: 1.5544 - val_categorical_accuracy: 0.3873\n",
            "Epoch 13/100\n",
            "125/125 [==============================] - 2s 17ms/step - loss: 0.8356 - categorical_accuracy: 0.7253 - val_loss: 1.4668 - val_categorical_accuracy: 0.4693\n",
            "Epoch 14/100\n",
            "125/125 [==============================] - 2s 16ms/step - loss: 0.8046 - categorical_accuracy: 0.7284 - val_loss: 1.3237 - val_categorical_accuracy: 0.5282\n",
            "Epoch 15/100\n",
            "125/125 [==============================] - 2s 16ms/step - loss: 0.7862 - categorical_accuracy: 0.7391 - val_loss: 1.3919 - val_categorical_accuracy: 0.5247\n",
            "Epoch 16/100\n",
            "125/125 [==============================] - 2s 17ms/step - loss: 0.7548 - categorical_accuracy: 0.7434 - val_loss: 1.3799 - val_categorical_accuracy: 0.5313\n",
            "Epoch 17/100\n",
            "125/125 [==============================] - 2s 17ms/step - loss: 0.7433 - categorical_accuracy: 0.7454 - val_loss: 1.1901 - val_categorical_accuracy: 0.5904\n",
            "Epoch 18/100\n",
            "125/125 [==============================] - 2s 16ms/step - loss: 0.7159 - categorical_accuracy: 0.7616 - val_loss: 1.3099 - val_categorical_accuracy: 0.5693\n",
            "Epoch 19/100\n",
            "125/125 [==============================] - 2s 17ms/step - loss: 0.7025 - categorical_accuracy: 0.7646 - val_loss: 1.1818 - val_categorical_accuracy: 0.6145\n",
            "Epoch 20/100\n",
            "125/125 [==============================] - 2s 17ms/step - loss: 0.6895 - categorical_accuracy: 0.7686 - val_loss: 1.1421 - val_categorical_accuracy: 0.6067\n",
            "Epoch 21/100\n",
            "125/125 [==============================] - 2s 17ms/step - loss: 0.6626 - categorical_accuracy: 0.7761 - val_loss: 1.1016 - val_categorical_accuracy: 0.6468\n",
            "Epoch 22/100\n",
            "125/125 [==============================] - 2s 16ms/step - loss: 0.6603 - categorical_accuracy: 0.7823 - val_loss: 1.1062 - val_categorical_accuracy: 0.6460\n",
            "Epoch 23/100\n",
            "125/125 [==============================] - 2s 16ms/step - loss: 0.6429 - categorical_accuracy: 0.7884 - val_loss: 1.1754 - val_categorical_accuracy: 0.6164\n",
            "Epoch 24/100\n",
            "125/125 [==============================] - 2s 16ms/step - loss: 0.6409 - categorical_accuracy: 0.7896 - val_loss: 1.2199 - val_categorical_accuracy: 0.6204\n",
            "Epoch 25/100\n",
            "125/125 [==============================] - 2s 16ms/step - loss: 0.6227 - categorical_accuracy: 0.7944 - val_loss: 1.2073 - val_categorical_accuracy: 0.6303\n",
            "Epoch 26/100\n",
            "125/125 [==============================] - 2s 17ms/step - loss: 0.6042 - categorical_accuracy: 0.8026 - val_loss: 1.0402 - val_categorical_accuracy: 0.6685\n",
            "Epoch 27/100\n",
            "125/125 [==============================] - 2s 16ms/step - loss: 0.5955 - categorical_accuracy: 0.8048 - val_loss: 1.0905 - val_categorical_accuracy: 0.6497\n",
            "Epoch 28/100\n",
            "125/125 [==============================] - 2s 16ms/step - loss: 0.5873 - categorical_accuracy: 0.8113 - val_loss: 1.0855 - val_categorical_accuracy: 0.6634\n",
            "Epoch 29/100\n",
            "125/125 [==============================] - 2s 16ms/step - loss: 0.5928 - categorical_accuracy: 0.8129 - val_loss: 1.2199 - val_categorical_accuracy: 0.6241\n",
            "Epoch 30/100\n",
            "125/125 [==============================] - 2s 17ms/step - loss: 0.5797 - categorical_accuracy: 0.8166 - val_loss: 0.8795 - val_categorical_accuracy: 0.7190\n",
            "Epoch 31/100\n",
            "125/125 [==============================] - 2s 16ms/step - loss: 0.5656 - categorical_accuracy: 0.8202 - val_loss: 0.9618 - val_categorical_accuracy: 0.7010\n",
            "Epoch 32/100\n",
            "125/125 [==============================] - 2s 17ms/step - loss: 0.5742 - categorical_accuracy: 0.8198 - val_loss: 0.9353 - val_categorical_accuracy: 0.7043\n",
            "Epoch 33/100\n",
            "125/125 [==============================] - 2s 16ms/step - loss: 0.5537 - categorical_accuracy: 0.8239 - val_loss: 1.0964 - val_categorical_accuracy: 0.6669\n",
            "Epoch 34/100\n",
            "125/125 [==============================] - 2s 16ms/step - loss: 0.5468 - categorical_accuracy: 0.8279 - val_loss: 1.1632 - val_categorical_accuracy: 0.6616\n",
            "Epoch 35/100\n",
            "125/125 [==============================] - 2s 16ms/step - loss: 0.5552 - categorical_accuracy: 0.8305 - val_loss: 0.9557 - val_categorical_accuracy: 0.6961\n",
            "Epoch 36/100\n",
            "125/125 [==============================] - 2s 16ms/step - loss: 0.5336 - categorical_accuracy: 0.8328 - val_loss: 1.0081 - val_categorical_accuracy: 0.6885\n",
            "Epoch 37/100\n",
            "125/125 [==============================] - 2s 16ms/step - loss: 0.5319 - categorical_accuracy: 0.8392 - val_loss: 1.0831 - val_categorical_accuracy: 0.6601\n",
            "Epoch 38/100\n",
            "125/125 [==============================] - 2s 16ms/step - loss: 0.5306 - categorical_accuracy: 0.8378 - val_loss: 1.1127 - val_categorical_accuracy: 0.6646\n",
            "Epoch 39/100\n",
            "125/125 [==============================] - 2s 16ms/step - loss: 0.5211 - categorical_accuracy: 0.8395 - val_loss: 0.9973 - val_categorical_accuracy: 0.6828\n",
            "Epoch 40/100\n",
            "125/125 [==============================] - 2s 16ms/step - loss: 0.5061 - categorical_accuracy: 0.8446 - val_loss: 0.9244 - val_categorical_accuracy: 0.7145\n",
            "Epoch 41/100\n",
            "125/125 [==============================] - 2s 16ms/step - loss: 0.5131 - categorical_accuracy: 0.8406 - val_loss: 0.9135 - val_categorical_accuracy: 0.6975\n",
            "Epoch 42/100\n",
            "125/125 [==============================] - 2s 16ms/step - loss: 0.5063 - categorical_accuracy: 0.8437 - val_loss: 0.9130 - val_categorical_accuracy: 0.7072\n",
            "Epoch 43/100\n",
            "125/125 [==============================] - 2s 16ms/step - loss: 0.5075 - categorical_accuracy: 0.8478 - val_loss: 1.0336 - val_categorical_accuracy: 0.6849\n",
            "Epoch 44/100\n",
            "125/125 [==============================] - 2s 16ms/step - loss: 0.4974 - categorical_accuracy: 0.8471 - val_loss: 0.9225 - val_categorical_accuracy: 0.7100\n",
            "Epoch 45/100\n",
            "125/125 [==============================] - 2s 17ms/step - loss: 0.4963 - categorical_accuracy: 0.8516 - val_loss: 0.8856 - val_categorical_accuracy: 0.7194\n",
            "Epoch 46/100\n",
            "125/125 [==============================] - 2s 17ms/step - loss: 0.4957 - categorical_accuracy: 0.8487 - val_loss: 0.8326 - val_categorical_accuracy: 0.7346\n",
            "Epoch 47/100\n",
            "125/125 [==============================] - 2s 16ms/step - loss: 0.4749 - categorical_accuracy: 0.8601 - val_loss: 0.9412 - val_categorical_accuracy: 0.7006\n",
            "Epoch 48/100\n",
            "125/125 [==============================] - 2s 16ms/step - loss: 0.4810 - categorical_accuracy: 0.8542 - val_loss: 0.9131 - val_categorical_accuracy: 0.7072\n",
            "Epoch 49/100\n",
            "125/125 [==============================] - 2s 16ms/step - loss: 0.4746 - categorical_accuracy: 0.8586 - val_loss: 0.9038 - val_categorical_accuracy: 0.7045\n",
            "Epoch 50/100\n",
            "125/125 [==============================] - 2s 16ms/step - loss: 0.4645 - categorical_accuracy: 0.8635 - val_loss: 0.9302 - val_categorical_accuracy: 0.7145\n",
            "Epoch 51/100\n",
            "125/125 [==============================] - 2s 16ms/step - loss: 0.4635 - categorical_accuracy: 0.8616 - val_loss: 0.8662 - val_categorical_accuracy: 0.7174\n",
            "Epoch 52/100\n",
            "125/125 [==============================] - 2s 16ms/step - loss: 0.4563 - categorical_accuracy: 0.8656 - val_loss: 0.8124 - val_categorical_accuracy: 0.7258\n",
            "Epoch 53/100\n",
            "125/125 [==============================] - 2s 16ms/step - loss: 0.4485 - categorical_accuracy: 0.8688 - val_loss: 0.9710 - val_categorical_accuracy: 0.7002\n",
            "Epoch 54/100\n",
            "125/125 [==============================] - 2s 16ms/step - loss: 0.4543 - categorical_accuracy: 0.8631 - val_loss: 0.8619 - val_categorical_accuracy: 0.7372\n",
            "Epoch 55/100\n",
            "125/125 [==============================] - 2s 14ms/step - loss: 0.4401 - categorical_accuracy: 0.8684 - val_loss: 0.8686 - val_categorical_accuracy: 0.7290\n",
            "Epoch 56/100\n",
            "125/125 [==============================] - 2s 14ms/step - loss: 0.4534 - categorical_accuracy: 0.8644 - val_loss: 1.0568 - val_categorical_accuracy: 0.7082\n",
            "Epoch 57/100\n",
            "125/125 [==============================] - 2s 16ms/step - loss: 0.4497 - categorical_accuracy: 0.8661 - val_loss: 0.8421 - val_categorical_accuracy: 0.7501\n",
            "Epoch 58/100\n",
            "125/125 [==============================] - 2s 16ms/step - loss: 0.4493 - categorical_accuracy: 0.8702 - val_loss: 0.8583 - val_categorical_accuracy: 0.7419\n",
            "Epoch 59/100\n",
            "125/125 [==============================] - 2s 16ms/step - loss: 0.4404 - categorical_accuracy: 0.8757 - val_loss: 0.7729 - val_categorical_accuracy: 0.7681\n",
            "Epoch 60/100\n",
            "125/125 [==============================] - 2s 16ms/step - loss: 0.4319 - categorical_accuracy: 0.8731 - val_loss: 0.8559 - val_categorical_accuracy: 0.7487\n",
            "Epoch 61/100\n",
            "125/125 [==============================] - 2s 16ms/step - loss: 0.4361 - categorical_accuracy: 0.8719 - val_loss: 0.8759 - val_categorical_accuracy: 0.7397\n",
            "Epoch 62/100\n",
            "125/125 [==============================] - 2s 16ms/step - loss: 0.4347 - categorical_accuracy: 0.8767 - val_loss: 0.8834 - val_categorical_accuracy: 0.7530\n",
            "Epoch 63/100\n",
            "125/125 [==============================] - 2s 16ms/step - loss: 0.4367 - categorical_accuracy: 0.8761 - val_loss: 0.8878 - val_categorical_accuracy: 0.7483\n",
            "Epoch 64/100\n",
            "125/125 [==============================] - 2s 15ms/step - loss: 0.4346 - categorical_accuracy: 0.8751 - val_loss: 0.7843 - val_categorical_accuracy: 0.7716\n",
            "Epoch 65/100\n",
            "125/125 [==============================] - 2s 14ms/step - loss: 0.4234 - categorical_accuracy: 0.8816 - val_loss: 0.7565 - val_categorical_accuracy: 0.7624\n",
            "Epoch 66/100\n",
            "125/125 [==============================] - 2s 14ms/step - loss: 0.4289 - categorical_accuracy: 0.8792 - val_loss: 0.7133 - val_categorical_accuracy: 0.7853\n",
            "Epoch 67/100\n",
            "125/125 [==============================] - 2s 14ms/step - loss: 0.4245 - categorical_accuracy: 0.8781 - val_loss: 0.8852 - val_categorical_accuracy: 0.7528\n",
            "Epoch 68/100\n",
            "125/125 [==============================] - 2s 17ms/step - loss: 0.4139 - categorical_accuracy: 0.8846 - val_loss: 0.8711 - val_categorical_accuracy: 0.7589\n",
            "Epoch 69/100\n",
            "125/125 [==============================] - 2s 17ms/step - loss: 0.4097 - categorical_accuracy: 0.8844 - val_loss: 0.7573 - val_categorical_accuracy: 0.7902\n",
            "Epoch 70/100\n",
            "125/125 [==============================] - 2s 16ms/step - loss: 0.4155 - categorical_accuracy: 0.8834 - val_loss: 0.9986 - val_categorical_accuracy: 0.7566\n",
            "Epoch 71/100\n",
            "125/125 [==============================] - 2s 16ms/step - loss: 0.4110 - categorical_accuracy: 0.8866 - val_loss: 0.7676 - val_categorical_accuracy: 0.7779\n",
            "Epoch 72/100\n",
            "125/125 [==============================] - 2s 19ms/step - loss: 0.4148 - categorical_accuracy: 0.8813 - val_loss: 0.8603 - val_categorical_accuracy: 0.7566\n",
            "Epoch 73/100\n",
            "125/125 [==============================] - 2s 16ms/step - loss: 0.4074 - categorical_accuracy: 0.8896 - val_loss: 0.8101 - val_categorical_accuracy: 0.7714\n",
            "Epoch 74/100\n",
            "125/125 [==============================] - 2s 17ms/step - loss: 0.4128 - categorical_accuracy: 0.8875 - val_loss: 0.8525 - val_categorical_accuracy: 0.7685\n",
            "Epoch 75/100\n",
            "125/125 [==============================] - 2s 16ms/step - loss: 0.4018 - categorical_accuracy: 0.8892 - val_loss: 0.7869 - val_categorical_accuracy: 0.7861\n",
            "Epoch 76/100\n",
            "125/125 [==============================] - 2s 16ms/step - loss: 0.4049 - categorical_accuracy: 0.8884 - val_loss: 0.9524 - val_categorical_accuracy: 0.7483\n",
            "Epoch 77/100\n",
            "125/125 [==============================] - 2s 17ms/step - loss: 0.4067 - categorical_accuracy: 0.8904 - val_loss: 0.8907 - val_categorical_accuracy: 0.7579\n",
            "Epoch 78/100\n",
            "125/125 [==============================] - 2s 16ms/step - loss: 0.3978 - categorical_accuracy: 0.8922 - val_loss: 0.8012 - val_categorical_accuracy: 0.7789\n",
            "Epoch 79/100\n",
            "125/125 [==============================] - 2s 16ms/step - loss: 0.3961 - categorical_accuracy: 0.8932 - val_loss: 0.9240 - val_categorical_accuracy: 0.7644\n",
            "Epoch 80/100\n",
            "125/125 [==============================] - 2s 16ms/step - loss: 0.3981 - categorical_accuracy: 0.8924 - val_loss: 0.8123 - val_categorical_accuracy: 0.7802\n",
            "Epoch 81/100\n",
            "125/125 [==============================] - 2s 17ms/step - loss: 0.3876 - categorical_accuracy: 0.8962 - val_loss: 0.8073 - val_categorical_accuracy: 0.7783\n",
            "Epoch 82/100\n",
            "125/125 [==============================] - 2s 17ms/step - loss: 0.3901 - categorical_accuracy: 0.8964 - val_loss: 0.8387 - val_categorical_accuracy: 0.7918\n",
            "Epoch 83/100\n",
            "125/125 [==============================] - 2s 17ms/step - loss: 0.4000 - categorical_accuracy: 0.8952 - val_loss: 0.8883 - val_categorical_accuracy: 0.7761\n",
            "Epoch 84/100\n",
            "125/125 [==============================] - 2s 17ms/step - loss: 0.3880 - categorical_accuracy: 0.8972 - val_loss: 0.8142 - val_categorical_accuracy: 0.7885\n",
            "Epoch 85/100\n",
            "125/125 [==============================] - 2s 17ms/step - loss: 0.3889 - categorical_accuracy: 0.8992 - val_loss: 0.6977 - val_categorical_accuracy: 0.8084\n",
            "Epoch 86/100\n",
            "125/125 [==============================] - 2s 16ms/step - loss: 0.3814 - categorical_accuracy: 0.8984 - val_loss: 0.8370 - val_categorical_accuracy: 0.7908\n",
            "Epoch 87/100\n",
            "125/125 [==============================] - 2s 17ms/step - loss: 0.3935 - categorical_accuracy: 0.8971 - val_loss: 0.8528 - val_categorical_accuracy: 0.7926\n",
            "Epoch 88/100\n",
            "125/125 [==============================] - 2s 16ms/step - loss: 0.3848 - categorical_accuracy: 0.9030 - val_loss: 0.8503 - val_categorical_accuracy: 0.7871\n",
            "Epoch 89/100\n",
            "125/125 [==============================] - 2s 17ms/step - loss: 0.3822 - categorical_accuracy: 0.8994 - val_loss: 0.6967 - val_categorical_accuracy: 0.8176\n",
            "Epoch 90/100\n",
            "125/125 [==============================] - 2s 17ms/step - loss: 0.3868 - categorical_accuracy: 0.9020 - val_loss: 0.8361 - val_categorical_accuracy: 0.7937\n",
            "Epoch 91/100\n",
            "125/125 [==============================] - 2s 16ms/step - loss: 0.3883 - categorical_accuracy: 0.8999 - val_loss: 0.7376 - val_categorical_accuracy: 0.8074\n",
            "Epoch 92/100\n",
            "125/125 [==============================] - 2s 17ms/step - loss: 0.3784 - categorical_accuracy: 0.9023 - val_loss: 0.7422 - val_categorical_accuracy: 0.8094\n",
            "Epoch 93/100\n",
            "125/125 [==============================] - 2s 17ms/step - loss: 0.3835 - categorical_accuracy: 0.9016 - val_loss: 0.9024 - val_categorical_accuracy: 0.7804\n",
            "Epoch 94/100\n",
            "125/125 [==============================] - 2s 16ms/step - loss: 0.3696 - categorical_accuracy: 0.9066 - val_loss: 0.8396 - val_categorical_accuracy: 0.7912\n",
            "Epoch 95/100\n",
            "125/125 [==============================] - 2s 16ms/step - loss: 0.3767 - categorical_accuracy: 0.9051 - val_loss: 0.8033 - val_categorical_accuracy: 0.8053\n",
            "Epoch 96/100\n",
            "125/125 [==============================] - 2s 16ms/step - loss: 0.3714 - categorical_accuracy: 0.9053 - val_loss: 0.9214 - val_categorical_accuracy: 0.7761\n",
            "Epoch 97/100\n",
            "125/125 [==============================] - 2s 16ms/step - loss: 0.3785 - categorical_accuracy: 0.9019 - val_loss: 0.8625 - val_categorical_accuracy: 0.8039\n",
            "Epoch 98/100\n",
            "125/125 [==============================] - 2s 16ms/step - loss: 0.3605 - categorical_accuracy: 0.9076 - val_loss: 0.9569 - val_categorical_accuracy: 0.7726\n",
            "Epoch 99/100\n",
            "125/125 [==============================] - 2s 16ms/step - loss: 0.3790 - categorical_accuracy: 0.9074 - val_loss: 0.8647 - val_categorical_accuracy: 0.7910\n",
            "Epoch 100/100\n",
            "125/125 [==============================] - 2s 16ms/step - loss: 0.3702 - categorical_accuracy: 0.9045 - val_loss: 0.8698 - val_categorical_accuracy: 0.7730\n"
          ]
        }
      ],
      "source": [
        "# Now let's train a solo model, with width_multiplier=0.1.\n",
        "width_multiplier = 0.1\n",
        "params = {\n",
        "    'learning_rate': 1e-3,\n",
        "    'dropout_rate': 0.2,\n",
        "}\n",
        "model_wm_01, model_wm_01_history = train_model(width_multiplier, params, \n",
        "                                               epochs=100)"
      ]
    },
    {
      "cell_type": "code",
      "execution_count": 48,
      "metadata": {
        "colab": {
          "base_uri": "https://localhost:8080/"
        },
        "id": "3ovPy7Uzvt29",
        "outputId": "ce92183f-32c2-45cc-f1bb-2d510ea272fd"
      },
      "outputs": [
        {
          "name": "stdout",
          "output_type": "stream",
          "text": [
            "153/153 [==============================] - 1s 5ms/step - loss: 0.6967 - categorical_accuracy: 0.8176\n"
          ]
        },
        {
          "data": {
            "text/plain": [
              "[0.6966841220855713, 0.8175868988037109]"
            ]
          },
          "execution_count": 48,
          "metadata": {},
          "output_type": "execute_result"
        }
      ],
      "source": [
        "# Let us find the best checkpoint and compute its accuracy.\n",
        "model_wm_01 = load_best_checkpoint(model_wm_01, get_model_name(0.1))\n",
        "model_wm_01.evaluate(x_test, y_test)"
      ]
    },
    {
      "cell_type": "markdown",
      "metadata": {
        "id": "Lz4JmoZAoElv"
      },
      "source": [
        "# Setting up distillation training."
      ]
    },
    {
      "cell_type": "markdown",
      "metadata": {
        "id": "CchS13Xrgz-j"
      },
      "source": [
        "### Establishing our teacher model."
      ]
    },
    {
      "cell_type": "code",
      "execution_count": 49,
      "metadata": {
        "id": "bS9MHLdtcSe0"
      },
      "outputs": [],
      "source": [
        "teacher_model = model_wm_10_without_softmax"
      ]
    },
    {
      "cell_type": "code",
      "execution_count": 50,
      "metadata": {
        "id": "450Mb9SOxq4W"
      },
      "outputs": [],
      "source": [
        "# Create the distillation labels by stacking the teacher model's outputs \n",
        "# and the ground-truth one-hot labels together.\n",
        "def get_distillation_labels(teacher_model_instance, x_ds, y_ds):\n",
        "  \"\"\"Add the teacher logits to the label tensor.\"\"\"\n",
        "  # Generate the teacher model's logits.\n",
        "  teacher_logits = teacher_model_instance.predict(x_ds)\n",
        "  # Create the stacked tensor.\n",
        "  y_dist_ds = tf.stack([y_ds, teacher_logits], axis=1)\n",
        "  return y_dist_ds"
      ]
    },
    {
      "cell_type": "code",
      "execution_count": 51,
      "metadata": {
        "id": "5KaWdUlx8GP4"
      },
      "outputs": [],
      "source": [
        "y_dist_train = get_distillation_labels(teacher_model, x_train, y_train)\n",
        "y_dist_test = get_distillation_labels(teacher_model, x_test, y_test)"
      ]
    },
    {
      "cell_type": "code",
      "execution_count": 52,
      "metadata": {
        "id": "7kQMnHQz-pCz"
      },
      "outputs": [],
      "source": [
        "def get_compiled_distillation_model(\n",
        "    width_multiplier=1.0,\n",
        "    num_classes=12,\n",
        "    params={}):\n",
        "  learning_rate = params.get('learning_rate', 1e-3)\n",
        "  temperature = params.get('temperature', 1.0)\n",
        "  distillation_weight = params.get('distillation_weight', 1.0)\n",
        "\n",
        "  model = base_model(\n",
        "      num_classes, width_multiplier=width_multiplier, params=params)\n",
        "\n",
        "  def distillation_loss_fn(y_true_combined, y_pred):\n",
        "    \"\"\"Custom distillation loss function.\"\"\"\n",
        "    # We will split the y tensor to extract the ground-truth and the teacher's\n",
        "    # soft-labels.\n",
        "    y_true_split = tf.split(y_true_combined, 2, axis=1)\n",
        "    \n",
        "    # Create the ground-truth loss function as usual.\n",
        "    ground_truth = tf.squeeze(y_true_split[0], axis=1)\n",
        "    gt_loss = tf.keras.losses.CategoricalCrossentropy()(\n",
        "      ground_truth, y_pred)\n",
        "    \n",
        "    # Create the distillation loss using the soft-labels.\n",
        "    logits = tf.squeeze(y_true_split[1], axis=1)\n",
        "    soft_labels = tf.nn.softmax(logits / temperature)\n",
        "    dist_loss = tf.keras.losses.CategoricalCrossentropy()(\n",
        "        soft_labels, y_pred)\n",
        "\n",
        "    # Combine the two into a single loss function.\n",
        "    loss = gt_loss + distillation_weight * dist_loss * (temperature ** 2.0)\n",
        "    return loss\n",
        "  \n",
        "  def categorical_accuracy(labels, model_pred):\n",
        "    # Extract the ground-truth labels.\n",
        "    ground_truth = tf.split(labels, 2, axis=1)[0]\n",
        "    ground_truth = tf.squeeze(ground_truth, axis=1)\n",
        "\n",
        "    # Compute the accuracy as usual.\n",
        "    return tf.keras.metrics.categorical_accuracy(ground_truth, model_pred)\n",
        "\n",
        "  opt = keras.optimizers.Adam(learning_rate=learning_rate)\n",
        "\n",
        "  # Compile the model with the custom loss function and metric.\n",
        "  model.compile(\n",
        "      loss=distillation_loss_fn,\n",
        "      metrics=[categorical_accuracy],\n",
        "      optimizer=opt)\n",
        "  return model\n",
        "\n",
        "def train_dist_model(width_multiplier, params={}, batch_size=128, epochs=100):\n",
        "  model_name = get_model_name(width_multiplier, distillation=True)\n",
        "\n",
        "  model = get_compiled_distillation_model(\n",
        "      width_multiplier=width_multiplier,\n",
        "      params=params)\n",
        "  model.summary()\n",
        "\n",
        "  # The change here would be that we are using the distillation labels.\n",
        "  model_history = model.fit(\n",
        "      x_train, \n",
        "      y_dist_train, \n",
        "      batch_size=batch_size, \n",
        "      epochs=epochs, \n",
        "      validation_data=(x_test, y_dist_test),\n",
        "      callbacks=[best_checkpoint_callback(model_name)],\n",
        "      shuffle=True)\n",
        "\n",
        "  return model, model_history.history"
      ]
    },
    {
      "cell_type": "markdown",
      "metadata": {
        "id": "imIj0ej7gisi"
      },
      "source": [
        "# Train the `width_multiplier`=0.1 model with distillation."
      ]
    },
    {
      "cell_type": "code",
      "execution_count": 53,
      "metadata": {
        "colab": {
          "base_uri": "https://localhost:8080/"
        },
        "id": "NZo6PPhSFeMi",
        "outputId": "9976165e-5718-4621-86c5-bedbd87719c5"
      },
      "outputs": [
        {
          "name": "stdout",
          "output_type": "stream",
          "text": [
            "Model: \"model_9\"\n",
            "_________________________________________________________________\n",
            " Layer (type)                Output Shape              Param #   \n",
            "=================================================================\n",
            " input_8 (InputLayer)        [(None, 124, 129)]        0         \n",
            "                                                                 \n",
            " conv1d_42 (Conv1D)          (None, 124, 32)           37184     \n",
            "                                                                 \n",
            " batch_normalization_42 (Bat  (None, 124, 32)          128       \n",
            " chNormalization)                                                \n",
            "                                                                 \n",
            " conv1d_43 (Conv1D)          (None, 124, 32)           9248      \n",
            "                                                                 \n",
            " batch_normalization_43 (Bat  (None, 124, 32)          128       \n",
            " chNormalization)                                                \n",
            "                                                                 \n",
            " max_pooling1d_21 (MaxPoolin  (None, 31, 32)           0         \n",
            " g1D)                                                            \n",
            "                                                                 \n",
            " dropout_35 (Dropout)        (None, 31, 32)            0         \n",
            "                                                                 \n",
            " conv1d_44 (Conv1D)          (None, 31, 6)             1734      \n",
            "                                                                 \n",
            " batch_normalization_44 (Bat  (None, 31, 6)            24        \n",
            " chNormalization)                                                \n",
            "                                                                 \n",
            " conv1d_45 (Conv1D)          (None, 31, 6)             330       \n",
            "                                                                 \n",
            " batch_normalization_45 (Bat  (None, 31, 6)            24        \n",
            " chNormalization)                                                \n",
            "                                                                 \n",
            " max_pooling1d_22 (MaxPoolin  (None, 7, 6)             0         \n",
            " g1D)                                                            \n",
            "                                                                 \n",
            " dropout_36 (Dropout)        (None, 7, 6)              0         \n",
            "                                                                 \n",
            " conv1d_46 (Conv1D)          (None, 7, 13)             715       \n",
            "                                                                 \n",
            " batch_normalization_46 (Bat  (None, 7, 13)            52        \n",
            " chNormalization)                                                \n",
            "                                                                 \n",
            " conv1d_47 (Conv1D)          (None, 7, 13)             1534      \n",
            "                                                                 \n",
            " batch_normalization_47 (Bat  (None, 7, 13)            52        \n",
            " chNormalization)                                                \n",
            "                                                                 \n",
            " max_pooling1d_23 (MaxPoolin  (None, 1, 13)            0         \n",
            " g1D)                                                            \n",
            "                                                                 \n",
            " dropout_37 (Dropout)        (None, 1, 13)             0         \n",
            "                                                                 \n",
            " flatten_7 (Flatten)         (None, 13)                0         \n",
            "                                                                 \n",
            " dropout_38 (Dropout)        (None, 13)                0         \n",
            "                                                                 \n",
            " dense_14 (Dense)            (None, 51)                714       \n",
            "                                                                 \n",
            " dropout_39 (Dropout)        (None, 51)                0         \n",
            "                                                                 \n",
            " dense_15 (Dense)            (None, 12)                624       \n",
            "                                                                 \n",
            " activation_7 (Activation)   (None, 12)                0         \n",
            "                                                                 \n",
            "=================================================================\n",
            "Total params: 52,491\n",
            "Trainable params: 52,287\n",
            "Non-trainable params: 204\n",
            "_________________________________________________________________\n",
            "Epoch 1/100\n",
            "125/125 [==============================] - 4s 20ms/step - loss: 3.5329 - categorical_accuracy: 0.5769 - val_loss: 4.9904 - val_categorical_accuracy: 0.0834\n",
            "Epoch 2/100\n",
            "125/125 [==============================] - 2s 16ms/step - loss: 2.9459 - categorical_accuracy: 0.6356 - val_loss: 4.7354 - val_categorical_accuracy: 0.0834\n",
            "Epoch 3/100\n",
            "125/125 [==============================] - 2s 17ms/step - loss: 2.7031 - categorical_accuracy: 0.6392 - val_loss: 4.4086 - val_categorical_accuracy: 0.1423\n",
            "Epoch 4/100\n",
            "125/125 [==============================] - 2s 17ms/step - loss: 2.4523 - categorical_accuracy: 0.6502 - val_loss: 3.8883 - val_categorical_accuracy: 0.2249\n",
            "Epoch 5/100\n",
            "125/125 [==============================] - 2s 17ms/step - loss: 2.2523 - categorical_accuracy: 0.6626 - val_loss: 3.4337 - val_categorical_accuracy: 0.2810\n",
            "Epoch 6/100\n",
            "125/125 [==============================] - 2s 17ms/step - loss: 2.1027 - categorical_accuracy: 0.6758 - val_loss: 3.3544 - val_categorical_accuracy: 0.3834\n",
            "Epoch 7/100\n",
            "125/125 [==============================] - 2s 17ms/step - loss: 1.9933 - categorical_accuracy: 0.6888 - val_loss: 2.9422 - val_categorical_accuracy: 0.4110\n",
            "Epoch 8/100\n",
            "125/125 [==============================] - 2s 17ms/step - loss: 1.9151 - categorical_accuracy: 0.7015 - val_loss: 2.7389 - val_categorical_accuracy: 0.4387\n",
            "Epoch 9/100\n",
            "125/125 [==============================] - 2s 17ms/step - loss: 1.8065 - categorical_accuracy: 0.7071 - val_loss: 2.7562 - val_categorical_accuracy: 0.4339\n",
            "Epoch 10/100\n",
            "125/125 [==============================] - 2s 17ms/step - loss: 1.7504 - categorical_accuracy: 0.7158 - val_loss: 2.4331 - val_categorical_accuracy: 0.5174\n",
            "Epoch 11/100\n",
            "125/125 [==============================] - 2s 17ms/step - loss: 1.6659 - categorical_accuracy: 0.7271 - val_loss: 2.3463 - val_categorical_accuracy: 0.5693\n",
            "Epoch 12/100\n",
            "125/125 [==============================] - 2s 17ms/step - loss: 1.6076 - categorical_accuracy: 0.7387 - val_loss: 2.1925 - val_categorical_accuracy: 0.6072\n",
            "Epoch 13/100\n",
            "125/125 [==============================] - 2s 17ms/step - loss: 1.5500 - categorical_accuracy: 0.7473 - val_loss: 2.2101 - val_categorical_accuracy: 0.5984\n",
            "Epoch 14/100\n",
            "125/125 [==============================] - 2s 17ms/step - loss: 1.5027 - categorical_accuracy: 0.7554 - val_loss: 2.0112 - val_categorical_accuracy: 0.6233\n",
            "Epoch 15/100\n",
            "125/125 [==============================] - 2s 17ms/step - loss: 1.4659 - categorical_accuracy: 0.7607 - val_loss: 2.0157 - val_categorical_accuracy: 0.6350\n",
            "Epoch 16/100\n",
            "125/125 [==============================] - 2s 17ms/step - loss: 1.4261 - categorical_accuracy: 0.7692 - val_loss: 1.9395 - val_categorical_accuracy: 0.6397\n",
            "Epoch 17/100\n",
            "125/125 [==============================] - 2s 18ms/step - loss: 1.3880 - categorical_accuracy: 0.7758 - val_loss: 2.0178 - val_categorical_accuracy: 0.6458\n",
            "Epoch 18/100\n",
            "125/125 [==============================] - 2s 17ms/step - loss: 1.3423 - categorical_accuracy: 0.7814 - val_loss: 1.8034 - val_categorical_accuracy: 0.6628\n",
            "Epoch 19/100\n",
            "125/125 [==============================] - 2s 20ms/step - loss: 1.3288 - categorical_accuracy: 0.7889 - val_loss: 2.1594 - val_categorical_accuracy: 0.6235\n",
            "Epoch 20/100\n",
            "125/125 [==============================] - 2s 19ms/step - loss: 1.3205 - categorical_accuracy: 0.7918 - val_loss: 1.9800 - val_categorical_accuracy: 0.6429\n",
            "Epoch 21/100\n",
            "125/125 [==============================] - 2s 17ms/step - loss: 1.2642 - categorical_accuracy: 0.7985 - val_loss: 1.8148 - val_categorical_accuracy: 0.6816\n",
            "Epoch 22/100\n",
            "125/125 [==============================] - 2s 17ms/step - loss: 1.2618 - categorical_accuracy: 0.8030 - val_loss: 1.8154 - val_categorical_accuracy: 0.6855\n",
            "Epoch 23/100\n",
            "125/125 [==============================] - 2s 18ms/step - loss: 1.2317 - categorical_accuracy: 0.8062 - val_loss: 1.7246 - val_categorical_accuracy: 0.7084\n",
            "Epoch 24/100\n",
            "125/125 [==============================] - 2s 18ms/step - loss: 1.2099 - categorical_accuracy: 0.8119 - val_loss: 1.6141 - val_categorical_accuracy: 0.7219\n",
            "Epoch 25/100\n",
            "125/125 [==============================] - 2s 17ms/step - loss: 1.1926 - categorical_accuracy: 0.8156 - val_loss: 1.8401 - val_categorical_accuracy: 0.6755\n",
            "Epoch 26/100\n",
            "125/125 [==============================] - 2s 17ms/step - loss: 1.1727 - categorical_accuracy: 0.8225 - val_loss: 1.9544 - val_categorical_accuracy: 0.6673\n",
            "Epoch 27/100\n",
            "125/125 [==============================] - 2s 18ms/step - loss: 1.1573 - categorical_accuracy: 0.8256 - val_loss: 1.6240 - val_categorical_accuracy: 0.7229\n",
            "Epoch 28/100\n",
            "125/125 [==============================] - 2s 17ms/step - loss: 1.1323 - categorical_accuracy: 0.8298 - val_loss: 1.5824 - val_categorical_accuracy: 0.7409\n",
            "Epoch 29/100\n",
            "125/125 [==============================] - 2s 17ms/step - loss: 1.1201 - categorical_accuracy: 0.8320 - val_loss: 1.6042 - val_categorical_accuracy: 0.7382\n",
            "Epoch 30/100\n",
            "125/125 [==============================] - 2s 17ms/step - loss: 1.1199 - categorical_accuracy: 0.8340 - val_loss: 1.5389 - val_categorical_accuracy: 0.7517\n",
            "Epoch 31/100\n",
            "125/125 [==============================] - 2s 17ms/step - loss: 1.1003 - categorical_accuracy: 0.8388 - val_loss: 1.6503 - val_categorical_accuracy: 0.7213\n",
            "Epoch 32/100\n",
            "125/125 [==============================] - 2s 17ms/step - loss: 1.0890 - categorical_accuracy: 0.8401 - val_loss: 1.5536 - val_categorical_accuracy: 0.7313\n",
            "Epoch 33/100\n",
            "125/125 [==============================] - 2s 17ms/step - loss: 1.0776 - categorical_accuracy: 0.8402 - val_loss: 1.5520 - val_categorical_accuracy: 0.7468\n",
            "Epoch 34/100\n",
            "125/125 [==============================] - 2s 17ms/step - loss: 1.0688 - categorical_accuracy: 0.8491 - val_loss: 1.5365 - val_categorical_accuracy: 0.7503\n",
            "Epoch 35/100\n",
            "125/125 [==============================] - 2s 17ms/step - loss: 1.0553 - categorical_accuracy: 0.8491 - val_loss: 1.5046 - val_categorical_accuracy: 0.7620\n",
            "Epoch 36/100\n",
            "125/125 [==============================] - 2s 17ms/step - loss: 1.0341 - categorical_accuracy: 0.8537 - val_loss: 1.4903 - val_categorical_accuracy: 0.7661\n",
            "Epoch 37/100\n",
            "125/125 [==============================] - 2s 17ms/step - loss: 1.0407 - categorical_accuracy: 0.8508 - val_loss: 1.5497 - val_categorical_accuracy: 0.7601\n",
            "Epoch 38/100\n",
            "125/125 [==============================] - 2s 17ms/step - loss: 1.0332 - categorical_accuracy: 0.8563 - val_loss: 1.4789 - val_categorical_accuracy: 0.7714\n",
            "Epoch 39/100\n",
            "125/125 [==============================] - 2s 15ms/step - loss: 1.0269 - categorical_accuracy: 0.8558 - val_loss: 1.4725 - val_categorical_accuracy: 0.7738\n",
            "Epoch 40/100\n",
            "125/125 [==============================] - 2s 15ms/step - loss: 1.0118 - categorical_accuracy: 0.8588 - val_loss: 1.4410 - val_categorical_accuracy: 0.7748\n",
            "Epoch 41/100\n",
            "125/125 [==============================] - 2s 17ms/step - loss: 1.0103 - categorical_accuracy: 0.8589 - val_loss: 1.7075 - val_categorical_accuracy: 0.7292\n",
            "Epoch 42/100\n",
            "125/125 [==============================] - 2s 17ms/step - loss: 0.9872 - categorical_accuracy: 0.8652 - val_loss: 1.5104 - val_categorical_accuracy: 0.7681\n",
            "Epoch 43/100\n",
            "125/125 [==============================] - 2s 17ms/step - loss: 0.9924 - categorical_accuracy: 0.8624 - val_loss: 1.6566 - val_categorical_accuracy: 0.7491\n",
            "Epoch 44/100\n",
            "125/125 [==============================] - 2s 17ms/step - loss: 0.9840 - categorical_accuracy: 0.8661 - val_loss: 1.5874 - val_categorical_accuracy: 0.7583\n",
            "Epoch 45/100\n",
            "125/125 [==============================] - 2s 18ms/step - loss: 0.9931 - categorical_accuracy: 0.8669 - val_loss: 1.5077 - val_categorical_accuracy: 0.7753\n",
            "Epoch 46/100\n",
            "125/125 [==============================] - 2s 18ms/step - loss: 0.9518 - categorical_accuracy: 0.8694 - val_loss: 1.4514 - val_categorical_accuracy: 0.7879\n",
            "Epoch 47/100\n",
            "125/125 [==============================] - 2s 17ms/step - loss: 0.9824 - categorical_accuracy: 0.8610 - val_loss: 1.5099 - val_categorical_accuracy: 0.7753\n",
            "Epoch 48/100\n",
            "125/125 [==============================] - 2s 17ms/step - loss: 0.9715 - categorical_accuracy: 0.8683 - val_loss: 1.6908 - val_categorical_accuracy: 0.7474\n",
            "Epoch 49/100\n",
            "125/125 [==============================] - 2s 17ms/step - loss: 0.9690 - categorical_accuracy: 0.8709 - val_loss: 1.5075 - val_categorical_accuracy: 0.7716\n",
            "Epoch 50/100\n",
            "125/125 [==============================] - 2s 17ms/step - loss: 0.9443 - categorical_accuracy: 0.8733 - val_loss: 1.4538 - val_categorical_accuracy: 0.7902\n",
            "Epoch 51/100\n",
            "125/125 [==============================] - 2s 17ms/step - loss: 0.9515 - categorical_accuracy: 0.8709 - val_loss: 1.4459 - val_categorical_accuracy: 0.7885\n",
            "Epoch 52/100\n",
            "125/125 [==============================] - 2s 17ms/step - loss: 0.9438 - categorical_accuracy: 0.8767 - val_loss: 1.6081 - val_categorical_accuracy: 0.7640\n",
            "Epoch 53/100\n",
            "125/125 [==============================] - 2s 17ms/step - loss: 0.9234 - categorical_accuracy: 0.8785 - val_loss: 1.5126 - val_categorical_accuracy: 0.7673\n",
            "Epoch 54/100\n",
            "125/125 [==============================] - 2s 17ms/step - loss: 0.9390 - categorical_accuracy: 0.8740 - val_loss: 1.3874 - val_categorical_accuracy: 0.8014\n",
            "Epoch 55/100\n",
            "125/125 [==============================] - 2s 17ms/step - loss: 0.9213 - categorical_accuracy: 0.8795 - val_loss: 1.4336 - val_categorical_accuracy: 0.7939\n",
            "Epoch 56/100\n",
            "125/125 [==============================] - 2s 17ms/step - loss: 0.9303 - categorical_accuracy: 0.8784 - val_loss: 1.3926 - val_categorical_accuracy: 0.7939\n",
            "Epoch 57/100\n",
            "125/125 [==============================] - 2s 17ms/step - loss: 0.9212 - categorical_accuracy: 0.8816 - val_loss: 1.4845 - val_categorical_accuracy: 0.7851\n",
            "Epoch 58/100\n",
            "125/125 [==============================] - 2s 17ms/step - loss: 0.9005 - categorical_accuracy: 0.8849 - val_loss: 1.4521 - val_categorical_accuracy: 0.7992\n",
            "Epoch 59/100\n",
            "125/125 [==============================] - 2s 17ms/step - loss: 0.9169 - categorical_accuracy: 0.8817 - val_loss: 1.3863 - val_categorical_accuracy: 0.8016\n",
            "Epoch 60/100\n",
            "125/125 [==============================] - 2s 17ms/step - loss: 0.9262 - categorical_accuracy: 0.8785 - val_loss: 1.4562 - val_categorical_accuracy: 0.7751\n",
            "Epoch 61/100\n",
            "125/125 [==============================] - 2s 17ms/step - loss: 0.9065 - categorical_accuracy: 0.8826 - val_loss: 1.4041 - val_categorical_accuracy: 0.7986\n",
            "Epoch 62/100\n",
            "125/125 [==============================] - 2s 17ms/step - loss: 0.8969 - categorical_accuracy: 0.8847 - val_loss: 1.4353 - val_categorical_accuracy: 0.8049\n",
            "Epoch 63/100\n",
            "125/125 [==============================] - 2s 17ms/step - loss: 0.8977 - categorical_accuracy: 0.8860 - val_loss: 1.2963 - val_categorical_accuracy: 0.8147\n",
            "Epoch 64/100\n",
            "125/125 [==============================] - 2s 17ms/step - loss: 0.8956 - categorical_accuracy: 0.8896 - val_loss: 1.4038 - val_categorical_accuracy: 0.8051\n",
            "Epoch 65/100\n",
            "125/125 [==============================] - 2s 17ms/step - loss: 0.8840 - categorical_accuracy: 0.8859 - val_loss: 1.4733 - val_categorical_accuracy: 0.7885\n",
            "Epoch 66/100\n",
            "125/125 [==============================] - 2s 17ms/step - loss: 0.8836 - categorical_accuracy: 0.8879 - val_loss: 1.3072 - val_categorical_accuracy: 0.8211\n",
            "Epoch 67/100\n",
            "125/125 [==============================] - 2s 17ms/step - loss: 0.8772 - categorical_accuracy: 0.8927 - val_loss: 1.4234 - val_categorical_accuracy: 0.8053\n",
            "Epoch 68/100\n",
            "125/125 [==============================] - 2s 17ms/step - loss: 0.8894 - categorical_accuracy: 0.8911 - val_loss: 1.6829 - val_categorical_accuracy: 0.7526\n",
            "Epoch 69/100\n",
            "125/125 [==============================] - 2s 17ms/step - loss: 0.8754 - categorical_accuracy: 0.8936 - val_loss: 1.7447 - val_categorical_accuracy: 0.7599\n",
            "Epoch 70/100\n",
            "125/125 [==============================] - 2s 17ms/step - loss: 0.8744 - categorical_accuracy: 0.8962 - val_loss: 1.6233 - val_categorical_accuracy: 0.7683\n",
            "Epoch 71/100\n",
            "125/125 [==============================] - 2s 17ms/step - loss: 0.8756 - categorical_accuracy: 0.8929 - val_loss: 1.4005 - val_categorical_accuracy: 0.8065\n",
            "Epoch 72/100\n",
            "125/125 [==============================] - 2s 17ms/step - loss: 0.8527 - categorical_accuracy: 0.8969 - val_loss: 1.3834 - val_categorical_accuracy: 0.8145\n",
            "Epoch 73/100\n",
            "125/125 [==============================] - 2s 17ms/step - loss: 0.8638 - categorical_accuracy: 0.8946 - val_loss: 1.3300 - val_categorical_accuracy: 0.8219\n",
            "Epoch 74/100\n",
            "125/125 [==============================] - 2s 18ms/step - loss: 0.8601 - categorical_accuracy: 0.8963 - val_loss: 1.3826 - val_categorical_accuracy: 0.8047\n",
            "Epoch 75/100\n",
            "125/125 [==============================] - 2s 18ms/step - loss: 0.8638 - categorical_accuracy: 0.9001 - val_loss: 1.3454 - val_categorical_accuracy: 0.8225\n",
            "Epoch 76/100\n",
            "125/125 [==============================] - 2s 17ms/step - loss: 0.8543 - categorical_accuracy: 0.8965 - val_loss: 1.3991 - val_categorical_accuracy: 0.8110\n",
            "Epoch 77/100\n",
            "125/125 [==============================] - 2s 17ms/step - loss: 0.8413 - categorical_accuracy: 0.8997 - val_loss: 1.5217 - val_categorical_accuracy: 0.7922\n",
            "Epoch 78/100\n",
            "125/125 [==============================] - 2s 17ms/step - loss: 0.8417 - categorical_accuracy: 0.9035 - val_loss: 1.3835 - val_categorical_accuracy: 0.8225\n",
            "Epoch 79/100\n",
            "125/125 [==============================] - 2s 17ms/step - loss: 0.8439 - categorical_accuracy: 0.9016 - val_loss: 1.3730 - val_categorical_accuracy: 0.8256\n",
            "Epoch 80/100\n",
            "125/125 [==============================] - 2s 17ms/step - loss: 0.8441 - categorical_accuracy: 0.8984 - val_loss: 1.4428 - val_categorical_accuracy: 0.8078\n",
            "Epoch 81/100\n",
            "125/125 [==============================] - 2s 17ms/step - loss: 0.8367 - categorical_accuracy: 0.9016 - val_loss: 1.3633 - val_categorical_accuracy: 0.8198\n",
            "Epoch 82/100\n",
            "125/125 [==============================] - 2s 17ms/step - loss: 0.8353 - categorical_accuracy: 0.9043 - val_loss: 1.3093 - val_categorical_accuracy: 0.8233\n",
            "Epoch 83/100\n",
            "125/125 [==============================] - 2s 17ms/step - loss: 0.8409 - categorical_accuracy: 0.9008 - val_loss: 1.3544 - val_categorical_accuracy: 0.8137\n",
            "Epoch 84/100\n",
            "125/125 [==============================] - 2s 17ms/step - loss: 0.8254 - categorical_accuracy: 0.9046 - val_loss: 1.4002 - val_categorical_accuracy: 0.8043\n",
            "Epoch 85/100\n",
            "125/125 [==============================] - 2s 17ms/step - loss: 0.8391 - categorical_accuracy: 0.9026 - val_loss: 1.3838 - val_categorical_accuracy: 0.7988\n",
            "Epoch 86/100\n",
            "125/125 [==============================] - 2s 17ms/step - loss: 0.8286 - categorical_accuracy: 0.9030 - val_loss: 1.3692 - val_categorical_accuracy: 0.8104\n",
            "Epoch 87/100\n",
            "125/125 [==============================] - 2s 17ms/step - loss: 0.8387 - categorical_accuracy: 0.9013 - val_loss: 1.3739 - val_categorical_accuracy: 0.8106\n",
            "Epoch 88/100\n",
            "125/125 [==============================] - 2s 17ms/step - loss: 0.8222 - categorical_accuracy: 0.9047 - val_loss: 1.3163 - val_categorical_accuracy: 0.8247\n",
            "Epoch 89/100\n",
            "125/125 [==============================] - 2s 17ms/step - loss: 0.8338 - categorical_accuracy: 0.9049 - val_loss: 1.3841 - val_categorical_accuracy: 0.8170\n",
            "Epoch 90/100\n",
            "125/125 [==============================] - 2s 17ms/step - loss: 0.8356 - categorical_accuracy: 0.9045 - val_loss: 1.3786 - val_categorical_accuracy: 0.8098\n",
            "Epoch 91/100\n",
            "125/125 [==============================] - 2s 17ms/step - loss: 0.8299 - categorical_accuracy: 0.9039 - val_loss: 1.3796 - val_categorical_accuracy: 0.8227\n",
            "Epoch 92/100\n",
            "125/125 [==============================] - 2s 17ms/step - loss: 0.8210 - categorical_accuracy: 0.9059 - val_loss: 1.4253 - val_categorical_accuracy: 0.8168\n",
            "Epoch 93/100\n",
            "125/125 [==============================] - 2s 18ms/step - loss: 0.8186 - categorical_accuracy: 0.9062 - val_loss: 1.2838 - val_categorical_accuracy: 0.8282\n",
            "Epoch 94/100\n",
            "125/125 [==============================] - 2s 17ms/step - loss: 0.8054 - categorical_accuracy: 0.9084 - val_loss: 1.3208 - val_categorical_accuracy: 0.8209\n",
            "Epoch 95/100\n",
            "125/125 [==============================] - 2s 17ms/step - loss: 0.8129 - categorical_accuracy: 0.9091 - val_loss: 1.5986 - val_categorical_accuracy: 0.7912\n",
            "Epoch 96/100\n",
            "125/125 [==============================] - 3s 20ms/step - loss: 0.8089 - categorical_accuracy: 0.9087 - val_loss: 1.2763 - val_categorical_accuracy: 0.8284\n",
            "Epoch 97/100\n",
            "125/125 [==============================] - 2s 17ms/step - loss: 0.8123 - categorical_accuracy: 0.9062 - val_loss: 1.3794 - val_categorical_accuracy: 0.8270\n",
            "Epoch 98/100\n",
            "125/125 [==============================] - 2s 17ms/step - loss: 0.8067 - categorical_accuracy: 0.9094 - val_loss: 1.4467 - val_categorical_accuracy: 0.8047\n",
            "Epoch 99/100\n",
            "125/125 [==============================] - 2s 17ms/step - loss: 0.8136 - categorical_accuracy: 0.9099 - val_loss: 1.3257 - val_categorical_accuracy: 0.8174\n",
            "Epoch 100/100\n",
            "125/125 [==============================] - 2s 17ms/step - loss: 0.8212 - categorical_accuracy: 0.9081 - val_loss: 1.3866 - val_categorical_accuracy: 0.8188\n"
          ]
        }
      ],
      "source": [
        "# Train a model with width_multiplier=0.1 in a distillation setting.\n",
        "width_multiplier = 0.1\n",
        "params = {\n",
        "    'learning_rate': 1e-3,\n",
        "    'dropout_rate': 0.2,\n",
        "    'distillation_weight': 1.0,\n",
        "}\n",
        "model_wm_01_dist, model_wm_01_dist_history = train_dist_model(\n",
        "    width_multiplier, params, epochs=100)"
      ]
    },
    {
      "cell_type": "code",
      "execution_count": 54,
      "metadata": {
        "colab": {
          "base_uri": "https://localhost:8080/"
        },
        "id": "huOy23jiKHH2",
        "outputId": "b62d3765-47ed-43b0-e29e-f575d8abdf36"
      },
      "outputs": [
        {
          "name": "stdout",
          "output_type": "stream",
          "text": [
            "153/153 [==============================] - 1s 5ms/step - loss: 1.2763 - categorical_accuracy: 0.8284\n"
          ]
        },
        {
          "data": {
            "text/plain": [
              "[1.276268482208252, 0.8284253478050232]"
            ]
          },
          "execution_count": 54,
          "metadata": {},
          "output_type": "execute_result"
        }
      ],
      "source": [
        "model_wm_01_dist = load_best_checkpoint(\n",
        "    model_wm_01_dist, \n",
        "    get_model_name(0.1, distillation=True))\n",
        "model_wm_01_dist.evaluate(x_test, y_dist_test)"
      ]
    },
    {
      "cell_type": "code",
      "execution_count": 55,
      "metadata": {
        "id": "YImA3TqpM7oG"
      },
      "outputs": [],
      "source": [
        "%matplotlib inline\n",
        "import matplotlib.pyplot as plt"
      ]
    },
    {
      "cell_type": "code",
      "execution_count": 60,
      "metadata": {
        "colab": {
          "base_uri": "https://localhost:8080/",
          "height": 538
        },
        "id": "s2HPwGutNHO-",
        "outputId": "af1f9cd1-99b9-4454-c94c-a87cf69de52e"
      },
      "outputs": [
        {
          "data": {
            "image/png": "[encoded data removed]",
            "text/plain": [
              "<Figure size 864x576 with 1 Axes>"
            ]
          },
          "metadata": {
            "image/png": {
              "height": 521,
              "width": 765
            }
          },
          "output_type": "display_data"
        }
      ],
      "source": [
        "fig = plt.figure()\n",
        "fig.patch.set_facecolor('white')\n",
        "\n",
        "plt.plot(model_wm_01_history['val_categorical_accuracy'],\n",
        "         label='Baseline (Test Accuracy)',\n",
        "         c='orange',ls='--')\n",
        "\n",
        "plt.plot(model_wm_01_dist_history['val_categorical_accuracy'],\n",
        "         label='Distilled (Test Accuracy)',\n",
        "         c='dodgerblue', ls='-')\n",
        "\n",
        "plt.xlabel('Epoch')\n",
        "plt.ylabel('Accuracy')\n",
        "plt.legend(loc='lower right')\n",
        "plt.show()"
      ]
    }
  ],
  "metadata": {
    "accelerator": "GPU",
    "colab": {
      "collapsed_sections": [],
      "name": "[EDL]-Speech_Distillation.ipynb",
      "provenance": []
    },
    "gpuClass": "standard",
    "kernelspec": {
      "display_name": "Python 3.9.7 64-bit",
      "language": "python",
      "name": "python3"
    },
    "language_info": {
      "name": "python",
      "version": "3.9.7"
    },
    "vscode": {
      "interpreter": {
        "hash": "aee8b7b246df8f9039afb4144a1f6fd8d2ca17a180786b69acc140d282b71a49"
      }
    }
  },
  "nbformat": 4,
  "nbformat_minor": 0
}
